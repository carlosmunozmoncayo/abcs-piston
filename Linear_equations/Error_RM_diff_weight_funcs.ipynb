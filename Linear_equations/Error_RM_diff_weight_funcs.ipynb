{
 "cells": [
  {
   "cell_type": "markdown",
   "metadata": {},
   "source": [
    "### Computing errors associated with the choice of weight function for the RM\n",
    "#### Used for Table 2 "
   ]
  },
  {
   "cell_type": "markdown",
   "metadata": {},
   "source": [
    "Imports"
   ]
  },
  {
   "cell_type": "code",
   "execution_count": null,
   "metadata": {},
   "outputs": [],
   "source": [
    "import numpy as np\n",
    "import matplotlib.pyplot as plt\n",
    "from piston_Lagrangian import setup\n",
    "from utils import max_error"
   ]
  },
  {
   "cell_type": "markdown",
   "metadata": {},
   "source": [
    "Compute a reference solution"
   ]
  },
  {
   "cell_type": "code",
   "execution_count": null,
   "metadata": {},
   "outputs": [],
   "source": [
    "p = 20 #Number of  periods\n",
    "p_domain = 30 #Number of periods in the domain\n",
    "xmax1 = p_domain*2*np.pi\n",
    "N = 250 #Cells per period at final time\n",
    "mx1 = p_domain*N#int(N*(xmax1/p)) #Number of grid points\n",
    "M = 0.4 \n",
    "piston_freq=1.\n",
    "tfinal = p*2*np.pi\n",
    "piston_problem1 = setup(tfinal=tfinal, xmax=xmax1, mx=mx1, M=M, CFL=0.8,limiting=1,solver_type='sharpclaw',\n",
    "order=2, time_integrator='Heun', euler_RS='euler', nout=100,\n",
    "piston_freq=piston_freq)\n",
    "piston_problem1.verbosity = 0\n",
    "piston_problem1.run()\n",
    "piston_problem1.solver.__del__() #Deallocation of Fortran arrays"
   ]
  },
  {
   "cell_type": "code",
   "execution_count": null,
   "metadata": {},
   "outputs": [],
   "source": [
    "#Combinations of s and d\n",
    "combination_names = [\"RM \"+r\"\\Gamma_A\",\"RM \"+r\"\\Gamma_B\",\"RM-M \"+r\"\\Gamma_A\",\"RM-M \"+r\"\\Gamma_B\"]\n",
    "methods=[\"RM\",\"RM-M\"]\n",
    "list_functions = [\"Engsig-Karup2\",\"Mayer\"]\n",
    "list_combinations = [(0,0),(0,1),(1,0),(1,1)]\n",
    "matrix_filters = [False,True]\n",
    "far_field_damping = False #Exponential far_field_damping (w. source term)\n",
    "scalar_far_field =False\n",
    "relaxation_method = True\n",
    "integral_source = False\n",
    "euler_RS = 'euler'\n",
    "solver_class = 'sharpclaw_custom'\n",
    "Strang = False\n",
    "before_stage = False"
   ]
  },
  {
   "cell_type": "markdown",
   "metadata": {},
   "source": [
    "Computing error"
   ]
  },
  {
   "cell_type": "code",
   "execution_count": null,
   "metadata": {},
   "outputs": [],
   "source": [
    "def comparison_RM_weight_funcs(stop_slowing=25*np.pi ,stop_absorbing=25*np.pi,\n",
    "                                      list_functions=list_functions, matrix_filters=matrix_filters,\n",
    "                                      list_combinations=list_combinations):\n",
    "    p = 20 #Number of  periods\n",
    "    p_domain = 30 #Number of periods in the domain\n",
    "    xmax2 = p_domain*2*np.pi\n",
    "    N = 250#200 #Cells per period at final time\n",
    "    mx2 = p_domain*N#int(N*(xmax1/p)) #Number of grid points\n",
    "    M = 0.4 \n",
    "    tfinal = p*2*np.pi#p*2*np.pi\n",
    "    start_slowing = 20*np.pi\n",
    "    stop_slowing = stop_slowing\n",
    "    start_absorbing = 20*np.pi\n",
    "    stop_absorbing = stop_absorbing\n",
    "    local_list_errors = []\n",
    "    for i in range(len(list_combinations)):\n",
    "        idx1, idx2 = list_combinations[i]\n",
    "        matrix_filter, weight_fun = matrix_filters[idx1],list_functions[idx2]\n",
    "        piston_problem2 = setup(tfinal=tfinal, xmax=xmax2, mx=mx2, M=M, CFL=0.8,limiting=1,nout=100,\n",
    "                        solver_type=solver_class, order=2, time_integrator='Heun',\n",
    "                        euler_RS=euler_RS, \n",
    "                        relaxation_method=relaxation_method,\n",
    "                        far_field_damping=far_field_damping,\n",
    "                        matrix_filter=matrix_filter,\n",
    "                        start_slowing=start_slowing, stop_slowing=stop_slowing,\n",
    "                        start_absorbing=start_absorbing, stop_absorbing=stop_absorbing,\n",
    "                        piston_freq=piston_freq,\n",
    "                        sigma_damping_type=weight_fun, \n",
    "                        scalar_far_field=scalar_far_field,\n",
    "                        before_stage=before_stage,\n",
    "                        adaptiveRM=False,\n",
    "                        Strang=Strang)\n",
    "        piston_problem2.verbosity = 0\n",
    "        piston_problem2.run()\n",
    "        piston_problem2.solver.__del__() #Deallocation of Fortran arrays\n",
    "        indx = np.where(piston_problem2.grid.x.centers<=start_slowing)\n",
    "        local_list_errors.append(max_error(piston_problem1,piston_problem2, indx=indx))\n",
    "    return local_list_errors\n"
   ]
  },
  {
   "cell_type": "code",
   "execution_count": null,
   "metadata": {},
   "outputs": [],
   "source": [
    "list_errors = []\n",
    "for i in [0.25,0.5,1.,2.]:\n",
    "    list_errors.append(comparison_RM_weight_funcs(stop_slowing=(20+i)*np.pi, stop_absorbing=(20+i)*np.pi))"
   ]
  },
  {
   "cell_type": "code",
   "execution_count": null,
   "metadata": {},
   "outputs": [],
   "source": [
    "list_errors"
   ]
  },
  {
   "cell_type": "code",
   "execution_count": null,
   "metadata": {},
   "outputs": [],
   "source": [
    "from tabulate import tabulate\n",
    "print(tabulate(list_errors, tablefmt=\"latex\", floatfmt=\".2e\", headers=combination_names))\n"
   ]
  }
 ],
 "metadata": {
  "kernelspec": {
   "display_name": "Python 3",
   "language": "python",
   "name": "python3"
  },
  "language_info": {
   "codemirror_mode": {
    "name": "ipython",
    "version": 3
   },
   "file_extension": ".py",
   "mimetype": "text/x-python",
   "name": "python",
   "nbconvert_exporter": "python",
   "pygments_lexer": "ipython3",
   "version": "3.8.9"
  },
  "orig_nbformat": 4
 },
 "nbformat": 4,
 "nbformat_minor": 2
}
