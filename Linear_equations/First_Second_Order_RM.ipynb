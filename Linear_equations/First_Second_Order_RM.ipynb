{
 "cells": [
  {
   "cell_type": "markdown",
   "metadata": {},
   "source": [
    "### Comparison between Algorithm 2 and Algorithm 3\n",
    "#### Used for Figure 6"
   ]
  },
  {
   "cell_type": "code",
   "execution_count": 1,
   "metadata": {},
   "outputs": [],
   "source": [
    "import numpy as np\n",
    "import matplotlib.pyplot as plt\n",
    "from piston_Lagrangian import setup\n",
    "from matplotlib import animation\n",
    "from IPython.display import HTML\n",
    "plt.rcParams['text.usetex'] = True\n",
    "plt.rcParams['animation.ffmpeg_path'] = r'/usr/local/bin/ffmpeg'\n",
    "import itertools\n",
    "from utils import max_error"
   ]
  },
  {
   "cell_type": "code",
   "execution_count": 3,
   "metadata": {},
   "outputs": [],
   "source": [
    "def generate_input_CLAW(method, order_relaxation):\n",
    "    far_field_damping = False\n",
    "    scalar_far_field =False\n",
    "    relaxation_method = False\n",
    "    matrix_filter=False\n",
    "    euler_RS = 'euler'\n",
    "    solver_class = 'sharpclaw_custom'\n",
    "    Strang = False\n",
    "    before_stage = False\n",
    "\n",
    "    if method == \"RM\":\n",
    "        relaxation_method = True \n",
    "        \n",
    "    elif method == \"RM-M\":\n",
    "        relaxation_method = True\n",
    "        matrix_filter = True\n",
    "\n",
    "    else:\n",
    "        print(\"###############################\")\n",
    "        print(\"Method not implemented\")\n",
    "        print(\"###############################\")\n",
    "        return 1\n",
    "    \n",
    "    if order_relaxation ==0: #Relaxation after each RK stage\n",
    "            before_stage = True\n",
    "    if order_relaxation ==2:\n",
    "            Strang = True\n",
    "    \n",
    "    return (euler_RS, relaxation_method, far_field_damping,\n",
    "            matrix_filter, scalar_far_field, solver_class,\n",
    "            Strang, before_stage)"
   ]
  },
  {
   "cell_type": "code",
   "execution_count": 4,
   "metadata": {},
   "outputs": [],
   "source": [
    "def set_and_run_CLAW(method, order_relaxation, data, adaptiveRM=False):\n",
    "    (tfinal,xmax2,mx2,piston_freq,M,\n",
    "    start_slowing,stop_slowing,\n",
    "    start_absorbing,stop_absorbing) = data\n",
    "    (euler_RS, relaxation_method, far_field_damping,\n",
    "    matrix_filter, scalar_far_field, solver_class,\n",
    "    Strang, before_stage) = generate_input_CLAW(method, order_relaxation=order_relaxation)\n",
    "    piston_problem2 = setup(tfinal=tfinal, xmax=xmax2, mx=mx2, M=M, CFL=0.8,limiting=1,nout=100,\n",
    "                        solver_type=solver_class, order=2, time_integrator='Heun',\n",
    "                        euler_RS=euler_RS, \n",
    "                        relaxation_method=relaxation_method,\n",
    "                        far_field_damping=far_field_damping,\n",
    "                        matrix_filter=matrix_filter,\n",
    "                        start_slowing=start_slowing, stop_slowing=stop_slowing,\n",
    "                        start_absorbing=start_absorbing, stop_absorbing=stop_absorbing,\n",
    "                        piston_freq=piston_freq,\n",
    "                        sigma_damping_type=\"Mayer\", \n",
    "                        sigma_slowing_type=\"Ensig-Karup2\",\n",
    "                        scalar_far_field=scalar_far_field,\n",
    "                        before_stage=before_stage,\n",
    "                        adaptiveRM=adaptiveRM,\n",
    "                        Strang=Strang)\n",
    "    piston_problem2.verbosity = 0\n",
    "    piston_problem2.run()\n",
    "    piston_problem2.solver.__del__()\n",
    "    return piston_problem2"
   ]
  },
  {
   "cell_type": "code",
   "execution_count": 5,
   "metadata": {},
   "outputs": [],
   "source": [
    "#sponge_layer_width_list = np.round(2*np.pi*np.array([0.25,0.5,1,4]))\n",
    "def comparison_setup(sponge_layer_width_list,piston_freq=1., p=20, p_domain=30, p_ABC=20, p_domain_ABC=30, M=0.4, \n",
    "                    verbose=True, N=200, adaptiveRM=False):\n",
    "    if verbose:\n",
    "        print(\"#################################################################\")\n",
    "        print(\"RUNNING SIMULATION WITH PARAMETERS:\\npiston_freq = \", piston_freq,\n",
    "         \", p = \", p, \", p_domain = \", p_domain, \", M = \", M)\n",
    "\n",
    "    #Reference solution\n",
    "    xmax1 = p_domain*2*np.pi #p*2*np.pi\n",
    "    #N = 200 #Cells per period at final time\n",
    "    mx1 = p_domain*N #Number of grid points\n",
    "    tfinal = p*2*np.pi\n",
    "\n",
    "    #Run reference solution\n",
    "    piston_problem1 = setup(tfinal=tfinal, xmax=xmax1, mx=mx1, M=M, CFL=0.8,limiting=1,solver_type='sharpclaw',\n",
    "    order=2, time_integrator='Heun', nout=100, piston_freq=piston_freq)\n",
    "    piston_problem1.verbosity = 0\n",
    "    piston_problem1.run()\n",
    "    piston_problem1.solver.__del__()\n",
    "\n",
    "    #Run \"truncated\" solutions\n",
    "    xmax2 = p_domain_ABC*2*np.pi #p*2*np.pi\n",
    "    #N = 200 #Cells per period at final time\n",
    "    mx2 = p_domain_ABC*N #Number of grid points\n",
    "\n",
    "    method_list = [\"RM\",\"RM-M\"]\n",
    "    orders_relaxation = [1,2,0]\n",
    "    #Combine all methods in tuples\n",
    "    method_list = list(itertools.product(method_list,orders_relaxation))\n",
    "    method_list_names = [str(met[0])+\"-\"+str(met[1]) for met in method_list]\n",
    "    \n",
    "\n",
    "    start_slowing = p_ABC*np.pi #p_ABC*2*np.pi\n",
    "    start_absorbing = p_ABC*np.pi #p_ABC*2*np.pi\n",
    "\n",
    "    error_list=[]\n",
    "    for width in sponge_layer_width_list:\n",
    "        if verbose:\n",
    "            print(\"Layer width = \", width)\n",
    "        stop_slowing = start_absorbing + width*2*np.pi\n",
    "        stop_absorbing = start_absorbing + width*2*np.pi\n",
    "        data = (tfinal,xmax2,mx2,piston_freq,M,\n",
    "            start_slowing,stop_slowing,\n",
    "            start_absorbing,stop_absorbing) \n",
    "\n",
    "        x_comparison = min(start_slowing,start_absorbing)\n",
    "        error_list.append([])\n",
    "        for method in method_list:\n",
    "            met = method[0]\n",
    "            order_relaxation = method[1]\n",
    "            if verbose:\n",
    "                print(\"Running \", met, \" with order \", order_relaxation)\n",
    "            piston_problem2 = set_and_run_CLAW(met,order_relaxation, data, adaptiveRM=adaptiveRM)\n",
    "            indx = np.where(piston_problem2.grid.x.centers<=x_comparison)\n",
    "            error_list[-1].append(max_error(piston_problem1,piston_problem2,indx=indx))\n",
    "            if not np.allclose(piston_problem1.grid.x.centers[indx],piston_problem2.grid.x.centers[indx]):\n",
    "                raise ValueError(\"Grids are not the same!!!\")\n",
    "            if verbose:\n",
    "                print(met,\" with relaxation after each RK stage DONE\")\n",
    "                \n",
    "    if verbose:\n",
    "        print(\"#################################################################\")\n",
    "    return np.array(error_list)"
   ]
  },
  {
   "cell_type": "markdown",
   "metadata": {},
   "source": [
    "# Running comparison "
   ]
  },
  {
   "cell_type": "code",
   "execution_count": 6,
   "metadata": {},
   "outputs": [],
   "source": [
    "#list_sponge_layer_widths = np.round(np.logspace(np.log10(0.001),np.log10(2.),10),3)\n",
    "list_sponge_layer_widths = np.round(np.logspace(np.log10(0.01),np.log10(10.),11),2)"
   ]
  },
  {
   "cell_type": "code",
   "execution_count": 7,
   "metadata": {},
   "outputs": [
    {
     "name": "stdout",
     "output_type": "stream",
     "text": [
      "#################################################################\n",
      "RUNNING SIMULATION WITH PARAMETERS:\n",
      "piston_freq =  1.0 , p =  20 , p_domain =  30 , M =  0.4\n",
      "Layer width =  0.01\n",
      "Running  RM  with order  1\n",
      "RM  with relaxation after each RK stage DONE\n",
      "Running  RM  with order  2\n"
     ]
    },
    {
     "name": "stderr",
     "output_type": "stream",
     "text": [
      "Exception ignored in: <function SharpClawSolver.__del__ at 0x11bc49310>\n",
      "Traceback (most recent call last):\n",
      "  File \"/Users/munozmca/clawpack/pyclaw/src/pyclaw/sharpclaw/solver.py\", line 274, in __del__\n",
      "    self.fmod.clawparams.dealloc_clawparams()\n",
      "AttributeError: 'customSharpClawSolver1D' object has no attribute 'fmod'\n"
     ]
    },
    {
     "name": "stdout",
     "output_type": "stream",
     "text": [
      "RM  with relaxation after each RK stage DONE\n",
      "Running  RM  with order  0\n"
     ]
    },
    {
     "name": "stderr",
     "output_type": "stream",
     "text": [
      "Exception ignored in: <function SharpClawSolver.__del__ at 0x11bc49310>\n",
      "Traceback (most recent call last):\n",
      "  File \"/Users/munozmca/clawpack/pyclaw/src/pyclaw/sharpclaw/solver.py\", line 274, in __del__\n",
      "    self.fmod.clawparams.dealloc_clawparams()\n",
      "AttributeError: 'customSharpClawSolver1D' object has no attribute 'fmod'\n"
     ]
    },
    {
     "name": "stdout",
     "output_type": "stream",
     "text": [
      "RM  with relaxation after each RK stage DONE\n",
      "Running  RM-M  with order  1\n"
     ]
    },
    {
     "name": "stderr",
     "output_type": "stream",
     "text": [
      "Exception ignored in: <function SharpClawSolver.__del__ at 0x11bc49310>\n",
      "Traceback (most recent call last):\n",
      "  File \"/Users/munozmca/clawpack/pyclaw/src/pyclaw/sharpclaw/solver.py\", line 274, in __del__\n",
      "    self.fmod.clawparams.dealloc_clawparams()\n",
      "AttributeError: 'customSharpClawSolver1D' object has no attribute 'fmod'\n"
     ]
    },
    {
     "name": "stdout",
     "output_type": "stream",
     "text": [
      "RM-M  with relaxation after each RK stage DONE\n",
      "Running  RM-M  with order  2\n"
     ]
    },
    {
     "name": "stderr",
     "output_type": "stream",
     "text": [
      "Exception ignored in: <function SharpClawSolver.__del__ at 0x11bc49310>\n",
      "Traceback (most recent call last):\n",
      "  File \"/Users/munozmca/clawpack/pyclaw/src/pyclaw/sharpclaw/solver.py\", line 274, in __del__\n",
      "    self.fmod.clawparams.dealloc_clawparams()\n",
      "AttributeError: 'customSharpClawSolver1D' object has no attribute 'fmod'\n"
     ]
    },
    {
     "name": "stdout",
     "output_type": "stream",
     "text": [
      "RM-M  with relaxation after each RK stage DONE\n",
      "Running  RM-M  with order  0\n"
     ]
    },
    {
     "name": "stderr",
     "output_type": "stream",
     "text": [
      "Exception ignored in: <function SharpClawSolver.__del__ at 0x11bc49310>\n",
      "Traceback (most recent call last):\n",
      "  File \"/Users/munozmca/clawpack/pyclaw/src/pyclaw/sharpclaw/solver.py\", line 274, in __del__\n",
      "    self.fmod.clawparams.dealloc_clawparams()\n",
      "AttributeError: 'customSharpClawSolver1D' object has no attribute 'fmod'\n"
     ]
    },
    {
     "name": "stdout",
     "output_type": "stream",
     "text": [
      "RM-M  with relaxation after each RK stage DONE\n",
      "Layer width =  0.02\n",
      "Running  RM  with order  1\n"
     ]
    },
    {
     "name": "stderr",
     "output_type": "stream",
     "text": [
      "Exception ignored in: <function SharpClawSolver.__del__ at 0x11bc49310>\n",
      "Traceback (most recent call last):\n",
      "  File \"/Users/munozmca/clawpack/pyclaw/src/pyclaw/sharpclaw/solver.py\", line 274, in __del__\n",
      "    self.fmod.clawparams.dealloc_clawparams()\n",
      "AttributeError: 'customSharpClawSolver1D' object has no attribute 'fmod'\n"
     ]
    },
    {
     "name": "stdout",
     "output_type": "stream",
     "text": [
      "RM  with relaxation after each RK stage DONE\n",
      "Running  RM  with order  2\n"
     ]
    },
    {
     "name": "stderr",
     "output_type": "stream",
     "text": [
      "Exception ignored in: <function SharpClawSolver.__del__ at 0x11bc49310>\n",
      "Traceback (most recent call last):\n",
      "  File \"/Users/munozmca/clawpack/pyclaw/src/pyclaw/sharpclaw/solver.py\", line 274, in __del__\n",
      "    self.fmod.clawparams.dealloc_clawparams()\n",
      "AttributeError: 'customSharpClawSolver1D' object has no attribute 'fmod'\n"
     ]
    },
    {
     "name": "stdout",
     "output_type": "stream",
     "text": [
      "RM  with relaxation after each RK stage DONE\n",
      "Running  RM  with order  0\n"
     ]
    },
    {
     "name": "stderr",
     "output_type": "stream",
     "text": [
      "Exception ignored in: <function SharpClawSolver.__del__ at 0x11bc49310>\n",
      "Traceback (most recent call last):\n",
      "  File \"/Users/munozmca/clawpack/pyclaw/src/pyclaw/sharpclaw/solver.py\", line 274, in __del__\n",
      "    self.fmod.clawparams.dealloc_clawparams()\n",
      "AttributeError: 'customSharpClawSolver1D' object has no attribute 'fmod'\n"
     ]
    },
    {
     "name": "stdout",
     "output_type": "stream",
     "text": [
      "RM  with relaxation after each RK stage DONE\n",
      "Running  RM-M  with order  1\n"
     ]
    },
    {
     "name": "stderr",
     "output_type": "stream",
     "text": [
      "Exception ignored in: <function SharpClawSolver.__del__ at 0x11bc49310>\n",
      "Traceback (most recent call last):\n",
      "  File \"/Users/munozmca/clawpack/pyclaw/src/pyclaw/sharpclaw/solver.py\", line 274, in __del__\n",
      "    self.fmod.clawparams.dealloc_clawparams()\n",
      "AttributeError: 'customSharpClawSolver1D' object has no attribute 'fmod'\n"
     ]
    },
    {
     "name": "stdout",
     "output_type": "stream",
     "text": [
      "RM-M  with relaxation after each RK stage DONE\n",
      "Running  RM-M  with order  2\n"
     ]
    },
    {
     "name": "stderr",
     "output_type": "stream",
     "text": [
      "Exception ignored in: <function SharpClawSolver.__del__ at 0x11bc49310>\n",
      "Traceback (most recent call last):\n",
      "  File \"/Users/munozmca/clawpack/pyclaw/src/pyclaw/sharpclaw/solver.py\", line 274, in __del__\n",
      "    self.fmod.clawparams.dealloc_clawparams()\n",
      "AttributeError: 'customSharpClawSolver1D' object has no attribute 'fmod'\n"
     ]
    },
    {
     "name": "stdout",
     "output_type": "stream",
     "text": [
      "RM-M  with relaxation after each RK stage DONE\n",
      "Running  RM-M  with order  0\n"
     ]
    },
    {
     "name": "stderr",
     "output_type": "stream",
     "text": [
      "Exception ignored in: <function SharpClawSolver.__del__ at 0x11bc49310>\n",
      "Traceback (most recent call last):\n",
      "  File \"/Users/munozmca/clawpack/pyclaw/src/pyclaw/sharpclaw/solver.py\", line 274, in __del__\n",
      "    self.fmod.clawparams.dealloc_clawparams()\n",
      "AttributeError: 'customSharpClawSolver1D' object has no attribute 'fmod'\n"
     ]
    },
    {
     "name": "stdout",
     "output_type": "stream",
     "text": [
      "RM-M  with relaxation after each RK stage DONE\n",
      "Layer width =  0.04\n",
      "Running  RM  with order  1\n"
     ]
    },
    {
     "name": "stderr",
     "output_type": "stream",
     "text": [
      "Exception ignored in: <function SharpClawSolver.__del__ at 0x11bc49310>\n",
      "Traceback (most recent call last):\n",
      "  File \"/Users/munozmca/clawpack/pyclaw/src/pyclaw/sharpclaw/solver.py\", line 274, in __del__\n",
      "    self.fmod.clawparams.dealloc_clawparams()\n",
      "AttributeError: 'customSharpClawSolver1D' object has no attribute 'fmod'\n"
     ]
    },
    {
     "name": "stdout",
     "output_type": "stream",
     "text": [
      "RM  with relaxation after each RK stage DONE\n",
      "Running  RM  with order  2\n"
     ]
    },
    {
     "name": "stderr",
     "output_type": "stream",
     "text": [
      "Exception ignored in: <function SharpClawSolver.__del__ at 0x11bc49310>\n",
      "Traceback (most recent call last):\n",
      "  File \"/Users/munozmca/clawpack/pyclaw/src/pyclaw/sharpclaw/solver.py\", line 274, in __del__\n",
      "    self.fmod.clawparams.dealloc_clawparams()\n",
      "AttributeError: 'customSharpClawSolver1D' object has no attribute 'fmod'\n"
     ]
    },
    {
     "name": "stdout",
     "output_type": "stream",
     "text": [
      "RM  with relaxation after each RK stage DONE\n",
      "Running  RM  with order  0\n"
     ]
    },
    {
     "name": "stderr",
     "output_type": "stream",
     "text": [
      "Exception ignored in: <function SharpClawSolver.__del__ at 0x11bc49310>\n",
      "Traceback (most recent call last):\n",
      "  File \"/Users/munozmca/clawpack/pyclaw/src/pyclaw/sharpclaw/solver.py\", line 274, in __del__\n",
      "    self.fmod.clawparams.dealloc_clawparams()\n",
      "AttributeError: 'customSharpClawSolver1D' object has no attribute 'fmod'\n"
     ]
    },
    {
     "name": "stdout",
     "output_type": "stream",
     "text": [
      "RM  with relaxation after each RK stage DONE\n",
      "Running  RM-M  with order  1\n"
     ]
    },
    {
     "name": "stderr",
     "output_type": "stream",
     "text": [
      "Exception ignored in: <function SharpClawSolver.__del__ at 0x11bc49310>\n",
      "Traceback (most recent call last):\n",
      "  File \"/Users/munozmca/clawpack/pyclaw/src/pyclaw/sharpclaw/solver.py\", line 274, in __del__\n",
      "    self.fmod.clawparams.dealloc_clawparams()\n",
      "AttributeError: 'customSharpClawSolver1D' object has no attribute 'fmod'\n"
     ]
    },
    {
     "name": "stdout",
     "output_type": "stream",
     "text": [
      "RM-M  with relaxation after each RK stage DONE\n",
      "Running  RM-M  with order  2\n"
     ]
    },
    {
     "name": "stderr",
     "output_type": "stream",
     "text": [
      "Exception ignored in: <function SharpClawSolver.__del__ at 0x11bc49310>\n",
      "Traceback (most recent call last):\n",
      "  File \"/Users/munozmca/clawpack/pyclaw/src/pyclaw/sharpclaw/solver.py\", line 274, in __del__\n",
      "    self.fmod.clawparams.dealloc_clawparams()\n",
      "AttributeError: 'customSharpClawSolver1D' object has no attribute 'fmod'\n"
     ]
    },
    {
     "name": "stdout",
     "output_type": "stream",
     "text": [
      "RM-M  with relaxation after each RK stage DONE\n",
      "Running  RM-M  with order  0\n"
     ]
    },
    {
     "name": "stderr",
     "output_type": "stream",
     "text": [
      "Exception ignored in: <function SharpClawSolver.__del__ at 0x11bc49310>\n",
      "Traceback (most recent call last):\n",
      "  File \"/Users/munozmca/clawpack/pyclaw/src/pyclaw/sharpclaw/solver.py\", line 274, in __del__\n",
      "    self.fmod.clawparams.dealloc_clawparams()\n",
      "AttributeError: 'customSharpClawSolver1D' object has no attribute 'fmod'\n"
     ]
    },
    {
     "name": "stdout",
     "output_type": "stream",
     "text": [
      "RM-M  with relaxation after each RK stage DONE\n",
      "Layer width =  0.08\n",
      "Running  RM  with order  1\n"
     ]
    },
    {
     "name": "stderr",
     "output_type": "stream",
     "text": [
      "Exception ignored in: <function SharpClawSolver.__del__ at 0x11bc49310>\n",
      "Traceback (most recent call last):\n",
      "  File \"/Users/munozmca/clawpack/pyclaw/src/pyclaw/sharpclaw/solver.py\", line 274, in __del__\n",
      "    self.fmod.clawparams.dealloc_clawparams()\n",
      "AttributeError: 'customSharpClawSolver1D' object has no attribute 'fmod'\n"
     ]
    },
    {
     "name": "stdout",
     "output_type": "stream",
     "text": [
      "RM  with relaxation after each RK stage DONE\n",
      "Running  RM  with order  2\n"
     ]
    },
    {
     "name": "stderr",
     "output_type": "stream",
     "text": [
      "Exception ignored in: <function SharpClawSolver.__del__ at 0x11bc49310>\n",
      "Traceback (most recent call last):\n",
      "  File \"/Users/munozmca/clawpack/pyclaw/src/pyclaw/sharpclaw/solver.py\", line 274, in __del__\n",
      "    self.fmod.clawparams.dealloc_clawparams()\n",
      "AttributeError: 'customSharpClawSolver1D' object has no attribute 'fmod'\n"
     ]
    },
    {
     "name": "stdout",
     "output_type": "stream",
     "text": [
      "RM  with relaxation after each RK stage DONE\n",
      "Running  RM  with order  0\n"
     ]
    },
    {
     "name": "stderr",
     "output_type": "stream",
     "text": [
      "Exception ignored in: <function SharpClawSolver.__del__ at 0x11bc49310>\n",
      "Traceback (most recent call last):\n",
      "  File \"/Users/munozmca/clawpack/pyclaw/src/pyclaw/sharpclaw/solver.py\", line 274, in __del__\n",
      "    self.fmod.clawparams.dealloc_clawparams()\n",
      "AttributeError: 'customSharpClawSolver1D' object has no attribute 'fmod'\n"
     ]
    },
    {
     "name": "stdout",
     "output_type": "stream",
     "text": [
      "RM  with relaxation after each RK stage DONE\n",
      "Running  RM-M  with order  1\n"
     ]
    },
    {
     "name": "stderr",
     "output_type": "stream",
     "text": [
      "Exception ignored in: <function SharpClawSolver.__del__ at 0x11bc49310>\n",
      "Traceback (most recent call last):\n",
      "  File \"/Users/munozmca/clawpack/pyclaw/src/pyclaw/sharpclaw/solver.py\", line 274, in __del__\n",
      "    self.fmod.clawparams.dealloc_clawparams()\n",
      "AttributeError: 'customSharpClawSolver1D' object has no attribute 'fmod'\n"
     ]
    },
    {
     "name": "stdout",
     "output_type": "stream",
     "text": [
      "RM-M  with relaxation after each RK stage DONE\n",
      "Running  RM-M  with order  2\n"
     ]
    },
    {
     "name": "stderr",
     "output_type": "stream",
     "text": [
      "Exception ignored in: <function SharpClawSolver.__del__ at 0x11bc49310>\n",
      "Traceback (most recent call last):\n",
      "  File \"/Users/munozmca/clawpack/pyclaw/src/pyclaw/sharpclaw/solver.py\", line 274, in __del__\n",
      "    self.fmod.clawparams.dealloc_clawparams()\n",
      "AttributeError: 'customSharpClawSolver1D' object has no attribute 'fmod'\n"
     ]
    },
    {
     "name": "stdout",
     "output_type": "stream",
     "text": [
      "RM-M  with relaxation after each RK stage DONE\n",
      "Running  RM-M  with order  0\n"
     ]
    },
    {
     "name": "stderr",
     "output_type": "stream",
     "text": [
      "Exception ignored in: <function SharpClawSolver.__del__ at 0x11bc49310>\n",
      "Traceback (most recent call last):\n",
      "  File \"/Users/munozmca/clawpack/pyclaw/src/pyclaw/sharpclaw/solver.py\", line 274, in __del__\n",
      "    self.fmod.clawparams.dealloc_clawparams()\n",
      "AttributeError: 'customSharpClawSolver1D' object has no attribute 'fmod'\n"
     ]
    },
    {
     "name": "stdout",
     "output_type": "stream",
     "text": [
      "RM-M  with relaxation after each RK stage DONE\n",
      "Layer width =  0.16\n",
      "Running  RM  with order  1\n"
     ]
    },
    {
     "name": "stderr",
     "output_type": "stream",
     "text": [
      "Exception ignored in: <function SharpClawSolver.__del__ at 0x11bc49310>\n",
      "Traceback (most recent call last):\n",
      "  File \"/Users/munozmca/clawpack/pyclaw/src/pyclaw/sharpclaw/solver.py\", line 274, in __del__\n",
      "    self.fmod.clawparams.dealloc_clawparams()\n",
      "AttributeError: 'customSharpClawSolver1D' object has no attribute 'fmod'\n"
     ]
    },
    {
     "name": "stdout",
     "output_type": "stream",
     "text": [
      "RM  with relaxation after each RK stage DONE\n",
      "Running  RM  with order  2\n"
     ]
    },
    {
     "name": "stderr",
     "output_type": "stream",
     "text": [
      "Exception ignored in: <function SharpClawSolver.__del__ at 0x11bc49310>\n",
      "Traceback (most recent call last):\n",
      "  File \"/Users/munozmca/clawpack/pyclaw/src/pyclaw/sharpclaw/solver.py\", line 274, in __del__\n",
      "    self.fmod.clawparams.dealloc_clawparams()\n",
      "AttributeError: 'customSharpClawSolver1D' object has no attribute 'fmod'\n"
     ]
    },
    {
     "name": "stdout",
     "output_type": "stream",
     "text": [
      "RM  with relaxation after each RK stage DONE\n",
      "Running  RM  with order  0\n"
     ]
    },
    {
     "name": "stderr",
     "output_type": "stream",
     "text": [
      "Exception ignored in: <function SharpClawSolver.__del__ at 0x11bc49310>\n",
      "Traceback (most recent call last):\n",
      "  File \"/Users/munozmca/clawpack/pyclaw/src/pyclaw/sharpclaw/solver.py\", line 274, in __del__\n",
      "    self.fmod.clawparams.dealloc_clawparams()\n",
      "AttributeError: 'customSharpClawSolver1D' object has no attribute 'fmod'\n"
     ]
    },
    {
     "name": "stdout",
     "output_type": "stream",
     "text": [
      "RM  with relaxation after each RK stage DONE\n",
      "Running  RM-M  with order  1\n"
     ]
    },
    {
     "name": "stderr",
     "output_type": "stream",
     "text": [
      "Exception ignored in: <function SharpClawSolver.__del__ at 0x11bc49310>\n",
      "Traceback (most recent call last):\n",
      "  File \"/Users/munozmca/clawpack/pyclaw/src/pyclaw/sharpclaw/solver.py\", line 274, in __del__\n",
      "    self.fmod.clawparams.dealloc_clawparams()\n",
      "AttributeError: 'customSharpClawSolver1D' object has no attribute 'fmod'\n"
     ]
    },
    {
     "name": "stdout",
     "output_type": "stream",
     "text": [
      "RM-M  with relaxation after each RK stage DONE\n",
      "Running  RM-M  with order  2\n"
     ]
    },
    {
     "name": "stderr",
     "output_type": "stream",
     "text": [
      "Exception ignored in: <function SharpClawSolver.__del__ at 0x11bc49310>\n",
      "Traceback (most recent call last):\n",
      "  File \"/Users/munozmca/clawpack/pyclaw/src/pyclaw/sharpclaw/solver.py\", line 274, in __del__\n",
      "    self.fmod.clawparams.dealloc_clawparams()\n",
      "AttributeError: 'customSharpClawSolver1D' object has no attribute 'fmod'\n"
     ]
    },
    {
     "name": "stdout",
     "output_type": "stream",
     "text": [
      "RM-M  with relaxation after each RK stage DONE\n",
      "Running  RM-M  with order  0\n"
     ]
    },
    {
     "name": "stderr",
     "output_type": "stream",
     "text": [
      "Exception ignored in: <function SharpClawSolver.__del__ at 0x11bc49310>\n",
      "Traceback (most recent call last):\n",
      "  File \"/Users/munozmca/clawpack/pyclaw/src/pyclaw/sharpclaw/solver.py\", line 274, in __del__\n",
      "    self.fmod.clawparams.dealloc_clawparams()\n",
      "AttributeError: 'customSharpClawSolver1D' object has no attribute 'fmod'\n"
     ]
    },
    {
     "name": "stdout",
     "output_type": "stream",
     "text": [
      "RM-M  with relaxation after each RK stage DONE\n",
      "Layer width =  0.32\n",
      "Running  RM  with order  1\n"
     ]
    },
    {
     "name": "stderr",
     "output_type": "stream",
     "text": [
      "Exception ignored in: <function SharpClawSolver.__del__ at 0x11bc49310>\n",
      "Traceback (most recent call last):\n",
      "  File \"/Users/munozmca/clawpack/pyclaw/src/pyclaw/sharpclaw/solver.py\", line 274, in __del__\n",
      "    self.fmod.clawparams.dealloc_clawparams()\n",
      "AttributeError: 'customSharpClawSolver1D' object has no attribute 'fmod'\n"
     ]
    },
    {
     "name": "stdout",
     "output_type": "stream",
     "text": [
      "RM  with relaxation after each RK stage DONE\n",
      "Running  RM  with order  2\n"
     ]
    },
    {
     "name": "stderr",
     "output_type": "stream",
     "text": [
      "Exception ignored in: <function SharpClawSolver.__del__ at 0x11bc49310>\n",
      "Traceback (most recent call last):\n",
      "  File \"/Users/munozmca/clawpack/pyclaw/src/pyclaw/sharpclaw/solver.py\", line 274, in __del__\n",
      "    self.fmod.clawparams.dealloc_clawparams()\n",
      "AttributeError: 'customSharpClawSolver1D' object has no attribute 'fmod'\n"
     ]
    },
    {
     "name": "stdout",
     "output_type": "stream",
     "text": [
      "RM  with relaxation after each RK stage DONE\n",
      "Running  RM  with order  0\n"
     ]
    },
    {
     "name": "stderr",
     "output_type": "stream",
     "text": [
      "Exception ignored in: <function SharpClawSolver.__del__ at 0x11bc49310>\n",
      "Traceback (most recent call last):\n",
      "  File \"/Users/munozmca/clawpack/pyclaw/src/pyclaw/sharpclaw/solver.py\", line 274, in __del__\n",
      "    self.fmod.clawparams.dealloc_clawparams()\n",
      "AttributeError: 'customSharpClawSolver1D' object has no attribute 'fmod'\n"
     ]
    },
    {
     "name": "stdout",
     "output_type": "stream",
     "text": [
      "RM  with relaxation after each RK stage DONE\n",
      "Running  RM-M  with order  1\n"
     ]
    },
    {
     "name": "stderr",
     "output_type": "stream",
     "text": [
      "Exception ignored in: <function SharpClawSolver.__del__ at 0x11bc49310>\n",
      "Traceback (most recent call last):\n",
      "  File \"/Users/munozmca/clawpack/pyclaw/src/pyclaw/sharpclaw/solver.py\", line 274, in __del__\n",
      "    self.fmod.clawparams.dealloc_clawparams()\n",
      "AttributeError: 'customSharpClawSolver1D' object has no attribute 'fmod'\n"
     ]
    },
    {
     "name": "stdout",
     "output_type": "stream",
     "text": [
      "RM-M  with relaxation after each RK stage DONE\n",
      "Running  RM-M  with order  2\n"
     ]
    },
    {
     "name": "stderr",
     "output_type": "stream",
     "text": [
      "Exception ignored in: <function SharpClawSolver.__del__ at 0x11bc49310>\n",
      "Traceback (most recent call last):\n",
      "  File \"/Users/munozmca/clawpack/pyclaw/src/pyclaw/sharpclaw/solver.py\", line 274, in __del__\n",
      "    self.fmod.clawparams.dealloc_clawparams()\n",
      "AttributeError: 'customSharpClawSolver1D' object has no attribute 'fmod'\n"
     ]
    },
    {
     "name": "stdout",
     "output_type": "stream",
     "text": [
      "RM-M  with relaxation after each RK stage DONE\n",
      "Running  RM-M  with order  0\n"
     ]
    },
    {
     "name": "stderr",
     "output_type": "stream",
     "text": [
      "Exception ignored in: <function SharpClawSolver.__del__ at 0x11bc49310>\n",
      "Traceback (most recent call last):\n",
      "  File \"/Users/munozmca/clawpack/pyclaw/src/pyclaw/sharpclaw/solver.py\", line 274, in __del__\n",
      "    self.fmod.clawparams.dealloc_clawparams()\n",
      "AttributeError: 'customSharpClawSolver1D' object has no attribute 'fmod'\n"
     ]
    },
    {
     "name": "stdout",
     "output_type": "stream",
     "text": [
      "RM-M  with relaxation after each RK stage DONE\n",
      "Layer width =  0.63\n",
      "Running  RM  with order  1\n"
     ]
    },
    {
     "name": "stderr",
     "output_type": "stream",
     "text": [
      "Exception ignored in: <function SharpClawSolver.__del__ at 0x11bc49310>\n",
      "Traceback (most recent call last):\n",
      "  File \"/Users/munozmca/clawpack/pyclaw/src/pyclaw/sharpclaw/solver.py\", line 274, in __del__\n",
      "    self.fmod.clawparams.dealloc_clawparams()\n",
      "AttributeError: 'customSharpClawSolver1D' object has no attribute 'fmod'\n"
     ]
    },
    {
     "name": "stdout",
     "output_type": "stream",
     "text": [
      "RM  with relaxation after each RK stage DONE\n",
      "Running  RM  with order  2\n"
     ]
    },
    {
     "name": "stderr",
     "output_type": "stream",
     "text": [
      "Exception ignored in: <function SharpClawSolver.__del__ at 0x11bc49310>\n",
      "Traceback (most recent call last):\n",
      "  File \"/Users/munozmca/clawpack/pyclaw/src/pyclaw/sharpclaw/solver.py\", line 274, in __del__\n",
      "    self.fmod.clawparams.dealloc_clawparams()\n",
      "AttributeError: 'customSharpClawSolver1D' object has no attribute 'fmod'\n"
     ]
    },
    {
     "name": "stdout",
     "output_type": "stream",
     "text": [
      "RM  with relaxation after each RK stage DONE\n",
      "Running  RM  with order  0\n"
     ]
    },
    {
     "name": "stderr",
     "output_type": "stream",
     "text": [
      "Exception ignored in: <function SharpClawSolver.__del__ at 0x11bc49310>\n",
      "Traceback (most recent call last):\n",
      "  File \"/Users/munozmca/clawpack/pyclaw/src/pyclaw/sharpclaw/solver.py\", line 274, in __del__\n",
      "    self.fmod.clawparams.dealloc_clawparams()\n",
      "AttributeError: 'customSharpClawSolver1D' object has no attribute 'fmod'\n"
     ]
    },
    {
     "name": "stdout",
     "output_type": "stream",
     "text": [
      "RM  with relaxation after each RK stage DONE\n",
      "Running  RM-M  with order  1\n"
     ]
    },
    {
     "name": "stderr",
     "output_type": "stream",
     "text": [
      "Exception ignored in: <function SharpClawSolver.__del__ at 0x11bc49310>\n",
      "Traceback (most recent call last):\n",
      "  File \"/Users/munozmca/clawpack/pyclaw/src/pyclaw/sharpclaw/solver.py\", line 274, in __del__\n",
      "    self.fmod.clawparams.dealloc_clawparams()\n",
      "AttributeError: 'customSharpClawSolver1D' object has no attribute 'fmod'\n"
     ]
    },
    {
     "name": "stdout",
     "output_type": "stream",
     "text": [
      "RM-M  with relaxation after each RK stage DONE\n",
      "Running  RM-M  with order  2\n"
     ]
    },
    {
     "name": "stderr",
     "output_type": "stream",
     "text": [
      "Exception ignored in: <function SharpClawSolver.__del__ at 0x11bc49310>\n",
      "Traceback (most recent call last):\n",
      "  File \"/Users/munozmca/clawpack/pyclaw/src/pyclaw/sharpclaw/solver.py\", line 274, in __del__\n",
      "    self.fmod.clawparams.dealloc_clawparams()\n",
      "AttributeError: 'customSharpClawSolver1D' object has no attribute 'fmod'\n"
     ]
    },
    {
     "name": "stdout",
     "output_type": "stream",
     "text": [
      "RM-M  with relaxation after each RK stage DONE\n",
      "Running  RM-M  with order  0\n"
     ]
    },
    {
     "name": "stderr",
     "output_type": "stream",
     "text": [
      "Exception ignored in: <function SharpClawSolver.__del__ at 0x11bc49310>\n",
      "Traceback (most recent call last):\n",
      "  File \"/Users/munozmca/clawpack/pyclaw/src/pyclaw/sharpclaw/solver.py\", line 274, in __del__\n",
      "    self.fmod.clawparams.dealloc_clawparams()\n",
      "AttributeError: 'customSharpClawSolver1D' object has no attribute 'fmod'\n"
     ]
    },
    {
     "name": "stdout",
     "output_type": "stream",
     "text": [
      "RM-M  with relaxation after each RK stage DONE\n",
      "Layer width =  1.26\n",
      "Running  RM  with order  1\n"
     ]
    },
    {
     "name": "stderr",
     "output_type": "stream",
     "text": [
      "Exception ignored in: <function SharpClawSolver.__del__ at 0x11bc49310>\n",
      "Traceback (most recent call last):\n",
      "  File \"/Users/munozmca/clawpack/pyclaw/src/pyclaw/sharpclaw/solver.py\", line 274, in __del__\n",
      "    self.fmod.clawparams.dealloc_clawparams()\n",
      "AttributeError: 'customSharpClawSolver1D' object has no attribute 'fmod'\n"
     ]
    },
    {
     "name": "stdout",
     "output_type": "stream",
     "text": [
      "RM  with relaxation after each RK stage DONE\n",
      "Running  RM  with order  2\n"
     ]
    },
    {
     "name": "stderr",
     "output_type": "stream",
     "text": [
      "Exception ignored in: <function SharpClawSolver.__del__ at 0x11bc49310>\n",
      "Traceback (most recent call last):\n",
      "  File \"/Users/munozmca/clawpack/pyclaw/src/pyclaw/sharpclaw/solver.py\", line 274, in __del__\n",
      "    self.fmod.clawparams.dealloc_clawparams()\n",
      "AttributeError: 'customSharpClawSolver1D' object has no attribute 'fmod'\n"
     ]
    },
    {
     "name": "stdout",
     "output_type": "stream",
     "text": [
      "RM  with relaxation after each RK stage DONE\n",
      "Running  RM  with order  0\n"
     ]
    },
    {
     "name": "stderr",
     "output_type": "stream",
     "text": [
      "Exception ignored in: <function SharpClawSolver.__del__ at 0x11bc49310>\n",
      "Traceback (most recent call last):\n",
      "  File \"/Users/munozmca/clawpack/pyclaw/src/pyclaw/sharpclaw/solver.py\", line 274, in __del__\n",
      "    self.fmod.clawparams.dealloc_clawparams()\n",
      "AttributeError: 'customSharpClawSolver1D' object has no attribute 'fmod'\n"
     ]
    },
    {
     "name": "stdout",
     "output_type": "stream",
     "text": [
      "RM  with relaxation after each RK stage DONE\n",
      "Running  RM-M  with order  1\n"
     ]
    },
    {
     "name": "stderr",
     "output_type": "stream",
     "text": [
      "Exception ignored in: <function SharpClawSolver.__del__ at 0x11bc49310>\n",
      "Traceback (most recent call last):\n",
      "  File \"/Users/munozmca/clawpack/pyclaw/src/pyclaw/sharpclaw/solver.py\", line 274, in __del__\n",
      "    self.fmod.clawparams.dealloc_clawparams()\n",
      "AttributeError: 'customSharpClawSolver1D' object has no attribute 'fmod'\n"
     ]
    },
    {
     "name": "stdout",
     "output_type": "stream",
     "text": [
      "RM-M  with relaxation after each RK stage DONE\n",
      "Running  RM-M  with order  2\n"
     ]
    },
    {
     "name": "stderr",
     "output_type": "stream",
     "text": [
      "Exception ignored in: <function SharpClawSolver.__del__ at 0x11bc49310>\n",
      "Traceback (most recent call last):\n",
      "  File \"/Users/munozmca/clawpack/pyclaw/src/pyclaw/sharpclaw/solver.py\", line 274, in __del__\n",
      "    self.fmod.clawparams.dealloc_clawparams()\n",
      "AttributeError: 'customSharpClawSolver1D' object has no attribute 'fmod'\n"
     ]
    },
    {
     "name": "stdout",
     "output_type": "stream",
     "text": [
      "RM-M  with relaxation after each RK stage DONE\n",
      "Running  RM-M  with order  0\n"
     ]
    },
    {
     "name": "stderr",
     "output_type": "stream",
     "text": [
      "Exception ignored in: <function SharpClawSolver.__del__ at 0x11bc49310>\n",
      "Traceback (most recent call last):\n",
      "  File \"/Users/munozmca/clawpack/pyclaw/src/pyclaw/sharpclaw/solver.py\", line 274, in __del__\n",
      "    self.fmod.clawparams.dealloc_clawparams()\n",
      "AttributeError: 'customSharpClawSolver1D' object has no attribute 'fmod'\n"
     ]
    },
    {
     "name": "stdout",
     "output_type": "stream",
     "text": [
      "RM-M  with relaxation after each RK stage DONE\n",
      "Layer width =  2.51\n",
      "Running  RM  with order  1\n"
     ]
    },
    {
     "name": "stderr",
     "output_type": "stream",
     "text": [
      "Exception ignored in: <function SharpClawSolver.__del__ at 0x11bc49310>\n",
      "Traceback (most recent call last):\n",
      "  File \"/Users/munozmca/clawpack/pyclaw/src/pyclaw/sharpclaw/solver.py\", line 274, in __del__\n",
      "    self.fmod.clawparams.dealloc_clawparams()\n",
      "AttributeError: 'customSharpClawSolver1D' object has no attribute 'fmod'\n"
     ]
    },
    {
     "name": "stdout",
     "output_type": "stream",
     "text": [
      "RM  with relaxation after each RK stage DONE\n",
      "Running  RM  with order  2\n"
     ]
    },
    {
     "name": "stderr",
     "output_type": "stream",
     "text": [
      "Exception ignored in: <function SharpClawSolver.__del__ at 0x11bc49310>\n",
      "Traceback (most recent call last):\n",
      "  File \"/Users/munozmca/clawpack/pyclaw/src/pyclaw/sharpclaw/solver.py\", line 274, in __del__\n",
      "    self.fmod.clawparams.dealloc_clawparams()\n",
      "AttributeError: 'customSharpClawSolver1D' object has no attribute 'fmod'\n"
     ]
    },
    {
     "name": "stdout",
     "output_type": "stream",
     "text": [
      "RM  with relaxation after each RK stage DONE\n",
      "Running  RM  with order  0\n"
     ]
    },
    {
     "name": "stderr",
     "output_type": "stream",
     "text": [
      "Exception ignored in: <function SharpClawSolver.__del__ at 0x11bc49310>\n",
      "Traceback (most recent call last):\n",
      "  File \"/Users/munozmca/clawpack/pyclaw/src/pyclaw/sharpclaw/solver.py\", line 274, in __del__\n",
      "    self.fmod.clawparams.dealloc_clawparams()\n",
      "AttributeError: 'customSharpClawSolver1D' object has no attribute 'fmod'\n"
     ]
    },
    {
     "name": "stdout",
     "output_type": "stream",
     "text": [
      "RM  with relaxation after each RK stage DONE\n",
      "Running  RM-M  with order  1\n"
     ]
    },
    {
     "name": "stderr",
     "output_type": "stream",
     "text": [
      "Exception ignored in: <function SharpClawSolver.__del__ at 0x11bc49310>\n",
      "Traceback (most recent call last):\n",
      "  File \"/Users/munozmca/clawpack/pyclaw/src/pyclaw/sharpclaw/solver.py\", line 274, in __del__\n",
      "    self.fmod.clawparams.dealloc_clawparams()\n",
      "AttributeError: 'customSharpClawSolver1D' object has no attribute 'fmod'\n"
     ]
    },
    {
     "name": "stdout",
     "output_type": "stream",
     "text": [
      "RM-M  with relaxation after each RK stage DONE\n",
      "Running  RM-M  with order  2\n"
     ]
    },
    {
     "name": "stderr",
     "output_type": "stream",
     "text": [
      "Exception ignored in: <function SharpClawSolver.__del__ at 0x11bc49310>\n",
      "Traceback (most recent call last):\n",
      "  File \"/Users/munozmca/clawpack/pyclaw/src/pyclaw/sharpclaw/solver.py\", line 274, in __del__\n",
      "    self.fmod.clawparams.dealloc_clawparams()\n",
      "AttributeError: 'customSharpClawSolver1D' object has no attribute 'fmod'\n"
     ]
    },
    {
     "name": "stdout",
     "output_type": "stream",
     "text": [
      "RM-M  with relaxation after each RK stage DONE\n",
      "Running  RM-M  with order  0\n"
     ]
    },
    {
     "name": "stderr",
     "output_type": "stream",
     "text": [
      "Exception ignored in: <function SharpClawSolver.__del__ at 0x11bc49310>\n",
      "Traceback (most recent call last):\n",
      "  File \"/Users/munozmca/clawpack/pyclaw/src/pyclaw/sharpclaw/solver.py\", line 274, in __del__\n",
      "    self.fmod.clawparams.dealloc_clawparams()\n",
      "AttributeError: 'customSharpClawSolver1D' object has no attribute 'fmod'\n"
     ]
    },
    {
     "name": "stdout",
     "output_type": "stream",
     "text": [
      "RM-M  with relaxation after each RK stage DONE\n",
      "Layer width =  5.01\n",
      "Running  RM  with order  1\n"
     ]
    },
    {
     "name": "stderr",
     "output_type": "stream",
     "text": [
      "Exception ignored in: <function SharpClawSolver.__del__ at 0x11bc49310>\n",
      "Traceback (most recent call last):\n",
      "  File \"/Users/munozmca/clawpack/pyclaw/src/pyclaw/sharpclaw/solver.py\", line 274, in __del__\n",
      "    self.fmod.clawparams.dealloc_clawparams()\n",
      "AttributeError: 'customSharpClawSolver1D' object has no attribute 'fmod'\n"
     ]
    },
    {
     "name": "stdout",
     "output_type": "stream",
     "text": [
      "RM  with relaxation after each RK stage DONE\n",
      "Running  RM  with order  2\n"
     ]
    },
    {
     "name": "stderr",
     "output_type": "stream",
     "text": [
      "Exception ignored in: <function SharpClawSolver.__del__ at 0x11bc49310>\n",
      "Traceback (most recent call last):\n",
      "  File \"/Users/munozmca/clawpack/pyclaw/src/pyclaw/sharpclaw/solver.py\", line 274, in __del__\n",
      "    self.fmod.clawparams.dealloc_clawparams()\n",
      "AttributeError: 'customSharpClawSolver1D' object has no attribute 'fmod'\n"
     ]
    },
    {
     "name": "stdout",
     "output_type": "stream",
     "text": [
      "RM  with relaxation after each RK stage DONE\n",
      "Running  RM  with order  0\n"
     ]
    },
    {
     "name": "stderr",
     "output_type": "stream",
     "text": [
      "Exception ignored in: <function SharpClawSolver.__del__ at 0x11bc49310>\n",
      "Traceback (most recent call last):\n",
      "  File \"/Users/munozmca/clawpack/pyclaw/src/pyclaw/sharpclaw/solver.py\", line 274, in __del__\n",
      "    self.fmod.clawparams.dealloc_clawparams()\n",
      "AttributeError: 'customSharpClawSolver1D' object has no attribute 'fmod'\n"
     ]
    },
    {
     "name": "stdout",
     "output_type": "stream",
     "text": [
      "RM  with relaxation after each RK stage DONE\n",
      "Running  RM-M  with order  1\n"
     ]
    },
    {
     "name": "stderr",
     "output_type": "stream",
     "text": [
      "Exception ignored in: <function SharpClawSolver.__del__ at 0x11bc49310>\n",
      "Traceback (most recent call last):\n",
      "  File \"/Users/munozmca/clawpack/pyclaw/src/pyclaw/sharpclaw/solver.py\", line 274, in __del__\n",
      "    self.fmod.clawparams.dealloc_clawparams()\n",
      "AttributeError: 'customSharpClawSolver1D' object has no attribute 'fmod'\n"
     ]
    },
    {
     "name": "stdout",
     "output_type": "stream",
     "text": [
      "RM-M  with relaxation after each RK stage DONE\n",
      "Running  RM-M  with order  2\n"
     ]
    },
    {
     "name": "stderr",
     "output_type": "stream",
     "text": [
      "Exception ignored in: <function SharpClawSolver.__del__ at 0x11bc49310>\n",
      "Traceback (most recent call last):\n",
      "  File \"/Users/munozmca/clawpack/pyclaw/src/pyclaw/sharpclaw/solver.py\", line 274, in __del__\n",
      "    self.fmod.clawparams.dealloc_clawparams()\n",
      "AttributeError: 'customSharpClawSolver1D' object has no attribute 'fmod'\n"
     ]
    },
    {
     "name": "stdout",
     "output_type": "stream",
     "text": [
      "RM-M  with relaxation after each RK stage DONE\n",
      "Running  RM-M  with order  0\n"
     ]
    },
    {
     "name": "stderr",
     "output_type": "stream",
     "text": [
      "Exception ignored in: <function SharpClawSolver.__del__ at 0x11bc49310>\n",
      "Traceback (most recent call last):\n",
      "  File \"/Users/munozmca/clawpack/pyclaw/src/pyclaw/sharpclaw/solver.py\", line 274, in __del__\n",
      "    self.fmod.clawparams.dealloc_clawparams()\n",
      "AttributeError: 'customSharpClawSolver1D' object has no attribute 'fmod'\n"
     ]
    },
    {
     "name": "stdout",
     "output_type": "stream",
     "text": [
      "RM-M  with relaxation after each RK stage DONE\n",
      "Layer width =  10.0\n",
      "Running  RM  with order  1\n"
     ]
    },
    {
     "name": "stderr",
     "output_type": "stream",
     "text": [
      "Exception ignored in: <function SharpClawSolver.__del__ at 0x11bc49310>\n",
      "Traceback (most recent call last):\n",
      "  File \"/Users/munozmca/clawpack/pyclaw/src/pyclaw/sharpclaw/solver.py\", line 274, in __del__\n",
      "    self.fmod.clawparams.dealloc_clawparams()\n",
      "AttributeError: 'customSharpClawSolver1D' object has no attribute 'fmod'\n"
     ]
    },
    {
     "name": "stdout",
     "output_type": "stream",
     "text": [
      "RM  with relaxation after each RK stage DONE\n",
      "Running  RM  with order  2\n"
     ]
    },
    {
     "name": "stderr",
     "output_type": "stream",
     "text": [
      "Exception ignored in: <function SharpClawSolver.__del__ at 0x11bc49310>\n",
      "Traceback (most recent call last):\n",
      "  File \"/Users/munozmca/clawpack/pyclaw/src/pyclaw/sharpclaw/solver.py\", line 274, in __del__\n",
      "    self.fmod.clawparams.dealloc_clawparams()\n",
      "AttributeError: 'customSharpClawSolver1D' object has no attribute 'fmod'\n"
     ]
    },
    {
     "name": "stdout",
     "output_type": "stream",
     "text": [
      "RM  with relaxation after each RK stage DONE\n",
      "Running  RM  with order  0\n"
     ]
    },
    {
     "name": "stderr",
     "output_type": "stream",
     "text": [
      "Exception ignored in: <function SharpClawSolver.__del__ at 0x11bc49310>\n",
      "Traceback (most recent call last):\n",
      "  File \"/Users/munozmca/clawpack/pyclaw/src/pyclaw/sharpclaw/solver.py\", line 274, in __del__\n",
      "    self.fmod.clawparams.dealloc_clawparams()\n",
      "AttributeError: 'customSharpClawSolver1D' object has no attribute 'fmod'\n"
     ]
    },
    {
     "name": "stdout",
     "output_type": "stream",
     "text": [
      "RM  with relaxation after each RK stage DONE\n",
      "Running  RM-M  with order  1\n"
     ]
    },
    {
     "name": "stderr",
     "output_type": "stream",
     "text": [
      "Exception ignored in: <function SharpClawSolver.__del__ at 0x11bc49310>\n",
      "Traceback (most recent call last):\n",
      "  File \"/Users/munozmca/clawpack/pyclaw/src/pyclaw/sharpclaw/solver.py\", line 274, in __del__\n",
      "    self.fmod.clawparams.dealloc_clawparams()\n",
      "AttributeError: 'customSharpClawSolver1D' object has no attribute 'fmod'\n"
     ]
    },
    {
     "name": "stdout",
     "output_type": "stream",
     "text": [
      "RM-M  with relaxation after each RK stage DONE\n",
      "Running  RM-M  with order  2\n"
     ]
    },
    {
     "name": "stderr",
     "output_type": "stream",
     "text": [
      "Exception ignored in: <function SharpClawSolver.__del__ at 0x11bc49310>\n",
      "Traceback (most recent call last):\n",
      "  File \"/Users/munozmca/clawpack/pyclaw/src/pyclaw/sharpclaw/solver.py\", line 274, in __del__\n",
      "    self.fmod.clawparams.dealloc_clawparams()\n",
      "AttributeError: 'customSharpClawSolver1D' object has no attribute 'fmod'\n"
     ]
    },
    {
     "name": "stdout",
     "output_type": "stream",
     "text": [
      "RM-M  with relaxation after each RK stage DONE\n",
      "Running  RM-M  with order  0\n"
     ]
    },
    {
     "name": "stderr",
     "output_type": "stream",
     "text": [
      "Exception ignored in: <function SharpClawSolver.__del__ at 0x11bc49310>\n",
      "Traceback (most recent call last):\n",
      "  File \"/Users/munozmca/clawpack/pyclaw/src/pyclaw/sharpclaw/solver.py\", line 274, in __del__\n",
      "    self.fmod.clawparams.dealloc_clawparams()\n",
      "AttributeError: 'customSharpClawSolver1D' object has no attribute 'fmod'\n",
      "Exception ignored in: <function SharpClawSolver.__del__ at 0x11bc49310>\n",
      "Traceback (most recent call last):\n",
      "  File \"/Users/munozmca/clawpack/pyclaw/src/pyclaw/sharpclaw/solver.py\", line 274, in __del__\n",
      "    self.fmod.clawparams.dealloc_clawparams()\n",
      "AttributeError: 'SharpClawSolver1D' object has no attribute 'fmod'\n",
      "Exception ignored in: <function SharpClawSolver.__del__ at 0x11bc49310>\n",
      "Traceback (most recent call last):\n",
      "  File \"/Users/munozmca/clawpack/pyclaw/src/pyclaw/sharpclaw/solver.py\", line 274, in __del__\n",
      "    self.fmod.clawparams.dealloc_clawparams()\n",
      "AttributeError: 'customSharpClawSolver1D' object has no attribute 'fmod'\n"
     ]
    },
    {
     "name": "stdout",
     "output_type": "stream",
     "text": [
      "RM-M  with relaxation after each RK stage DONE\n",
      "#################################################################\n",
      "#################################################################\n",
      "Error list:  [[9.98242330e-03 9.98242330e-03 9.98242330e-03 9.98242330e-03\n",
      "  9.98242330e-03 9.98242330e-03]\n",
      " [9.98242330e-03 9.98242330e-03 9.98242330e-03 9.98242330e-03\n",
      "  9.98242330e-03 9.98242330e-03]\n",
      " [9.98242330e-03 9.98242330e-03 9.98242330e-03 9.98242330e-03\n",
      "  9.98242330e-03 9.98242330e-03]\n",
      " [8.10715032e-03 8.10715032e-03 8.10715032e-03 8.10715032e-03\n",
      "  8.10715032e-03 8.10715032e-03]\n",
      " [7.33235402e-03 7.33235402e-03 7.22813906e-03 7.44204723e-03\n",
      "  7.44204723e-03 7.38484539e-03]\n",
      " [7.09620588e-03 7.09620588e-03 6.74343401e-03 7.52769836e-03\n",
      "  7.52769836e-03 7.32456509e-03]\n",
      " [2.46771363e-03 2.46771363e-03 1.79286292e-03 4.05822203e-03\n",
      "  4.05822203e-03 3.15619334e-03]\n",
      " [3.90712314e-04 3.90712314e-04 3.97560792e-04 5.85549494e-04\n",
      "  5.85549494e-04 3.95921312e-04]\n",
      " [1.82060740e-04 1.82060740e-04 1.90940780e-04 2.01648309e-04\n",
      "  2.01648309e-04 2.24180933e-04]\n",
      " [1.07451976e-04 1.07451976e-04 1.05816108e-04 7.91049190e-05\n",
      "  7.91049190e-05 1.06589511e-04]\n",
      " [7.18514637e-05 7.18514637e-05 7.68858439e-05 6.65060898e-05\n",
      "  6.65060898e-05 6.59432009e-05]]\n",
      "#################################################################\n",
      "#################################################################\n",
      "RUNNING SIMULATION WITH PARAMETERS:\n",
      "piston_freq =  1.0 , p =  20 , p_domain =  30 , M =  0.4\n",
      "Layer width =  0.01\n",
      "Running  RM  with order  1\n",
      "RM  with relaxation after each RK stage DONE\n",
      "Running  RM  with order  2\n"
     ]
    },
    {
     "name": "stderr",
     "output_type": "stream",
     "text": [
      "Exception ignored in: <function SharpClawSolver.__del__ at 0x11bc49310>\n",
      "Traceback (most recent call last):\n",
      "  File \"/Users/munozmca/clawpack/pyclaw/src/pyclaw/sharpclaw/solver.py\", line 274, in __del__\n",
      "    self.fmod.clawparams.dealloc_clawparams()\n",
      "AttributeError: 'customSharpClawSolver1D' object has no attribute 'fmod'\n"
     ]
    },
    {
     "name": "stdout",
     "output_type": "stream",
     "text": [
      "RM  with relaxation after each RK stage DONE\n",
      "Running  RM  with order  0\n"
     ]
    },
    {
     "name": "stderr",
     "output_type": "stream",
     "text": [
      "Exception ignored in: <function SharpClawSolver.__del__ at 0x11bc49310>\n",
      "Traceback (most recent call last):\n",
      "  File \"/Users/munozmca/clawpack/pyclaw/src/pyclaw/sharpclaw/solver.py\", line 274, in __del__\n",
      "    self.fmod.clawparams.dealloc_clawparams()\n",
      "AttributeError: 'customSharpClawSolver1D' object has no attribute 'fmod'\n"
     ]
    },
    {
     "name": "stdout",
     "output_type": "stream",
     "text": [
      "RM  with relaxation after each RK stage DONE\n",
      "Running  RM-M  with order  1\n"
     ]
    },
    {
     "name": "stderr",
     "output_type": "stream",
     "text": [
      "Exception ignored in: <function SharpClawSolver.__del__ at 0x11bc49310>\n",
      "Traceback (most recent call last):\n",
      "  File \"/Users/munozmca/clawpack/pyclaw/src/pyclaw/sharpclaw/solver.py\", line 274, in __del__\n",
      "    self.fmod.clawparams.dealloc_clawparams()\n",
      "AttributeError: 'customSharpClawSolver1D' object has no attribute 'fmod'\n"
     ]
    },
    {
     "name": "stdout",
     "output_type": "stream",
     "text": [
      "RM-M  with relaxation after each RK stage DONE\n",
      "Running  RM-M  with order  2\n"
     ]
    },
    {
     "name": "stderr",
     "output_type": "stream",
     "text": [
      "Exception ignored in: <function SharpClawSolver.__del__ at 0x11bc49310>\n",
      "Traceback (most recent call last):\n",
      "  File \"/Users/munozmca/clawpack/pyclaw/src/pyclaw/sharpclaw/solver.py\", line 274, in __del__\n",
      "    self.fmod.clawparams.dealloc_clawparams()\n",
      "AttributeError: 'customSharpClawSolver1D' object has no attribute 'fmod'\n"
     ]
    },
    {
     "name": "stdout",
     "output_type": "stream",
     "text": [
      "RM-M  with relaxation after each RK stage DONE\n",
      "Running  RM-M  with order  0\n"
     ]
    },
    {
     "name": "stderr",
     "output_type": "stream",
     "text": [
      "Exception ignored in: <function SharpClawSolver.__del__ at 0x11bc49310>\n",
      "Traceback (most recent call last):\n",
      "  File \"/Users/munozmca/clawpack/pyclaw/src/pyclaw/sharpclaw/solver.py\", line 274, in __del__\n",
      "    self.fmod.clawparams.dealloc_clawparams()\n",
      "AttributeError: 'customSharpClawSolver1D' object has no attribute 'fmod'\n"
     ]
    },
    {
     "name": "stdout",
     "output_type": "stream",
     "text": [
      "RM-M  with relaxation after each RK stage DONE\n",
      "Layer width =  0.02\n",
      "Running  RM  with order  1\n"
     ]
    },
    {
     "name": "stderr",
     "output_type": "stream",
     "text": [
      "Exception ignored in: <function SharpClawSolver.__del__ at 0x11bc49310>\n",
      "Traceback (most recent call last):\n",
      "  File \"/Users/munozmca/clawpack/pyclaw/src/pyclaw/sharpclaw/solver.py\", line 274, in __del__\n",
      "    self.fmod.clawparams.dealloc_clawparams()\n",
      "AttributeError: 'customSharpClawSolver1D' object has no attribute 'fmod'\n"
     ]
    },
    {
     "name": "stdout",
     "output_type": "stream",
     "text": [
      "RM  with relaxation after each RK stage DONE\n",
      "Running  RM  with order  2\n"
     ]
    },
    {
     "name": "stderr",
     "output_type": "stream",
     "text": [
      "Exception ignored in: <function SharpClawSolver.__del__ at 0x11bc49310>\n",
      "Traceback (most recent call last):\n",
      "  File \"/Users/munozmca/clawpack/pyclaw/src/pyclaw/sharpclaw/solver.py\", line 274, in __del__\n",
      "    self.fmod.clawparams.dealloc_clawparams()\n",
      "AttributeError: 'customSharpClawSolver1D' object has no attribute 'fmod'\n"
     ]
    },
    {
     "name": "stdout",
     "output_type": "stream",
     "text": [
      "RM  with relaxation after each RK stage DONE\n",
      "Running  RM  with order  0\n"
     ]
    },
    {
     "name": "stderr",
     "output_type": "stream",
     "text": [
      "Exception ignored in: <function SharpClawSolver.__del__ at 0x11bc49310>\n",
      "Traceback (most recent call last):\n",
      "  File \"/Users/munozmca/clawpack/pyclaw/src/pyclaw/sharpclaw/solver.py\", line 274, in __del__\n",
      "    self.fmod.clawparams.dealloc_clawparams()\n",
      "AttributeError: 'customSharpClawSolver1D' object has no attribute 'fmod'\n"
     ]
    },
    {
     "name": "stdout",
     "output_type": "stream",
     "text": [
      "RM  with relaxation after each RK stage DONE\n",
      "Running  RM-M  with order  1\n"
     ]
    },
    {
     "name": "stderr",
     "output_type": "stream",
     "text": [
      "Exception ignored in: <function SharpClawSolver.__del__ at 0x11bc49310>\n",
      "Traceback (most recent call last):\n",
      "  File \"/Users/munozmca/clawpack/pyclaw/src/pyclaw/sharpclaw/solver.py\", line 274, in __del__\n",
      "    self.fmod.clawparams.dealloc_clawparams()\n",
      "AttributeError: 'customSharpClawSolver1D' object has no attribute 'fmod'\n"
     ]
    },
    {
     "name": "stdout",
     "output_type": "stream",
     "text": [
      "RM-M  with relaxation after each RK stage DONE\n",
      "Running  RM-M  with order  2\n"
     ]
    },
    {
     "name": "stderr",
     "output_type": "stream",
     "text": [
      "Exception ignored in: <function SharpClawSolver.__del__ at 0x11bc49310>\n",
      "Traceback (most recent call last):\n",
      "  File \"/Users/munozmca/clawpack/pyclaw/src/pyclaw/sharpclaw/solver.py\", line 274, in __del__\n",
      "    self.fmod.clawparams.dealloc_clawparams()\n",
      "AttributeError: 'customSharpClawSolver1D' object has no attribute 'fmod'\n"
     ]
    },
    {
     "name": "stdout",
     "output_type": "stream",
     "text": [
      "RM-M  with relaxation after each RK stage DONE\n",
      "Running  RM-M  with order  0\n"
     ]
    },
    {
     "name": "stderr",
     "output_type": "stream",
     "text": [
      "Exception ignored in: <function SharpClawSolver.__del__ at 0x11bc49310>\n",
      "Traceback (most recent call last):\n",
      "  File \"/Users/munozmca/clawpack/pyclaw/src/pyclaw/sharpclaw/solver.py\", line 274, in __del__\n",
      "    self.fmod.clawparams.dealloc_clawparams()\n",
      "AttributeError: 'customSharpClawSolver1D' object has no attribute 'fmod'\n"
     ]
    },
    {
     "name": "stdout",
     "output_type": "stream",
     "text": [
      "RM-M  with relaxation after each RK stage DONE\n",
      "Layer width =  0.04\n",
      "Running  RM  with order  1\n"
     ]
    },
    {
     "name": "stderr",
     "output_type": "stream",
     "text": [
      "Exception ignored in: <function SharpClawSolver.__del__ at 0x11bc49310>\n",
      "Traceback (most recent call last):\n",
      "  File \"/Users/munozmca/clawpack/pyclaw/src/pyclaw/sharpclaw/solver.py\", line 274, in __del__\n",
      "    self.fmod.clawparams.dealloc_clawparams()\n",
      "AttributeError: 'customSharpClawSolver1D' object has no attribute 'fmod'\n"
     ]
    },
    {
     "name": "stdout",
     "output_type": "stream",
     "text": [
      "RM  with relaxation after each RK stage DONE\n",
      "Running  RM  with order  2\n"
     ]
    },
    {
     "name": "stderr",
     "output_type": "stream",
     "text": [
      "Exception ignored in: <function SharpClawSolver.__del__ at 0x11bc49310>\n",
      "Traceback (most recent call last):\n",
      "  File \"/Users/munozmca/clawpack/pyclaw/src/pyclaw/sharpclaw/solver.py\", line 274, in __del__\n",
      "    self.fmod.clawparams.dealloc_clawparams()\n",
      "AttributeError: 'customSharpClawSolver1D' object has no attribute 'fmod'\n"
     ]
    },
    {
     "name": "stdout",
     "output_type": "stream",
     "text": [
      "RM  with relaxation after each RK stage DONE\n",
      "Running  RM  with order  0\n"
     ]
    },
    {
     "name": "stderr",
     "output_type": "stream",
     "text": [
      "Exception ignored in: <function SharpClawSolver.__del__ at 0x11bc49310>\n",
      "Traceback (most recent call last):\n",
      "  File \"/Users/munozmca/clawpack/pyclaw/src/pyclaw/sharpclaw/solver.py\", line 274, in __del__\n",
      "    self.fmod.clawparams.dealloc_clawparams()\n",
      "AttributeError: 'customSharpClawSolver1D' object has no attribute 'fmod'\n"
     ]
    },
    {
     "name": "stdout",
     "output_type": "stream",
     "text": [
      "RM  with relaxation after each RK stage DONE\n",
      "Running  RM-M  with order  1\n"
     ]
    },
    {
     "name": "stderr",
     "output_type": "stream",
     "text": [
      "Exception ignored in: <function SharpClawSolver.__del__ at 0x11bc49310>\n",
      "Traceback (most recent call last):\n",
      "  File \"/Users/munozmca/clawpack/pyclaw/src/pyclaw/sharpclaw/solver.py\", line 274, in __del__\n",
      "    self.fmod.clawparams.dealloc_clawparams()\n",
      "AttributeError: 'customSharpClawSolver1D' object has no attribute 'fmod'\n"
     ]
    },
    {
     "name": "stdout",
     "output_type": "stream",
     "text": [
      "RM-M  with relaxation after each RK stage DONE\n",
      "Running  RM-M  with order  2\n"
     ]
    },
    {
     "name": "stderr",
     "output_type": "stream",
     "text": [
      "Exception ignored in: <function SharpClawSolver.__del__ at 0x11bc49310>\n",
      "Traceback (most recent call last):\n",
      "  File \"/Users/munozmca/clawpack/pyclaw/src/pyclaw/sharpclaw/solver.py\", line 274, in __del__\n",
      "    self.fmod.clawparams.dealloc_clawparams()\n",
      "AttributeError: 'customSharpClawSolver1D' object has no attribute 'fmod'\n"
     ]
    },
    {
     "name": "stdout",
     "output_type": "stream",
     "text": [
      "RM-M  with relaxation after each RK stage DONE\n",
      "Running  RM-M  with order  0\n"
     ]
    },
    {
     "name": "stderr",
     "output_type": "stream",
     "text": [
      "Exception ignored in: <function SharpClawSolver.__del__ at 0x11bc49310>\n",
      "Traceback (most recent call last):\n",
      "  File \"/Users/munozmca/clawpack/pyclaw/src/pyclaw/sharpclaw/solver.py\", line 274, in __del__\n",
      "    self.fmod.clawparams.dealloc_clawparams()\n",
      "AttributeError: 'customSharpClawSolver1D' object has no attribute 'fmod'\n"
     ]
    },
    {
     "name": "stdout",
     "output_type": "stream",
     "text": [
      "RM-M  with relaxation after each RK stage DONE\n",
      "Layer width =  0.08\n",
      "Running  RM  with order  1\n"
     ]
    },
    {
     "name": "stderr",
     "output_type": "stream",
     "text": [
      "Exception ignored in: <function SharpClawSolver.__del__ at 0x11bc49310>\n",
      "Traceback (most recent call last):\n",
      "  File \"/Users/munozmca/clawpack/pyclaw/src/pyclaw/sharpclaw/solver.py\", line 274, in __del__\n",
      "    self.fmod.clawparams.dealloc_clawparams()\n",
      "AttributeError: 'customSharpClawSolver1D' object has no attribute 'fmod'\n"
     ]
    },
    {
     "name": "stdout",
     "output_type": "stream",
     "text": [
      "RM  with relaxation after each RK stage DONE\n",
      "Running  RM  with order  2\n"
     ]
    },
    {
     "name": "stderr",
     "output_type": "stream",
     "text": [
      "Exception ignored in: <function SharpClawSolver.__del__ at 0x11bc49310>\n",
      "Traceback (most recent call last):\n",
      "  File \"/Users/munozmca/clawpack/pyclaw/src/pyclaw/sharpclaw/solver.py\", line 274, in __del__\n",
      "    self.fmod.clawparams.dealloc_clawparams()\n",
      "AttributeError: 'customSharpClawSolver1D' object has no attribute 'fmod'\n"
     ]
    },
    {
     "name": "stdout",
     "output_type": "stream",
     "text": [
      "RM  with relaxation after each RK stage DONE\n",
      "Running  RM  with order  0\n"
     ]
    },
    {
     "name": "stderr",
     "output_type": "stream",
     "text": [
      "Exception ignored in: <function SharpClawSolver.__del__ at 0x11bc49310>\n",
      "Traceback (most recent call last):\n",
      "  File \"/Users/munozmca/clawpack/pyclaw/src/pyclaw/sharpclaw/solver.py\", line 274, in __del__\n",
      "    self.fmod.clawparams.dealloc_clawparams()\n",
      "AttributeError: 'customSharpClawSolver1D' object has no attribute 'fmod'\n"
     ]
    },
    {
     "name": "stdout",
     "output_type": "stream",
     "text": [
      "RM  with relaxation after each RK stage DONE\n",
      "Running  RM-M  with order  1\n"
     ]
    },
    {
     "name": "stderr",
     "output_type": "stream",
     "text": [
      "Exception ignored in: <function SharpClawSolver.__del__ at 0x11bc49310>\n",
      "Traceback (most recent call last):\n",
      "  File \"/Users/munozmca/clawpack/pyclaw/src/pyclaw/sharpclaw/solver.py\", line 274, in __del__\n",
      "    self.fmod.clawparams.dealloc_clawparams()\n",
      "AttributeError: 'customSharpClawSolver1D' object has no attribute 'fmod'\n"
     ]
    },
    {
     "name": "stdout",
     "output_type": "stream",
     "text": [
      "RM-M  with relaxation after each RK stage DONE\n",
      "Running  RM-M  with order  2\n"
     ]
    },
    {
     "name": "stderr",
     "output_type": "stream",
     "text": [
      "Exception ignored in: <function SharpClawSolver.__del__ at 0x11bc49310>\n",
      "Traceback (most recent call last):\n",
      "  File \"/Users/munozmca/clawpack/pyclaw/src/pyclaw/sharpclaw/solver.py\", line 274, in __del__\n",
      "    self.fmod.clawparams.dealloc_clawparams()\n",
      "AttributeError: 'customSharpClawSolver1D' object has no attribute 'fmod'\n"
     ]
    },
    {
     "name": "stdout",
     "output_type": "stream",
     "text": [
      "RM-M  with relaxation after each RK stage DONE\n",
      "Running  RM-M  with order  0\n"
     ]
    },
    {
     "name": "stderr",
     "output_type": "stream",
     "text": [
      "Exception ignored in: <function SharpClawSolver.__del__ at 0x11bc49310>\n",
      "Traceback (most recent call last):\n",
      "  File \"/Users/munozmca/clawpack/pyclaw/src/pyclaw/sharpclaw/solver.py\", line 274, in __del__\n",
      "    self.fmod.clawparams.dealloc_clawparams()\n",
      "AttributeError: 'customSharpClawSolver1D' object has no attribute 'fmod'\n"
     ]
    },
    {
     "name": "stdout",
     "output_type": "stream",
     "text": [
      "RM-M  with relaxation after each RK stage DONE\n",
      "Layer width =  0.16\n",
      "Running  RM  with order  1\n"
     ]
    },
    {
     "name": "stderr",
     "output_type": "stream",
     "text": [
      "Exception ignored in: <function SharpClawSolver.__del__ at 0x11bc49310>\n",
      "Traceback (most recent call last):\n",
      "  File \"/Users/munozmca/clawpack/pyclaw/src/pyclaw/sharpclaw/solver.py\", line 274, in __del__\n",
      "    self.fmod.clawparams.dealloc_clawparams()\n",
      "AttributeError: 'customSharpClawSolver1D' object has no attribute 'fmod'\n"
     ]
    },
    {
     "name": "stdout",
     "output_type": "stream",
     "text": [
      "RM  with relaxation after each RK stage DONE\n",
      "Running  RM  with order  2\n"
     ]
    },
    {
     "name": "stderr",
     "output_type": "stream",
     "text": [
      "Exception ignored in: <function SharpClawSolver.__del__ at 0x11bc49310>\n",
      "Traceback (most recent call last):\n",
      "  File \"/Users/munozmca/clawpack/pyclaw/src/pyclaw/sharpclaw/solver.py\", line 274, in __del__\n",
      "    self.fmod.clawparams.dealloc_clawparams()\n",
      "AttributeError: 'customSharpClawSolver1D' object has no attribute 'fmod'\n"
     ]
    },
    {
     "name": "stdout",
     "output_type": "stream",
     "text": [
      "RM  with relaxation after each RK stage DONE\n",
      "Running  RM  with order  0\n"
     ]
    },
    {
     "name": "stderr",
     "output_type": "stream",
     "text": [
      "Exception ignored in: <function SharpClawSolver.__del__ at 0x11bc49310>\n",
      "Traceback (most recent call last):\n",
      "  File \"/Users/munozmca/clawpack/pyclaw/src/pyclaw/sharpclaw/solver.py\", line 274, in __del__\n",
      "    self.fmod.clawparams.dealloc_clawparams()\n",
      "AttributeError: 'customSharpClawSolver1D' object has no attribute 'fmod'\n"
     ]
    },
    {
     "name": "stdout",
     "output_type": "stream",
     "text": [
      "RM  with relaxation after each RK stage DONE\n",
      "Running  RM-M  with order  1\n"
     ]
    },
    {
     "name": "stderr",
     "output_type": "stream",
     "text": [
      "Exception ignored in: <function SharpClawSolver.__del__ at 0x11bc49310>\n",
      "Traceback (most recent call last):\n",
      "  File \"/Users/munozmca/clawpack/pyclaw/src/pyclaw/sharpclaw/solver.py\", line 274, in __del__\n",
      "    self.fmod.clawparams.dealloc_clawparams()\n",
      "AttributeError: 'customSharpClawSolver1D' object has no attribute 'fmod'\n"
     ]
    },
    {
     "name": "stdout",
     "output_type": "stream",
     "text": [
      "RM-M  with relaxation after each RK stage DONE\n",
      "Running  RM-M  with order  2\n"
     ]
    },
    {
     "name": "stderr",
     "output_type": "stream",
     "text": [
      "Exception ignored in: <function SharpClawSolver.__del__ at 0x11bc49310>\n",
      "Traceback (most recent call last):\n",
      "  File \"/Users/munozmca/clawpack/pyclaw/src/pyclaw/sharpclaw/solver.py\", line 274, in __del__\n",
      "    self.fmod.clawparams.dealloc_clawparams()\n",
      "AttributeError: 'customSharpClawSolver1D' object has no attribute 'fmod'\n"
     ]
    },
    {
     "name": "stdout",
     "output_type": "stream",
     "text": [
      "RM-M  with relaxation after each RK stage DONE\n",
      "Running  RM-M  with order  0\n"
     ]
    },
    {
     "name": "stderr",
     "output_type": "stream",
     "text": [
      "Exception ignored in: <function SharpClawSolver.__del__ at 0x11bc49310>\n",
      "Traceback (most recent call last):\n",
      "  File \"/Users/munozmca/clawpack/pyclaw/src/pyclaw/sharpclaw/solver.py\", line 274, in __del__\n",
      "    self.fmod.clawparams.dealloc_clawparams()\n",
      "AttributeError: 'customSharpClawSolver1D' object has no attribute 'fmod'\n"
     ]
    },
    {
     "name": "stdout",
     "output_type": "stream",
     "text": [
      "RM-M  with relaxation after each RK stage DONE\n",
      "Layer width =  0.32\n",
      "Running  RM  with order  1\n"
     ]
    },
    {
     "name": "stderr",
     "output_type": "stream",
     "text": [
      "Exception ignored in: <function SharpClawSolver.__del__ at 0x11bc49310>\n",
      "Traceback (most recent call last):\n",
      "  File \"/Users/munozmca/clawpack/pyclaw/src/pyclaw/sharpclaw/solver.py\", line 274, in __del__\n",
      "    self.fmod.clawparams.dealloc_clawparams()\n",
      "AttributeError: 'customSharpClawSolver1D' object has no attribute 'fmod'\n"
     ]
    },
    {
     "name": "stdout",
     "output_type": "stream",
     "text": [
      "RM  with relaxation after each RK stage DONE\n",
      "Running  RM  with order  2\n"
     ]
    },
    {
     "name": "stderr",
     "output_type": "stream",
     "text": [
      "Exception ignored in: <function SharpClawSolver.__del__ at 0x11bc49310>\n",
      "Traceback (most recent call last):\n",
      "  File \"/Users/munozmca/clawpack/pyclaw/src/pyclaw/sharpclaw/solver.py\", line 274, in __del__\n",
      "    self.fmod.clawparams.dealloc_clawparams()\n",
      "AttributeError: 'customSharpClawSolver1D' object has no attribute 'fmod'\n"
     ]
    },
    {
     "name": "stdout",
     "output_type": "stream",
     "text": [
      "RM  with relaxation after each RK stage DONE\n",
      "Running  RM  with order  0\n"
     ]
    },
    {
     "name": "stderr",
     "output_type": "stream",
     "text": [
      "Exception ignored in: <function SharpClawSolver.__del__ at 0x11bc49310>\n",
      "Traceback (most recent call last):\n",
      "  File \"/Users/munozmca/clawpack/pyclaw/src/pyclaw/sharpclaw/solver.py\", line 274, in __del__\n",
      "    self.fmod.clawparams.dealloc_clawparams()\n",
      "AttributeError: 'customSharpClawSolver1D' object has no attribute 'fmod'\n"
     ]
    },
    {
     "name": "stdout",
     "output_type": "stream",
     "text": [
      "RM  with relaxation after each RK stage DONE\n",
      "Running  RM-M  with order  1\n"
     ]
    },
    {
     "name": "stderr",
     "output_type": "stream",
     "text": [
      "Exception ignored in: <function SharpClawSolver.__del__ at 0x11bc49310>\n",
      "Traceback (most recent call last):\n",
      "  File \"/Users/munozmca/clawpack/pyclaw/src/pyclaw/sharpclaw/solver.py\", line 274, in __del__\n",
      "    self.fmod.clawparams.dealloc_clawparams()\n",
      "AttributeError: 'customSharpClawSolver1D' object has no attribute 'fmod'\n"
     ]
    },
    {
     "name": "stdout",
     "output_type": "stream",
     "text": [
      "RM-M  with relaxation after each RK stage DONE\n",
      "Running  RM-M  with order  2\n"
     ]
    },
    {
     "name": "stderr",
     "output_type": "stream",
     "text": [
      "Exception ignored in: <function SharpClawSolver.__del__ at 0x11bc49310>\n",
      "Traceback (most recent call last):\n",
      "  File \"/Users/munozmca/clawpack/pyclaw/src/pyclaw/sharpclaw/solver.py\", line 274, in __del__\n",
      "    self.fmod.clawparams.dealloc_clawparams()\n",
      "AttributeError: 'customSharpClawSolver1D' object has no attribute 'fmod'\n"
     ]
    },
    {
     "name": "stdout",
     "output_type": "stream",
     "text": [
      "RM-M  with relaxation after each RK stage DONE\n",
      "Running  RM-M  with order  0\n"
     ]
    },
    {
     "name": "stderr",
     "output_type": "stream",
     "text": [
      "Exception ignored in: <function SharpClawSolver.__del__ at 0x11bc49310>\n",
      "Traceback (most recent call last):\n",
      "  File \"/Users/munozmca/clawpack/pyclaw/src/pyclaw/sharpclaw/solver.py\", line 274, in __del__\n",
      "    self.fmod.clawparams.dealloc_clawparams()\n",
      "AttributeError: 'customSharpClawSolver1D' object has no attribute 'fmod'\n"
     ]
    },
    {
     "name": "stdout",
     "output_type": "stream",
     "text": [
      "RM-M  with relaxation after each RK stage DONE\n",
      "Layer width =  0.63\n",
      "Running  RM  with order  1\n"
     ]
    },
    {
     "name": "stderr",
     "output_type": "stream",
     "text": [
      "Exception ignored in: <function SharpClawSolver.__del__ at 0x11bc49310>\n",
      "Traceback (most recent call last):\n",
      "  File \"/Users/munozmca/clawpack/pyclaw/src/pyclaw/sharpclaw/solver.py\", line 274, in __del__\n",
      "    self.fmod.clawparams.dealloc_clawparams()\n",
      "AttributeError: 'customSharpClawSolver1D' object has no attribute 'fmod'\n"
     ]
    },
    {
     "name": "stdout",
     "output_type": "stream",
     "text": [
      "RM  with relaxation after each RK stage DONE\n",
      "Running  RM  with order  2\n"
     ]
    },
    {
     "name": "stderr",
     "output_type": "stream",
     "text": [
      "Exception ignored in: <function SharpClawSolver.__del__ at 0x11bc49310>\n",
      "Traceback (most recent call last):\n",
      "  File \"/Users/munozmca/clawpack/pyclaw/src/pyclaw/sharpclaw/solver.py\", line 274, in __del__\n",
      "    self.fmod.clawparams.dealloc_clawparams()\n",
      "AttributeError: 'customSharpClawSolver1D' object has no attribute 'fmod'\n"
     ]
    },
    {
     "name": "stdout",
     "output_type": "stream",
     "text": [
      "RM  with relaxation after each RK stage DONE\n",
      "Running  RM  with order  0\n"
     ]
    },
    {
     "name": "stderr",
     "output_type": "stream",
     "text": [
      "Exception ignored in: <function SharpClawSolver.__del__ at 0x11bc49310>\n",
      "Traceback (most recent call last):\n",
      "  File \"/Users/munozmca/clawpack/pyclaw/src/pyclaw/sharpclaw/solver.py\", line 274, in __del__\n",
      "    self.fmod.clawparams.dealloc_clawparams()\n",
      "AttributeError: 'customSharpClawSolver1D' object has no attribute 'fmod'\n"
     ]
    },
    {
     "name": "stdout",
     "output_type": "stream",
     "text": [
      "RM  with relaxation after each RK stage DONE\n",
      "Running  RM-M  with order  1\n"
     ]
    },
    {
     "name": "stderr",
     "output_type": "stream",
     "text": [
      "Exception ignored in: <function SharpClawSolver.__del__ at 0x11bc49310>\n",
      "Traceback (most recent call last):\n",
      "  File \"/Users/munozmca/clawpack/pyclaw/src/pyclaw/sharpclaw/solver.py\", line 274, in __del__\n",
      "    self.fmod.clawparams.dealloc_clawparams()\n",
      "AttributeError: 'customSharpClawSolver1D' object has no attribute 'fmod'\n"
     ]
    },
    {
     "name": "stdout",
     "output_type": "stream",
     "text": [
      "RM-M  with relaxation after each RK stage DONE\n",
      "Running  RM-M  with order  2\n"
     ]
    },
    {
     "name": "stderr",
     "output_type": "stream",
     "text": [
      "Exception ignored in: <function SharpClawSolver.__del__ at 0x11bc49310>\n",
      "Traceback (most recent call last):\n",
      "  File \"/Users/munozmca/clawpack/pyclaw/src/pyclaw/sharpclaw/solver.py\", line 274, in __del__\n",
      "    self.fmod.clawparams.dealloc_clawparams()\n",
      "AttributeError: 'customSharpClawSolver1D' object has no attribute 'fmod'\n"
     ]
    },
    {
     "name": "stdout",
     "output_type": "stream",
     "text": [
      "RM-M  with relaxation after each RK stage DONE\n",
      "Running  RM-M  with order  0\n"
     ]
    },
    {
     "name": "stderr",
     "output_type": "stream",
     "text": [
      "Exception ignored in: <function SharpClawSolver.__del__ at 0x11bc49310>\n",
      "Traceback (most recent call last):\n",
      "  File \"/Users/munozmca/clawpack/pyclaw/src/pyclaw/sharpclaw/solver.py\", line 274, in __del__\n",
      "    self.fmod.clawparams.dealloc_clawparams()\n",
      "AttributeError: 'customSharpClawSolver1D' object has no attribute 'fmod'\n"
     ]
    },
    {
     "name": "stdout",
     "output_type": "stream",
     "text": [
      "RM-M  with relaxation after each RK stage DONE\n",
      "Layer width =  1.26\n",
      "Running  RM  with order  1\n"
     ]
    },
    {
     "name": "stderr",
     "output_type": "stream",
     "text": [
      "Exception ignored in: <function SharpClawSolver.__del__ at 0x11bc49310>\n",
      "Traceback (most recent call last):\n",
      "  File \"/Users/munozmca/clawpack/pyclaw/src/pyclaw/sharpclaw/solver.py\", line 274, in __del__\n",
      "    self.fmod.clawparams.dealloc_clawparams()\n",
      "AttributeError: 'customSharpClawSolver1D' object has no attribute 'fmod'\n"
     ]
    },
    {
     "name": "stdout",
     "output_type": "stream",
     "text": [
      "RM  with relaxation after each RK stage DONE\n",
      "Running  RM  with order  2\n"
     ]
    },
    {
     "name": "stderr",
     "output_type": "stream",
     "text": [
      "Exception ignored in: <function SharpClawSolver.__del__ at 0x11bc49310>\n",
      "Traceback (most recent call last):\n",
      "  File \"/Users/munozmca/clawpack/pyclaw/src/pyclaw/sharpclaw/solver.py\", line 274, in __del__\n",
      "    self.fmod.clawparams.dealloc_clawparams()\n",
      "AttributeError: 'customSharpClawSolver1D' object has no attribute 'fmod'\n"
     ]
    },
    {
     "name": "stdout",
     "output_type": "stream",
     "text": [
      "RM  with relaxation after each RK stage DONE\n",
      "Running  RM  with order  0\n"
     ]
    },
    {
     "name": "stderr",
     "output_type": "stream",
     "text": [
      "Exception ignored in: <function SharpClawSolver.__del__ at 0x11bc49310>\n",
      "Traceback (most recent call last):\n",
      "  File \"/Users/munozmca/clawpack/pyclaw/src/pyclaw/sharpclaw/solver.py\", line 274, in __del__\n",
      "    self.fmod.clawparams.dealloc_clawparams()\n",
      "AttributeError: 'customSharpClawSolver1D' object has no attribute 'fmod'\n"
     ]
    },
    {
     "name": "stdout",
     "output_type": "stream",
     "text": [
      "RM  with relaxation after each RK stage DONE\n",
      "Running  RM-M  with order  1\n"
     ]
    },
    {
     "name": "stderr",
     "output_type": "stream",
     "text": [
      "Exception ignored in: <function SharpClawSolver.__del__ at 0x11bc49310>\n",
      "Traceback (most recent call last):\n",
      "  File \"/Users/munozmca/clawpack/pyclaw/src/pyclaw/sharpclaw/solver.py\", line 274, in __del__\n",
      "    self.fmod.clawparams.dealloc_clawparams()\n",
      "AttributeError: 'customSharpClawSolver1D' object has no attribute 'fmod'\n"
     ]
    },
    {
     "name": "stdout",
     "output_type": "stream",
     "text": [
      "RM-M  with relaxation after each RK stage DONE\n",
      "Running  RM-M  with order  2\n"
     ]
    },
    {
     "name": "stderr",
     "output_type": "stream",
     "text": [
      "Exception ignored in: <function SharpClawSolver.__del__ at 0x11bc49310>\n",
      "Traceback (most recent call last):\n",
      "  File \"/Users/munozmca/clawpack/pyclaw/src/pyclaw/sharpclaw/solver.py\", line 274, in __del__\n",
      "    self.fmod.clawparams.dealloc_clawparams()\n",
      "AttributeError: 'customSharpClawSolver1D' object has no attribute 'fmod'\n"
     ]
    },
    {
     "name": "stdout",
     "output_type": "stream",
     "text": [
      "RM-M  with relaxation after each RK stage DONE\n",
      "Running  RM-M  with order  0\n"
     ]
    },
    {
     "name": "stderr",
     "output_type": "stream",
     "text": [
      "Exception ignored in: <function SharpClawSolver.__del__ at 0x11bc49310>\n",
      "Traceback (most recent call last):\n",
      "  File \"/Users/munozmca/clawpack/pyclaw/src/pyclaw/sharpclaw/solver.py\", line 274, in __del__\n",
      "    self.fmod.clawparams.dealloc_clawparams()\n",
      "AttributeError: 'customSharpClawSolver1D' object has no attribute 'fmod'\n"
     ]
    },
    {
     "name": "stdout",
     "output_type": "stream",
     "text": [
      "RM-M  with relaxation after each RK stage DONE\n",
      "Layer width =  2.51\n",
      "Running  RM  with order  1\n"
     ]
    },
    {
     "name": "stderr",
     "output_type": "stream",
     "text": [
      "Exception ignored in: <function SharpClawSolver.__del__ at 0x11bc49310>\n",
      "Traceback (most recent call last):\n",
      "  File \"/Users/munozmca/clawpack/pyclaw/src/pyclaw/sharpclaw/solver.py\", line 274, in __del__\n",
      "    self.fmod.clawparams.dealloc_clawparams()\n",
      "AttributeError: 'customSharpClawSolver1D' object has no attribute 'fmod'\n"
     ]
    },
    {
     "name": "stdout",
     "output_type": "stream",
     "text": [
      "RM  with relaxation after each RK stage DONE\n",
      "Running  RM  with order  2\n"
     ]
    },
    {
     "name": "stderr",
     "output_type": "stream",
     "text": [
      "Exception ignored in: <function SharpClawSolver.__del__ at 0x11bc49310>\n",
      "Traceback (most recent call last):\n",
      "  File \"/Users/munozmca/clawpack/pyclaw/src/pyclaw/sharpclaw/solver.py\", line 274, in __del__\n",
      "    self.fmod.clawparams.dealloc_clawparams()\n",
      "AttributeError: 'customSharpClawSolver1D' object has no attribute 'fmod'\n"
     ]
    },
    {
     "name": "stdout",
     "output_type": "stream",
     "text": [
      "RM  with relaxation after each RK stage DONE\n",
      "Running  RM  with order  0\n"
     ]
    },
    {
     "name": "stderr",
     "output_type": "stream",
     "text": [
      "Exception ignored in: <function SharpClawSolver.__del__ at 0x11bc49310>\n",
      "Traceback (most recent call last):\n",
      "  File \"/Users/munozmca/clawpack/pyclaw/src/pyclaw/sharpclaw/solver.py\", line 274, in __del__\n",
      "    self.fmod.clawparams.dealloc_clawparams()\n",
      "AttributeError: 'customSharpClawSolver1D' object has no attribute 'fmod'\n"
     ]
    },
    {
     "name": "stdout",
     "output_type": "stream",
     "text": [
      "RM  with relaxation after each RK stage DONE\n",
      "Running  RM-M  with order  1\n"
     ]
    },
    {
     "name": "stderr",
     "output_type": "stream",
     "text": [
      "Exception ignored in: <function SharpClawSolver.__del__ at 0x11bc49310>\n",
      "Traceback (most recent call last):\n",
      "  File \"/Users/munozmca/clawpack/pyclaw/src/pyclaw/sharpclaw/solver.py\", line 274, in __del__\n",
      "    self.fmod.clawparams.dealloc_clawparams()\n",
      "AttributeError: 'customSharpClawSolver1D' object has no attribute 'fmod'\n"
     ]
    },
    {
     "name": "stdout",
     "output_type": "stream",
     "text": [
      "RM-M  with relaxation after each RK stage DONE\n",
      "Running  RM-M  with order  2\n"
     ]
    },
    {
     "name": "stderr",
     "output_type": "stream",
     "text": [
      "Exception ignored in: <function SharpClawSolver.__del__ at 0x11bc49310>\n",
      "Traceback (most recent call last):\n",
      "  File \"/Users/munozmca/clawpack/pyclaw/src/pyclaw/sharpclaw/solver.py\", line 274, in __del__\n",
      "    self.fmod.clawparams.dealloc_clawparams()\n",
      "AttributeError: 'customSharpClawSolver1D' object has no attribute 'fmod'\n"
     ]
    },
    {
     "name": "stdout",
     "output_type": "stream",
     "text": [
      "RM-M  with relaxation after each RK stage DONE\n",
      "Running  RM-M  with order  0\n"
     ]
    },
    {
     "name": "stderr",
     "output_type": "stream",
     "text": [
      "Exception ignored in: <function SharpClawSolver.__del__ at 0x11bc49310>\n",
      "Traceback (most recent call last):\n",
      "  File \"/Users/munozmca/clawpack/pyclaw/src/pyclaw/sharpclaw/solver.py\", line 274, in __del__\n",
      "    self.fmod.clawparams.dealloc_clawparams()\n",
      "AttributeError: 'customSharpClawSolver1D' object has no attribute 'fmod'\n"
     ]
    },
    {
     "name": "stdout",
     "output_type": "stream",
     "text": [
      "RM-M  with relaxation after each RK stage DONE\n",
      "Layer width =  5.01\n",
      "Running  RM  with order  1\n"
     ]
    },
    {
     "name": "stderr",
     "output_type": "stream",
     "text": [
      "Exception ignored in: <function SharpClawSolver.__del__ at 0x11bc49310>\n",
      "Traceback (most recent call last):\n",
      "  File \"/Users/munozmca/clawpack/pyclaw/src/pyclaw/sharpclaw/solver.py\", line 274, in __del__\n",
      "    self.fmod.clawparams.dealloc_clawparams()\n",
      "AttributeError: 'customSharpClawSolver1D' object has no attribute 'fmod'\n"
     ]
    },
    {
     "name": "stdout",
     "output_type": "stream",
     "text": [
      "RM  with relaxation after each RK stage DONE\n",
      "Running  RM  with order  2\n"
     ]
    },
    {
     "name": "stderr",
     "output_type": "stream",
     "text": [
      "Exception ignored in: <function SharpClawSolver.__del__ at 0x11bc49310>\n",
      "Traceback (most recent call last):\n",
      "  File \"/Users/munozmca/clawpack/pyclaw/src/pyclaw/sharpclaw/solver.py\", line 274, in __del__\n",
      "    self.fmod.clawparams.dealloc_clawparams()\n",
      "AttributeError: 'customSharpClawSolver1D' object has no attribute 'fmod'\n"
     ]
    },
    {
     "name": "stdout",
     "output_type": "stream",
     "text": [
      "RM  with relaxation after each RK stage DONE\n",
      "Running  RM  with order  0\n"
     ]
    },
    {
     "name": "stderr",
     "output_type": "stream",
     "text": [
      "Exception ignored in: <function SharpClawSolver.__del__ at 0x11bc49310>\n",
      "Traceback (most recent call last):\n",
      "  File \"/Users/munozmca/clawpack/pyclaw/src/pyclaw/sharpclaw/solver.py\", line 274, in __del__\n",
      "    self.fmod.clawparams.dealloc_clawparams()\n",
      "AttributeError: 'customSharpClawSolver1D' object has no attribute 'fmod'\n"
     ]
    },
    {
     "name": "stdout",
     "output_type": "stream",
     "text": [
      "RM  with relaxation after each RK stage DONE\n",
      "Running  RM-M  with order  1\n"
     ]
    },
    {
     "name": "stderr",
     "output_type": "stream",
     "text": [
      "Exception ignored in: <function SharpClawSolver.__del__ at 0x11bc49310>\n",
      "Traceback (most recent call last):\n",
      "  File \"/Users/munozmca/clawpack/pyclaw/src/pyclaw/sharpclaw/solver.py\", line 274, in __del__\n",
      "    self.fmod.clawparams.dealloc_clawparams()\n",
      "AttributeError: 'customSharpClawSolver1D' object has no attribute 'fmod'\n"
     ]
    },
    {
     "name": "stdout",
     "output_type": "stream",
     "text": [
      "RM-M  with relaxation after each RK stage DONE\n",
      "Running  RM-M  with order  2\n"
     ]
    },
    {
     "name": "stderr",
     "output_type": "stream",
     "text": [
      "Exception ignored in: <function SharpClawSolver.__del__ at 0x11bc49310>\n",
      "Traceback (most recent call last):\n",
      "  File \"/Users/munozmca/clawpack/pyclaw/src/pyclaw/sharpclaw/solver.py\", line 274, in __del__\n",
      "    self.fmod.clawparams.dealloc_clawparams()\n",
      "AttributeError: 'customSharpClawSolver1D' object has no attribute 'fmod'\n"
     ]
    },
    {
     "name": "stdout",
     "output_type": "stream",
     "text": [
      "RM-M  with relaxation after each RK stage DONE\n",
      "Running  RM-M  with order  0\n"
     ]
    },
    {
     "name": "stderr",
     "output_type": "stream",
     "text": [
      "Exception ignored in: <function SharpClawSolver.__del__ at 0x11bc49310>\n",
      "Traceback (most recent call last):\n",
      "  File \"/Users/munozmca/clawpack/pyclaw/src/pyclaw/sharpclaw/solver.py\", line 274, in __del__\n",
      "    self.fmod.clawparams.dealloc_clawparams()\n",
      "AttributeError: 'customSharpClawSolver1D' object has no attribute 'fmod'\n"
     ]
    },
    {
     "name": "stdout",
     "output_type": "stream",
     "text": [
      "RM-M  with relaxation after each RK stage DONE\n",
      "Layer width =  10.0\n",
      "Running  RM  with order  1\n"
     ]
    },
    {
     "name": "stderr",
     "output_type": "stream",
     "text": [
      "Exception ignored in: <function SharpClawSolver.__del__ at 0x11bc49310>\n",
      "Traceback (most recent call last):\n",
      "  File \"/Users/munozmca/clawpack/pyclaw/src/pyclaw/sharpclaw/solver.py\", line 274, in __del__\n",
      "    self.fmod.clawparams.dealloc_clawparams()\n",
      "AttributeError: 'customSharpClawSolver1D' object has no attribute 'fmod'\n"
     ]
    },
    {
     "name": "stdout",
     "output_type": "stream",
     "text": [
      "RM  with relaxation after each RK stage DONE\n",
      "Running  RM  with order  2\n"
     ]
    },
    {
     "name": "stderr",
     "output_type": "stream",
     "text": [
      "Exception ignored in: <function SharpClawSolver.__del__ at 0x11bc49310>\n",
      "Traceback (most recent call last):\n",
      "  File \"/Users/munozmca/clawpack/pyclaw/src/pyclaw/sharpclaw/solver.py\", line 274, in __del__\n",
      "    self.fmod.clawparams.dealloc_clawparams()\n",
      "AttributeError: 'customSharpClawSolver1D' object has no attribute 'fmod'\n"
     ]
    },
    {
     "name": "stdout",
     "output_type": "stream",
     "text": [
      "RM  with relaxation after each RK stage DONE\n",
      "Running  RM  with order  0\n"
     ]
    },
    {
     "name": "stderr",
     "output_type": "stream",
     "text": [
      "Exception ignored in: <function SharpClawSolver.__del__ at 0x11bc49310>\n",
      "Traceback (most recent call last):\n",
      "  File \"/Users/munozmca/clawpack/pyclaw/src/pyclaw/sharpclaw/solver.py\", line 274, in __del__\n",
      "    self.fmod.clawparams.dealloc_clawparams()\n",
      "AttributeError: 'customSharpClawSolver1D' object has no attribute 'fmod'\n"
     ]
    },
    {
     "name": "stdout",
     "output_type": "stream",
     "text": [
      "RM  with relaxation after each RK stage DONE\n",
      "Running  RM-M  with order  1\n"
     ]
    },
    {
     "name": "stderr",
     "output_type": "stream",
     "text": [
      "Exception ignored in: <function SharpClawSolver.__del__ at 0x11bc49310>\n",
      "Traceback (most recent call last):\n",
      "  File \"/Users/munozmca/clawpack/pyclaw/src/pyclaw/sharpclaw/solver.py\", line 274, in __del__\n",
      "    self.fmod.clawparams.dealloc_clawparams()\n",
      "AttributeError: 'customSharpClawSolver1D' object has no attribute 'fmod'\n"
     ]
    },
    {
     "name": "stdout",
     "output_type": "stream",
     "text": [
      "RM-M  with relaxation after each RK stage DONE\n",
      "Running  RM-M  with order  2\n"
     ]
    },
    {
     "name": "stderr",
     "output_type": "stream",
     "text": [
      "Exception ignored in: <function SharpClawSolver.__del__ at 0x11bc49310>\n",
      "Traceback (most recent call last):\n",
      "  File \"/Users/munozmca/clawpack/pyclaw/src/pyclaw/sharpclaw/solver.py\", line 274, in __del__\n",
      "    self.fmod.clawparams.dealloc_clawparams()\n",
      "AttributeError: 'customSharpClawSolver1D' object has no attribute 'fmod'\n"
     ]
    },
    {
     "name": "stdout",
     "output_type": "stream",
     "text": [
      "RM-M  with relaxation after each RK stage DONE\n",
      "Running  RM-M  with order  0\n"
     ]
    },
    {
     "name": "stderr",
     "output_type": "stream",
     "text": [
      "Exception ignored in: <function SharpClawSolver.__del__ at 0x11bc49310>\n",
      "Traceback (most recent call last):\n",
      "  File \"/Users/munozmca/clawpack/pyclaw/src/pyclaw/sharpclaw/solver.py\", line 274, in __del__\n",
      "    self.fmod.clawparams.dealloc_clawparams()\n",
      "AttributeError: 'customSharpClawSolver1D' object has no attribute 'fmod'\n",
      "Exception ignored in: <function SharpClawSolver.__del__ at 0x11bc49310>\n",
      "Traceback (most recent call last):\n",
      "  File \"/Users/munozmca/clawpack/pyclaw/src/pyclaw/sharpclaw/solver.py\", line 274, in __del__\n",
      "    self.fmod.clawparams.dealloc_clawparams()\n",
      "AttributeError: 'SharpClawSolver1D' object has no attribute 'fmod'\n",
      "Exception ignored in: <function SharpClawSolver.__del__ at 0x11bc49310>\n",
      "Traceback (most recent call last):\n",
      "  File \"/Users/munozmca/clawpack/pyclaw/src/pyclaw/sharpclaw/solver.py\", line 274, in __del__\n",
      "    self.fmod.clawparams.dealloc_clawparams()\n",
      "AttributeError: 'customSharpClawSolver1D' object has no attribute 'fmod'\n"
     ]
    },
    {
     "name": "stdout",
     "output_type": "stream",
     "text": [
      "RM-M  with relaxation after each RK stage DONE\n",
      "#################################################################\n",
      "#################################################################\n",
      "Error list:  [[5.16342462e-02 5.16342462e-02 5.16342462e-02 5.16342462e-02\n",
      "  5.16342462e-02 5.16342462e-02]\n",
      " [5.16342462e-02 5.16342462e-02 5.16342462e-02 5.16342462e-02\n",
      "  5.16342462e-02 5.16342462e-02]\n",
      " [5.20051544e-02 5.20051544e-02 5.15496064e-02 5.24142297e-02\n",
      "  5.24142297e-02 5.21553193e-02]\n",
      " [3.59013653e-02 3.59013653e-02 2.78718289e-02 4.29581645e-02\n",
      "  4.29581645e-02 3.44031456e-02]\n",
      " [5.43334422e-03 5.43334422e-03 3.53040567e-03 9.43870608e-03\n",
      "  9.43870608e-03 6.85842419e-03]\n",
      " [2.15186254e-03 2.15186254e-03 2.33619456e-03 5.16574997e-04\n",
      "  5.16574997e-04 1.21129375e-03]\n",
      " [9.58407013e-04 9.58407013e-04 1.08401566e-03 5.91803309e-04\n",
      "  5.91803309e-04 7.95534692e-04]\n",
      " [2.68518540e-04 2.68518540e-04 3.39890739e-04 2.76602076e-04\n",
      "  2.76602076e-04 3.19787144e-04]\n",
      " [6.58935599e-05 6.58935599e-05 7.57374736e-05 6.73550820e-05\n",
      "  6.73550820e-05 1.22955569e-04]\n",
      " [2.89152822e-05 2.89152822e-05 2.31317799e-05 3.42297717e-05\n",
      "  3.42297717e-05 2.51140191e-05]\n",
      " [1.22376246e-05 1.22376246e-05 1.38829765e-05 1.31632860e-05\n",
      "  1.31632860e-05 1.55414848e-05]]\n",
      "#################################################################\n",
      "#################################################################\n",
      "RUNNING SIMULATION WITH PARAMETERS:\n",
      "piston_freq =  1.0 , p =  20 , p_domain =  30 , M =  0.4\n",
      "Layer width =  0.01\n",
      "Running  RM  with order  1\n",
      "RM  with relaxation after each RK stage DONE\n",
      "Running  RM  with order  2\n"
     ]
    },
    {
     "name": "stderr",
     "output_type": "stream",
     "text": [
      "Exception ignored in: <function SharpClawSolver.__del__ at 0x11bc49310>\n",
      "Traceback (most recent call last):\n",
      "  File \"/Users/munozmca/clawpack/pyclaw/src/pyclaw/sharpclaw/solver.py\", line 274, in __del__\n",
      "    self.fmod.clawparams.dealloc_clawparams()\n",
      "AttributeError: 'customSharpClawSolver1D' object has no attribute 'fmod'\n"
     ]
    },
    {
     "name": "stdout",
     "output_type": "stream",
     "text": [
      "RM  with relaxation after each RK stage DONE\n",
      "Running  RM  with order  0\n"
     ]
    },
    {
     "name": "stderr",
     "output_type": "stream",
     "text": [
      "Exception ignored in: <function SharpClawSolver.__del__ at 0x11bc49310>\n",
      "Traceback (most recent call last):\n",
      "  File \"/Users/munozmca/clawpack/pyclaw/src/pyclaw/sharpclaw/solver.py\", line 274, in __del__\n",
      "    self.fmod.clawparams.dealloc_clawparams()\n",
      "AttributeError: 'customSharpClawSolver1D' object has no attribute 'fmod'\n"
     ]
    },
    {
     "name": "stdout",
     "output_type": "stream",
     "text": [
      "RM  with relaxation after each RK stage DONE\n",
      "Running  RM-M  with order  1\n"
     ]
    },
    {
     "name": "stderr",
     "output_type": "stream",
     "text": [
      "Exception ignored in: <function SharpClawSolver.__del__ at 0x11bc49310>\n",
      "Traceback (most recent call last):\n",
      "  File \"/Users/munozmca/clawpack/pyclaw/src/pyclaw/sharpclaw/solver.py\", line 274, in __del__\n",
      "    self.fmod.clawparams.dealloc_clawparams()\n",
      "AttributeError: 'customSharpClawSolver1D' object has no attribute 'fmod'\n"
     ]
    },
    {
     "name": "stdout",
     "output_type": "stream",
     "text": [
      "RM-M  with relaxation after each RK stage DONE\n",
      "Running  RM-M  with order  2\n"
     ]
    },
    {
     "name": "stderr",
     "output_type": "stream",
     "text": [
      "Exception ignored in: <function SharpClawSolver.__del__ at 0x11bc49310>\n",
      "Traceback (most recent call last):\n",
      "  File \"/Users/munozmca/clawpack/pyclaw/src/pyclaw/sharpclaw/solver.py\", line 274, in __del__\n",
      "    self.fmod.clawparams.dealloc_clawparams()\n",
      "AttributeError: 'customSharpClawSolver1D' object has no attribute 'fmod'\n"
     ]
    },
    {
     "name": "stdout",
     "output_type": "stream",
     "text": [
      "RM-M  with relaxation after each RK stage DONE\n",
      "Running  RM-M  with order  0\n"
     ]
    },
    {
     "name": "stderr",
     "output_type": "stream",
     "text": [
      "Exception ignored in: <function SharpClawSolver.__del__ at 0x11bc49310>\n",
      "Traceback (most recent call last):\n",
      "  File \"/Users/munozmca/clawpack/pyclaw/src/pyclaw/sharpclaw/solver.py\", line 274, in __del__\n",
      "    self.fmod.clawparams.dealloc_clawparams()\n",
      "AttributeError: 'customSharpClawSolver1D' object has no attribute 'fmod'\n"
     ]
    },
    {
     "name": "stdout",
     "output_type": "stream",
     "text": [
      "RM-M  with relaxation after each RK stage DONE\n",
      "Layer width =  0.02\n",
      "Running  RM  with order  1\n"
     ]
    },
    {
     "name": "stderr",
     "output_type": "stream",
     "text": [
      "Exception ignored in: <function SharpClawSolver.__del__ at 0x11bc49310>\n",
      "Traceback (most recent call last):\n",
      "  File \"/Users/munozmca/clawpack/pyclaw/src/pyclaw/sharpclaw/solver.py\", line 274, in __del__\n",
      "    self.fmod.clawparams.dealloc_clawparams()\n",
      "AttributeError: 'customSharpClawSolver1D' object has no attribute 'fmod'\n"
     ]
    },
    {
     "name": "stdout",
     "output_type": "stream",
     "text": [
      "RM  with relaxation after each RK stage DONE\n",
      "Running  RM  with order  2\n"
     ]
    },
    {
     "name": "stderr",
     "output_type": "stream",
     "text": [
      "Exception ignored in: <function SharpClawSolver.__del__ at 0x11bc49310>\n",
      "Traceback (most recent call last):\n",
      "  File \"/Users/munozmca/clawpack/pyclaw/src/pyclaw/sharpclaw/solver.py\", line 274, in __del__\n",
      "    self.fmod.clawparams.dealloc_clawparams()\n",
      "AttributeError: 'customSharpClawSolver1D' object has no attribute 'fmod'\n"
     ]
    },
    {
     "name": "stdout",
     "output_type": "stream",
     "text": [
      "RM  with relaxation after each RK stage DONE\n",
      "Running  RM  with order  0\n"
     ]
    },
    {
     "name": "stderr",
     "output_type": "stream",
     "text": [
      "Exception ignored in: <function SharpClawSolver.__del__ at 0x11bc49310>\n",
      "Traceback (most recent call last):\n",
      "  File \"/Users/munozmca/clawpack/pyclaw/src/pyclaw/sharpclaw/solver.py\", line 274, in __del__\n",
      "    self.fmod.clawparams.dealloc_clawparams()\n",
      "AttributeError: 'customSharpClawSolver1D' object has no attribute 'fmod'\n"
     ]
    },
    {
     "name": "stdout",
     "output_type": "stream",
     "text": [
      "RM  with relaxation after each RK stage DONE\n",
      "Running  RM-M  with order  1\n"
     ]
    },
    {
     "name": "stderr",
     "output_type": "stream",
     "text": [
      "Exception ignored in: <function SharpClawSolver.__del__ at 0x11bc49310>\n",
      "Traceback (most recent call last):\n",
      "  File \"/Users/munozmca/clawpack/pyclaw/src/pyclaw/sharpclaw/solver.py\", line 274, in __del__\n",
      "    self.fmod.clawparams.dealloc_clawparams()\n",
      "AttributeError: 'customSharpClawSolver1D' object has no attribute 'fmod'\n"
     ]
    },
    {
     "name": "stdout",
     "output_type": "stream",
     "text": [
      "RM-M  with relaxation after each RK stage DONE\n",
      "Running  RM-M  with order  2\n"
     ]
    },
    {
     "name": "stderr",
     "output_type": "stream",
     "text": [
      "Exception ignored in: <function SharpClawSolver.__del__ at 0x11bc49310>\n",
      "Traceback (most recent call last):\n",
      "  File \"/Users/munozmca/clawpack/pyclaw/src/pyclaw/sharpclaw/solver.py\", line 274, in __del__\n",
      "    self.fmod.clawparams.dealloc_clawparams()\n",
      "AttributeError: 'customSharpClawSolver1D' object has no attribute 'fmod'\n"
     ]
    },
    {
     "name": "stdout",
     "output_type": "stream",
     "text": [
      "RM-M  with relaxation after each RK stage DONE\n",
      "Running  RM-M  with order  0\n"
     ]
    },
    {
     "name": "stderr",
     "output_type": "stream",
     "text": [
      "Exception ignored in: <function SharpClawSolver.__del__ at 0x11bc49310>\n",
      "Traceback (most recent call last):\n",
      "  File \"/Users/munozmca/clawpack/pyclaw/src/pyclaw/sharpclaw/solver.py\", line 274, in __del__\n",
      "    self.fmod.clawparams.dealloc_clawparams()\n",
      "AttributeError: 'customSharpClawSolver1D' object has no attribute 'fmod'\n"
     ]
    },
    {
     "name": "stdout",
     "output_type": "stream",
     "text": [
      "RM-M  with relaxation after each RK stage DONE\n",
      "Layer width =  0.04\n",
      "Running  RM  with order  1\n"
     ]
    },
    {
     "name": "stderr",
     "output_type": "stream",
     "text": [
      "Exception ignored in: <function SharpClawSolver.__del__ at 0x11bc49310>\n",
      "Traceback (most recent call last):\n",
      "  File \"/Users/munozmca/clawpack/pyclaw/src/pyclaw/sharpclaw/solver.py\", line 274, in __del__\n",
      "    self.fmod.clawparams.dealloc_clawparams()\n",
      "AttributeError: 'customSharpClawSolver1D' object has no attribute 'fmod'\n"
     ]
    },
    {
     "name": "stdout",
     "output_type": "stream",
     "text": [
      "RM  with relaxation after each RK stage DONE\n",
      "Running  RM  with order  2\n"
     ]
    },
    {
     "name": "stderr",
     "output_type": "stream",
     "text": [
      "Exception ignored in: <function SharpClawSolver.__del__ at 0x11bc49310>\n",
      "Traceback (most recent call last):\n",
      "  File \"/Users/munozmca/clawpack/pyclaw/src/pyclaw/sharpclaw/solver.py\", line 274, in __del__\n",
      "    self.fmod.clawparams.dealloc_clawparams()\n",
      "AttributeError: 'customSharpClawSolver1D' object has no attribute 'fmod'\n"
     ]
    },
    {
     "name": "stdout",
     "output_type": "stream",
     "text": [
      "RM  with relaxation after each RK stage DONE\n",
      "Running  RM  with order  0\n"
     ]
    },
    {
     "name": "stderr",
     "output_type": "stream",
     "text": [
      "Exception ignored in: <function SharpClawSolver.__del__ at 0x11bc49310>\n",
      "Traceback (most recent call last):\n",
      "  File \"/Users/munozmca/clawpack/pyclaw/src/pyclaw/sharpclaw/solver.py\", line 274, in __del__\n",
      "    self.fmod.clawparams.dealloc_clawparams()\n",
      "AttributeError: 'customSharpClawSolver1D' object has no attribute 'fmod'\n"
     ]
    },
    {
     "name": "stdout",
     "output_type": "stream",
     "text": [
      "RM  with relaxation after each RK stage DONE\n",
      "Running  RM-M  with order  1\n"
     ]
    },
    {
     "name": "stderr",
     "output_type": "stream",
     "text": [
      "Exception ignored in: <function SharpClawSolver.__del__ at 0x11bc49310>\n",
      "Traceback (most recent call last):\n",
      "  File \"/Users/munozmca/clawpack/pyclaw/src/pyclaw/sharpclaw/solver.py\", line 274, in __del__\n",
      "    self.fmod.clawparams.dealloc_clawparams()\n",
      "AttributeError: 'customSharpClawSolver1D' object has no attribute 'fmod'\n"
     ]
    },
    {
     "name": "stdout",
     "output_type": "stream",
     "text": [
      "RM-M  with relaxation after each RK stage DONE\n",
      "Running  RM-M  with order  2\n"
     ]
    },
    {
     "name": "stderr",
     "output_type": "stream",
     "text": [
      "Exception ignored in: <function SharpClawSolver.__del__ at 0x11bc49310>\n",
      "Traceback (most recent call last):\n",
      "  File \"/Users/munozmca/clawpack/pyclaw/src/pyclaw/sharpclaw/solver.py\", line 274, in __del__\n",
      "    self.fmod.clawparams.dealloc_clawparams()\n",
      "AttributeError: 'customSharpClawSolver1D' object has no attribute 'fmod'\n"
     ]
    },
    {
     "name": "stdout",
     "output_type": "stream",
     "text": [
      "RM-M  with relaxation after each RK stage DONE\n",
      "Running  RM-M  with order  0\n"
     ]
    },
    {
     "name": "stderr",
     "output_type": "stream",
     "text": [
      "Exception ignored in: <function SharpClawSolver.__del__ at 0x11bc49310>\n",
      "Traceback (most recent call last):\n",
      "  File \"/Users/munozmca/clawpack/pyclaw/src/pyclaw/sharpclaw/solver.py\", line 274, in __del__\n",
      "    self.fmod.clawparams.dealloc_clawparams()\n",
      "AttributeError: 'customSharpClawSolver1D' object has no attribute 'fmod'\n"
     ]
    },
    {
     "name": "stdout",
     "output_type": "stream",
     "text": [
      "RM-M  with relaxation after each RK stage DONE\n",
      "Layer width =  0.08\n",
      "Running  RM  with order  1\n"
     ]
    },
    {
     "name": "stderr",
     "output_type": "stream",
     "text": [
      "Exception ignored in: <function SharpClawSolver.__del__ at 0x11bc49310>\n",
      "Traceback (most recent call last):\n",
      "  File \"/Users/munozmca/clawpack/pyclaw/src/pyclaw/sharpclaw/solver.py\", line 274, in __del__\n",
      "    self.fmod.clawparams.dealloc_clawparams()\n",
      "AttributeError: 'customSharpClawSolver1D' object has no attribute 'fmod'\n"
     ]
    },
    {
     "name": "stdout",
     "output_type": "stream",
     "text": [
      "RM  with relaxation after each RK stage DONE\n",
      "Running  RM  with order  2\n"
     ]
    },
    {
     "name": "stderr",
     "output_type": "stream",
     "text": [
      "Exception ignored in: <function SharpClawSolver.__del__ at 0x11bc49310>\n",
      "Traceback (most recent call last):\n",
      "  File \"/Users/munozmca/clawpack/pyclaw/src/pyclaw/sharpclaw/solver.py\", line 274, in __del__\n",
      "    self.fmod.clawparams.dealloc_clawparams()\n",
      "AttributeError: 'customSharpClawSolver1D' object has no attribute 'fmod'\n"
     ]
    },
    {
     "name": "stdout",
     "output_type": "stream",
     "text": [
      "RM  with relaxation after each RK stage DONE\n",
      "Running  RM  with order  0\n"
     ]
    },
    {
     "name": "stderr",
     "output_type": "stream",
     "text": [
      "Exception ignored in: <function SharpClawSolver.__del__ at 0x11bc49310>\n",
      "Traceback (most recent call last):\n",
      "  File \"/Users/munozmca/clawpack/pyclaw/src/pyclaw/sharpclaw/solver.py\", line 274, in __del__\n",
      "    self.fmod.clawparams.dealloc_clawparams()\n",
      "AttributeError: 'customSharpClawSolver1D' object has no attribute 'fmod'\n"
     ]
    },
    {
     "name": "stdout",
     "output_type": "stream",
     "text": [
      "RM  with relaxation after each RK stage DONE\n",
      "Running  RM-M  with order  1\n"
     ]
    },
    {
     "name": "stderr",
     "output_type": "stream",
     "text": [
      "Exception ignored in: <function SharpClawSolver.__del__ at 0x11bc49310>\n",
      "Traceback (most recent call last):\n",
      "  File \"/Users/munozmca/clawpack/pyclaw/src/pyclaw/sharpclaw/solver.py\", line 274, in __del__\n",
      "    self.fmod.clawparams.dealloc_clawparams()\n",
      "AttributeError: 'customSharpClawSolver1D' object has no attribute 'fmod'\n"
     ]
    },
    {
     "name": "stdout",
     "output_type": "stream",
     "text": [
      "RM-M  with relaxation after each RK stage DONE\n",
      "Running  RM-M  with order  2\n"
     ]
    },
    {
     "name": "stderr",
     "output_type": "stream",
     "text": [
      "Exception ignored in: <function SharpClawSolver.__del__ at 0x11bc49310>\n",
      "Traceback (most recent call last):\n",
      "  File \"/Users/munozmca/clawpack/pyclaw/src/pyclaw/sharpclaw/solver.py\", line 274, in __del__\n",
      "    self.fmod.clawparams.dealloc_clawparams()\n",
      "AttributeError: 'customSharpClawSolver1D' object has no attribute 'fmod'\n"
     ]
    },
    {
     "name": "stdout",
     "output_type": "stream",
     "text": [
      "RM-M  with relaxation after each RK stage DONE\n",
      "Running  RM-M  with order  0\n"
     ]
    },
    {
     "name": "stderr",
     "output_type": "stream",
     "text": [
      "Exception ignored in: <function SharpClawSolver.__del__ at 0x11bc49310>\n",
      "Traceback (most recent call last):\n",
      "  File \"/Users/munozmca/clawpack/pyclaw/src/pyclaw/sharpclaw/solver.py\", line 274, in __del__\n",
      "    self.fmod.clawparams.dealloc_clawparams()\n",
      "AttributeError: 'customSharpClawSolver1D' object has no attribute 'fmod'\n"
     ]
    },
    {
     "name": "stdout",
     "output_type": "stream",
     "text": [
      "RM-M  with relaxation after each RK stage DONE\n",
      "Layer width =  0.16\n",
      "Running  RM  with order  1\n"
     ]
    },
    {
     "name": "stderr",
     "output_type": "stream",
     "text": [
      "Exception ignored in: <function SharpClawSolver.__del__ at 0x11bc49310>\n",
      "Traceback (most recent call last):\n",
      "  File \"/Users/munozmca/clawpack/pyclaw/src/pyclaw/sharpclaw/solver.py\", line 274, in __del__\n",
      "    self.fmod.clawparams.dealloc_clawparams()\n",
      "AttributeError: 'customSharpClawSolver1D' object has no attribute 'fmod'\n"
     ]
    },
    {
     "name": "stdout",
     "output_type": "stream",
     "text": [
      "RM  with relaxation after each RK stage DONE\n",
      "Running  RM  with order  2\n"
     ]
    },
    {
     "name": "stderr",
     "output_type": "stream",
     "text": [
      "Exception ignored in: <function SharpClawSolver.__del__ at 0x11bc49310>\n",
      "Traceback (most recent call last):\n",
      "  File \"/Users/munozmca/clawpack/pyclaw/src/pyclaw/sharpclaw/solver.py\", line 274, in __del__\n",
      "    self.fmod.clawparams.dealloc_clawparams()\n",
      "AttributeError: 'customSharpClawSolver1D' object has no attribute 'fmod'\n"
     ]
    },
    {
     "name": "stdout",
     "output_type": "stream",
     "text": [
      "RM  with relaxation after each RK stage DONE\n",
      "Running  RM  with order  0\n"
     ]
    },
    {
     "name": "stderr",
     "output_type": "stream",
     "text": [
      "Exception ignored in: <function SharpClawSolver.__del__ at 0x11bc49310>\n",
      "Traceback (most recent call last):\n",
      "  File \"/Users/munozmca/clawpack/pyclaw/src/pyclaw/sharpclaw/solver.py\", line 274, in __del__\n",
      "    self.fmod.clawparams.dealloc_clawparams()\n",
      "AttributeError: 'customSharpClawSolver1D' object has no attribute 'fmod'\n"
     ]
    },
    {
     "name": "stdout",
     "output_type": "stream",
     "text": [
      "RM  with relaxation after each RK stage DONE\n",
      "Running  RM-M  with order  1\n"
     ]
    },
    {
     "name": "stderr",
     "output_type": "stream",
     "text": [
      "Exception ignored in: <function SharpClawSolver.__del__ at 0x11bc49310>\n",
      "Traceback (most recent call last):\n",
      "  File \"/Users/munozmca/clawpack/pyclaw/src/pyclaw/sharpclaw/solver.py\", line 274, in __del__\n",
      "    self.fmod.clawparams.dealloc_clawparams()\n",
      "AttributeError: 'customSharpClawSolver1D' object has no attribute 'fmod'\n"
     ]
    },
    {
     "name": "stdout",
     "output_type": "stream",
     "text": [
      "RM-M  with relaxation after each RK stage DONE\n",
      "Running  RM-M  with order  2\n"
     ]
    },
    {
     "name": "stderr",
     "output_type": "stream",
     "text": [
      "Exception ignored in: <function SharpClawSolver.__del__ at 0x11bc49310>\n",
      "Traceback (most recent call last):\n",
      "  File \"/Users/munozmca/clawpack/pyclaw/src/pyclaw/sharpclaw/solver.py\", line 274, in __del__\n",
      "    self.fmod.clawparams.dealloc_clawparams()\n",
      "AttributeError: 'customSharpClawSolver1D' object has no attribute 'fmod'\n"
     ]
    },
    {
     "name": "stdout",
     "output_type": "stream",
     "text": [
      "RM-M  with relaxation after each RK stage DONE\n",
      "Running  RM-M  with order  0\n"
     ]
    },
    {
     "name": "stderr",
     "output_type": "stream",
     "text": [
      "Exception ignored in: <function SharpClawSolver.__del__ at 0x11bc49310>\n",
      "Traceback (most recent call last):\n",
      "  File \"/Users/munozmca/clawpack/pyclaw/src/pyclaw/sharpclaw/solver.py\", line 274, in __del__\n",
      "    self.fmod.clawparams.dealloc_clawparams()\n",
      "AttributeError: 'customSharpClawSolver1D' object has no attribute 'fmod'\n"
     ]
    },
    {
     "name": "stdout",
     "output_type": "stream",
     "text": [
      "RM-M  with relaxation after each RK stage DONE\n",
      "Layer width =  0.32\n",
      "Running  RM  with order  1\n"
     ]
    },
    {
     "name": "stderr",
     "output_type": "stream",
     "text": [
      "Exception ignored in: <function SharpClawSolver.__del__ at 0x11bc49310>\n",
      "Traceback (most recent call last):\n",
      "  File \"/Users/munozmca/clawpack/pyclaw/src/pyclaw/sharpclaw/solver.py\", line 274, in __del__\n",
      "    self.fmod.clawparams.dealloc_clawparams()\n",
      "AttributeError: 'customSharpClawSolver1D' object has no attribute 'fmod'\n"
     ]
    },
    {
     "name": "stdout",
     "output_type": "stream",
     "text": [
      "RM  with relaxation after each RK stage DONE\n",
      "Running  RM  with order  2\n"
     ]
    },
    {
     "name": "stderr",
     "output_type": "stream",
     "text": [
      "Exception ignored in: <function SharpClawSolver.__del__ at 0x11bc49310>\n",
      "Traceback (most recent call last):\n",
      "  File \"/Users/munozmca/clawpack/pyclaw/src/pyclaw/sharpclaw/solver.py\", line 274, in __del__\n",
      "    self.fmod.clawparams.dealloc_clawparams()\n",
      "AttributeError: 'customSharpClawSolver1D' object has no attribute 'fmod'\n"
     ]
    },
    {
     "name": "stdout",
     "output_type": "stream",
     "text": [
      "RM  with relaxation after each RK stage DONE\n",
      "Running  RM  with order  0\n"
     ]
    },
    {
     "name": "stderr",
     "output_type": "stream",
     "text": [
      "Exception ignored in: <function SharpClawSolver.__del__ at 0x11bc49310>\n",
      "Traceback (most recent call last):\n",
      "  File \"/Users/munozmca/clawpack/pyclaw/src/pyclaw/sharpclaw/solver.py\", line 274, in __del__\n",
      "    self.fmod.clawparams.dealloc_clawparams()\n",
      "AttributeError: 'customSharpClawSolver1D' object has no attribute 'fmod'\n"
     ]
    },
    {
     "name": "stdout",
     "output_type": "stream",
     "text": [
      "RM  with relaxation after each RK stage DONE\n",
      "Running  RM-M  with order  1\n"
     ]
    },
    {
     "name": "stderr",
     "output_type": "stream",
     "text": [
      "Exception ignored in: <function SharpClawSolver.__del__ at 0x11bc49310>\n",
      "Traceback (most recent call last):\n",
      "  File \"/Users/munozmca/clawpack/pyclaw/src/pyclaw/sharpclaw/solver.py\", line 274, in __del__\n",
      "    self.fmod.clawparams.dealloc_clawparams()\n",
      "AttributeError: 'customSharpClawSolver1D' object has no attribute 'fmod'\n"
     ]
    },
    {
     "name": "stdout",
     "output_type": "stream",
     "text": [
      "RM-M  with relaxation after each RK stage DONE\n",
      "Running  RM-M  with order  2\n"
     ]
    },
    {
     "name": "stderr",
     "output_type": "stream",
     "text": [
      "Exception ignored in: <function SharpClawSolver.__del__ at 0x11bc49310>\n",
      "Traceback (most recent call last):\n",
      "  File \"/Users/munozmca/clawpack/pyclaw/src/pyclaw/sharpclaw/solver.py\", line 274, in __del__\n",
      "    self.fmod.clawparams.dealloc_clawparams()\n",
      "AttributeError: 'customSharpClawSolver1D' object has no attribute 'fmod'\n"
     ]
    },
    {
     "name": "stdout",
     "output_type": "stream",
     "text": [
      "RM-M  with relaxation after each RK stage DONE\n",
      "Running  RM-M  with order  0\n"
     ]
    },
    {
     "name": "stderr",
     "output_type": "stream",
     "text": [
      "Exception ignored in: <function SharpClawSolver.__del__ at 0x11bc49310>\n",
      "Traceback (most recent call last):\n",
      "  File \"/Users/munozmca/clawpack/pyclaw/src/pyclaw/sharpclaw/solver.py\", line 274, in __del__\n",
      "    self.fmod.clawparams.dealloc_clawparams()\n",
      "AttributeError: 'customSharpClawSolver1D' object has no attribute 'fmod'\n"
     ]
    },
    {
     "name": "stdout",
     "output_type": "stream",
     "text": [
      "RM-M  with relaxation after each RK stage DONE\n",
      "Layer width =  0.63\n",
      "Running  RM  with order  1\n"
     ]
    },
    {
     "name": "stderr",
     "output_type": "stream",
     "text": [
      "Exception ignored in: <function SharpClawSolver.__del__ at 0x11bc49310>\n",
      "Traceback (most recent call last):\n",
      "  File \"/Users/munozmca/clawpack/pyclaw/src/pyclaw/sharpclaw/solver.py\", line 274, in __del__\n",
      "    self.fmod.clawparams.dealloc_clawparams()\n",
      "AttributeError: 'customSharpClawSolver1D' object has no attribute 'fmod'\n"
     ]
    },
    {
     "name": "stdout",
     "output_type": "stream",
     "text": [
      "RM  with relaxation after each RK stage DONE\n",
      "Running  RM  with order  2\n"
     ]
    },
    {
     "name": "stderr",
     "output_type": "stream",
     "text": [
      "Exception ignored in: <function SharpClawSolver.__del__ at 0x11bc49310>\n",
      "Traceback (most recent call last):\n",
      "  File \"/Users/munozmca/clawpack/pyclaw/src/pyclaw/sharpclaw/solver.py\", line 274, in __del__\n",
      "    self.fmod.clawparams.dealloc_clawparams()\n",
      "AttributeError: 'customSharpClawSolver1D' object has no attribute 'fmod'\n"
     ]
    },
    {
     "name": "stdout",
     "output_type": "stream",
     "text": [
      "RM  with relaxation after each RK stage DONE\n",
      "Running  RM  with order  0\n"
     ]
    },
    {
     "name": "stderr",
     "output_type": "stream",
     "text": [
      "Exception ignored in: <function SharpClawSolver.__del__ at 0x11bc49310>\n",
      "Traceback (most recent call last):\n",
      "  File \"/Users/munozmca/clawpack/pyclaw/src/pyclaw/sharpclaw/solver.py\", line 274, in __del__\n",
      "    self.fmod.clawparams.dealloc_clawparams()\n",
      "AttributeError: 'customSharpClawSolver1D' object has no attribute 'fmod'\n"
     ]
    },
    {
     "name": "stdout",
     "output_type": "stream",
     "text": [
      "RM  with relaxation after each RK stage DONE\n",
      "Running  RM-M  with order  1\n"
     ]
    },
    {
     "name": "stderr",
     "output_type": "stream",
     "text": [
      "Exception ignored in: <function SharpClawSolver.__del__ at 0x11bc49310>\n",
      "Traceback (most recent call last):\n",
      "  File \"/Users/munozmca/clawpack/pyclaw/src/pyclaw/sharpclaw/solver.py\", line 274, in __del__\n",
      "    self.fmod.clawparams.dealloc_clawparams()\n",
      "AttributeError: 'customSharpClawSolver1D' object has no attribute 'fmod'\n"
     ]
    },
    {
     "name": "stdout",
     "output_type": "stream",
     "text": [
      "RM-M  with relaxation after each RK stage DONE\n",
      "Running  RM-M  with order  2\n"
     ]
    },
    {
     "name": "stderr",
     "output_type": "stream",
     "text": [
      "Exception ignored in: <function SharpClawSolver.__del__ at 0x11bc49310>\n",
      "Traceback (most recent call last):\n",
      "  File \"/Users/munozmca/clawpack/pyclaw/src/pyclaw/sharpclaw/solver.py\", line 274, in __del__\n",
      "    self.fmod.clawparams.dealloc_clawparams()\n",
      "AttributeError: 'customSharpClawSolver1D' object has no attribute 'fmod'\n"
     ]
    },
    {
     "name": "stdout",
     "output_type": "stream",
     "text": [
      "RM-M  with relaxation after each RK stage DONE\n",
      "Running  RM-M  with order  0\n"
     ]
    },
    {
     "name": "stderr",
     "output_type": "stream",
     "text": [
      "Exception ignored in: <function SharpClawSolver.__del__ at 0x11bc49310>\n",
      "Traceback (most recent call last):\n",
      "  File \"/Users/munozmca/clawpack/pyclaw/src/pyclaw/sharpclaw/solver.py\", line 274, in __del__\n",
      "    self.fmod.clawparams.dealloc_clawparams()\n",
      "AttributeError: 'customSharpClawSolver1D' object has no attribute 'fmod'\n"
     ]
    },
    {
     "name": "stdout",
     "output_type": "stream",
     "text": [
      "RM-M  with relaxation after each RK stage DONE\n",
      "Layer width =  1.26\n",
      "Running  RM  with order  1\n"
     ]
    },
    {
     "name": "stderr",
     "output_type": "stream",
     "text": [
      "Exception ignored in: <function SharpClawSolver.__del__ at 0x11bc49310>\n",
      "Traceback (most recent call last):\n",
      "  File \"/Users/munozmca/clawpack/pyclaw/src/pyclaw/sharpclaw/solver.py\", line 274, in __del__\n",
      "    self.fmod.clawparams.dealloc_clawparams()\n",
      "AttributeError: 'customSharpClawSolver1D' object has no attribute 'fmod'\n"
     ]
    },
    {
     "name": "stdout",
     "output_type": "stream",
     "text": [
      "RM  with relaxation after each RK stage DONE\n",
      "Running  RM  with order  2\n"
     ]
    },
    {
     "name": "stderr",
     "output_type": "stream",
     "text": [
      "Exception ignored in: <function SharpClawSolver.__del__ at 0x11bc49310>\n",
      "Traceback (most recent call last):\n",
      "  File \"/Users/munozmca/clawpack/pyclaw/src/pyclaw/sharpclaw/solver.py\", line 274, in __del__\n",
      "    self.fmod.clawparams.dealloc_clawparams()\n",
      "AttributeError: 'customSharpClawSolver1D' object has no attribute 'fmod'\n"
     ]
    },
    {
     "name": "stdout",
     "output_type": "stream",
     "text": [
      "RM  with relaxation after each RK stage DONE\n",
      "Running  RM  with order  0\n"
     ]
    },
    {
     "name": "stderr",
     "output_type": "stream",
     "text": [
      "Exception ignored in: <function SharpClawSolver.__del__ at 0x11bc49310>\n",
      "Traceback (most recent call last):\n",
      "  File \"/Users/munozmca/clawpack/pyclaw/src/pyclaw/sharpclaw/solver.py\", line 274, in __del__\n",
      "    self.fmod.clawparams.dealloc_clawparams()\n",
      "AttributeError: 'customSharpClawSolver1D' object has no attribute 'fmod'\n"
     ]
    },
    {
     "name": "stdout",
     "output_type": "stream",
     "text": [
      "RM  with relaxation after each RK stage DONE\n",
      "Running  RM-M  with order  1\n"
     ]
    },
    {
     "name": "stderr",
     "output_type": "stream",
     "text": [
      "Exception ignored in: <function SharpClawSolver.__del__ at 0x11bc49310>\n",
      "Traceback (most recent call last):\n",
      "  File \"/Users/munozmca/clawpack/pyclaw/src/pyclaw/sharpclaw/solver.py\", line 274, in __del__\n",
      "    self.fmod.clawparams.dealloc_clawparams()\n",
      "AttributeError: 'customSharpClawSolver1D' object has no attribute 'fmod'\n"
     ]
    },
    {
     "name": "stdout",
     "output_type": "stream",
     "text": [
      "RM-M  with relaxation after each RK stage DONE\n",
      "Running  RM-M  with order  2\n"
     ]
    },
    {
     "name": "stderr",
     "output_type": "stream",
     "text": [
      "Exception ignored in: <function SharpClawSolver.__del__ at 0x11bc49310>\n",
      "Traceback (most recent call last):\n",
      "  File \"/Users/munozmca/clawpack/pyclaw/src/pyclaw/sharpclaw/solver.py\", line 274, in __del__\n",
      "    self.fmod.clawparams.dealloc_clawparams()\n",
      "AttributeError: 'customSharpClawSolver1D' object has no attribute 'fmod'\n"
     ]
    },
    {
     "name": "stdout",
     "output_type": "stream",
     "text": [
      "RM-M  with relaxation after each RK stage DONE\n",
      "Running  RM-M  with order  0\n"
     ]
    },
    {
     "name": "stderr",
     "output_type": "stream",
     "text": [
      "Exception ignored in: <function SharpClawSolver.__del__ at 0x11bc49310>\n",
      "Traceback (most recent call last):\n",
      "  File \"/Users/munozmca/clawpack/pyclaw/src/pyclaw/sharpclaw/solver.py\", line 274, in __del__\n",
      "    self.fmod.clawparams.dealloc_clawparams()\n",
      "AttributeError: 'customSharpClawSolver1D' object has no attribute 'fmod'\n"
     ]
    },
    {
     "name": "stdout",
     "output_type": "stream",
     "text": [
      "RM-M  with relaxation after each RK stage DONE\n",
      "Layer width =  2.51\n",
      "Running  RM  with order  1\n"
     ]
    },
    {
     "name": "stderr",
     "output_type": "stream",
     "text": [
      "Exception ignored in: <function SharpClawSolver.__del__ at 0x11bc49310>\n",
      "Traceback (most recent call last):\n",
      "  File \"/Users/munozmca/clawpack/pyclaw/src/pyclaw/sharpclaw/solver.py\", line 274, in __del__\n",
      "    self.fmod.clawparams.dealloc_clawparams()\n",
      "AttributeError: 'customSharpClawSolver1D' object has no attribute 'fmod'\n"
     ]
    },
    {
     "name": "stdout",
     "output_type": "stream",
     "text": [
      "RM  with relaxation after each RK stage DONE\n",
      "Running  RM  with order  2\n"
     ]
    },
    {
     "name": "stderr",
     "output_type": "stream",
     "text": [
      "Exception ignored in: <function SharpClawSolver.__del__ at 0x11bc49310>\n",
      "Traceback (most recent call last):\n",
      "  File \"/Users/munozmca/clawpack/pyclaw/src/pyclaw/sharpclaw/solver.py\", line 274, in __del__\n",
      "    self.fmod.clawparams.dealloc_clawparams()\n",
      "AttributeError: 'customSharpClawSolver1D' object has no attribute 'fmod'\n"
     ]
    },
    {
     "name": "stdout",
     "output_type": "stream",
     "text": [
      "RM  with relaxation after each RK stage DONE\n",
      "Running  RM  with order  0\n"
     ]
    },
    {
     "name": "stderr",
     "output_type": "stream",
     "text": [
      "Exception ignored in: <function SharpClawSolver.__del__ at 0x11bc49310>\n",
      "Traceback (most recent call last):\n",
      "  File \"/Users/munozmca/clawpack/pyclaw/src/pyclaw/sharpclaw/solver.py\", line 274, in __del__\n",
      "    self.fmod.clawparams.dealloc_clawparams()\n",
      "AttributeError: 'customSharpClawSolver1D' object has no attribute 'fmod'\n"
     ]
    },
    {
     "name": "stdout",
     "output_type": "stream",
     "text": [
      "RM  with relaxation after each RK stage DONE\n",
      "Running  RM-M  with order  1\n"
     ]
    },
    {
     "name": "stderr",
     "output_type": "stream",
     "text": [
      "Exception ignored in: <function SharpClawSolver.__del__ at 0x11bc49310>\n",
      "Traceback (most recent call last):\n",
      "  File \"/Users/munozmca/clawpack/pyclaw/src/pyclaw/sharpclaw/solver.py\", line 274, in __del__\n",
      "    self.fmod.clawparams.dealloc_clawparams()\n",
      "AttributeError: 'customSharpClawSolver1D' object has no attribute 'fmod'\n"
     ]
    },
    {
     "name": "stdout",
     "output_type": "stream",
     "text": [
      "RM-M  with relaxation after each RK stage DONE\n",
      "Running  RM-M  with order  2\n"
     ]
    },
    {
     "name": "stderr",
     "output_type": "stream",
     "text": [
      "Exception ignored in: <function SharpClawSolver.__del__ at 0x11bc49310>\n",
      "Traceback (most recent call last):\n",
      "  File \"/Users/munozmca/clawpack/pyclaw/src/pyclaw/sharpclaw/solver.py\", line 274, in __del__\n",
      "    self.fmod.clawparams.dealloc_clawparams()\n",
      "AttributeError: 'customSharpClawSolver1D' object has no attribute 'fmod'\n"
     ]
    },
    {
     "name": "stdout",
     "output_type": "stream",
     "text": [
      "RM-M  with relaxation after each RK stage DONE\n",
      "Running  RM-M  with order  0\n"
     ]
    },
    {
     "name": "stderr",
     "output_type": "stream",
     "text": [
      "Exception ignored in: <function SharpClawSolver.__del__ at 0x11bc49310>\n",
      "Traceback (most recent call last):\n",
      "  File \"/Users/munozmca/clawpack/pyclaw/src/pyclaw/sharpclaw/solver.py\", line 274, in __del__\n",
      "    self.fmod.clawparams.dealloc_clawparams()\n",
      "AttributeError: 'customSharpClawSolver1D' object has no attribute 'fmod'\n"
     ]
    },
    {
     "name": "stdout",
     "output_type": "stream",
     "text": [
      "RM-M  with relaxation after each RK stage DONE\n",
      "Layer width =  5.01\n",
      "Running  RM  with order  1\n"
     ]
    },
    {
     "name": "stderr",
     "output_type": "stream",
     "text": [
      "Exception ignored in: <function SharpClawSolver.__del__ at 0x11bc49310>\n",
      "Traceback (most recent call last):\n",
      "  File \"/Users/munozmca/clawpack/pyclaw/src/pyclaw/sharpclaw/solver.py\", line 274, in __del__\n",
      "    self.fmod.clawparams.dealloc_clawparams()\n",
      "AttributeError: 'customSharpClawSolver1D' object has no attribute 'fmod'\n"
     ]
    },
    {
     "name": "stdout",
     "output_type": "stream",
     "text": [
      "RM  with relaxation after each RK stage DONE\n",
      "Running  RM  with order  2\n"
     ]
    },
    {
     "name": "stderr",
     "output_type": "stream",
     "text": [
      "Exception ignored in: <function SharpClawSolver.__del__ at 0x11bc49310>\n",
      "Traceback (most recent call last):\n",
      "  File \"/Users/munozmca/clawpack/pyclaw/src/pyclaw/sharpclaw/solver.py\", line 274, in __del__\n",
      "    self.fmod.clawparams.dealloc_clawparams()\n",
      "AttributeError: 'customSharpClawSolver1D' object has no attribute 'fmod'\n"
     ]
    },
    {
     "name": "stdout",
     "output_type": "stream",
     "text": [
      "RM  with relaxation after each RK stage DONE\n",
      "Running  RM  with order  0\n"
     ]
    },
    {
     "name": "stderr",
     "output_type": "stream",
     "text": [
      "Exception ignored in: <function SharpClawSolver.__del__ at 0x11bc49310>\n",
      "Traceback (most recent call last):\n",
      "  File \"/Users/munozmca/clawpack/pyclaw/src/pyclaw/sharpclaw/solver.py\", line 274, in __del__\n",
      "    self.fmod.clawparams.dealloc_clawparams()\n",
      "AttributeError: 'customSharpClawSolver1D' object has no attribute 'fmod'\n"
     ]
    },
    {
     "name": "stdout",
     "output_type": "stream",
     "text": [
      "RM  with relaxation after each RK stage DONE\n",
      "Running  RM-M  with order  1\n"
     ]
    },
    {
     "name": "stderr",
     "output_type": "stream",
     "text": [
      "Exception ignored in: <function SharpClawSolver.__del__ at 0x11bc49310>\n",
      "Traceback (most recent call last):\n",
      "  File \"/Users/munozmca/clawpack/pyclaw/src/pyclaw/sharpclaw/solver.py\", line 274, in __del__\n",
      "    self.fmod.clawparams.dealloc_clawparams()\n",
      "AttributeError: 'customSharpClawSolver1D' object has no attribute 'fmod'\n"
     ]
    },
    {
     "name": "stdout",
     "output_type": "stream",
     "text": [
      "RM-M  with relaxation after each RK stage DONE\n",
      "Running  RM-M  with order  2\n"
     ]
    },
    {
     "name": "stderr",
     "output_type": "stream",
     "text": [
      "Exception ignored in: <function SharpClawSolver.__del__ at 0x11bc49310>\n",
      "Traceback (most recent call last):\n",
      "  File \"/Users/munozmca/clawpack/pyclaw/src/pyclaw/sharpclaw/solver.py\", line 274, in __del__\n",
      "    self.fmod.clawparams.dealloc_clawparams()\n",
      "AttributeError: 'customSharpClawSolver1D' object has no attribute 'fmod'\n"
     ]
    },
    {
     "name": "stdout",
     "output_type": "stream",
     "text": [
      "RM-M  with relaxation after each RK stage DONE\n",
      "Running  RM-M  with order  0\n"
     ]
    },
    {
     "name": "stderr",
     "output_type": "stream",
     "text": [
      "Exception ignored in: <function SharpClawSolver.__del__ at 0x11bc49310>\n",
      "Traceback (most recent call last):\n",
      "  File \"/Users/munozmca/clawpack/pyclaw/src/pyclaw/sharpclaw/solver.py\", line 274, in __del__\n",
      "    self.fmod.clawparams.dealloc_clawparams()\n",
      "AttributeError: 'customSharpClawSolver1D' object has no attribute 'fmod'\n"
     ]
    },
    {
     "name": "stdout",
     "output_type": "stream",
     "text": [
      "RM-M  with relaxation after each RK stage DONE\n",
      "Layer width =  10.0\n",
      "Running  RM  with order  1\n"
     ]
    },
    {
     "name": "stderr",
     "output_type": "stream",
     "text": [
      "Exception ignored in: <function SharpClawSolver.__del__ at 0x11bc49310>\n",
      "Traceback (most recent call last):\n",
      "  File \"/Users/munozmca/clawpack/pyclaw/src/pyclaw/sharpclaw/solver.py\", line 274, in __del__\n",
      "    self.fmod.clawparams.dealloc_clawparams()\n",
      "AttributeError: 'customSharpClawSolver1D' object has no attribute 'fmod'\n"
     ]
    },
    {
     "name": "stdout",
     "output_type": "stream",
     "text": [
      "RM  with relaxation after each RK stage DONE\n",
      "Running  RM  with order  2\n"
     ]
    },
    {
     "name": "stderr",
     "output_type": "stream",
     "text": [
      "Exception ignored in: <function SharpClawSolver.__del__ at 0x11bc49310>\n",
      "Traceback (most recent call last):\n",
      "  File \"/Users/munozmca/clawpack/pyclaw/src/pyclaw/sharpclaw/solver.py\", line 274, in __del__\n",
      "    self.fmod.clawparams.dealloc_clawparams()\n",
      "AttributeError: 'customSharpClawSolver1D' object has no attribute 'fmod'\n"
     ]
    },
    {
     "name": "stdout",
     "output_type": "stream",
     "text": [
      "RM  with relaxation after each RK stage DONE\n",
      "Running  RM  with order  0\n"
     ]
    },
    {
     "name": "stderr",
     "output_type": "stream",
     "text": [
      "Exception ignored in: <function SharpClawSolver.__del__ at 0x11bc49310>\n",
      "Traceback (most recent call last):\n",
      "  File \"/Users/munozmca/clawpack/pyclaw/src/pyclaw/sharpclaw/solver.py\", line 274, in __del__\n",
      "    self.fmod.clawparams.dealloc_clawparams()\n",
      "AttributeError: 'customSharpClawSolver1D' object has no attribute 'fmod'\n"
     ]
    },
    {
     "name": "stdout",
     "output_type": "stream",
     "text": [
      "RM  with relaxation after each RK stage DONE\n",
      "Running  RM-M  with order  1\n"
     ]
    },
    {
     "name": "stderr",
     "output_type": "stream",
     "text": [
      "Exception ignored in: <function SharpClawSolver.__del__ at 0x11bc49310>\n",
      "Traceback (most recent call last):\n",
      "  File \"/Users/munozmca/clawpack/pyclaw/src/pyclaw/sharpclaw/solver.py\", line 274, in __del__\n",
      "    self.fmod.clawparams.dealloc_clawparams()\n",
      "AttributeError: 'customSharpClawSolver1D' object has no attribute 'fmod'\n"
     ]
    },
    {
     "name": "stdout",
     "output_type": "stream",
     "text": [
      "RM-M  with relaxation after each RK stage DONE\n",
      "Running  RM-M  with order  2\n"
     ]
    },
    {
     "name": "stderr",
     "output_type": "stream",
     "text": [
      "Exception ignored in: <function SharpClawSolver.__del__ at 0x11bc49310>\n",
      "Traceback (most recent call last):\n",
      "  File \"/Users/munozmca/clawpack/pyclaw/src/pyclaw/sharpclaw/solver.py\", line 274, in __del__\n",
      "    self.fmod.clawparams.dealloc_clawparams()\n",
      "AttributeError: 'customSharpClawSolver1D' object has no attribute 'fmod'\n"
     ]
    },
    {
     "name": "stdout",
     "output_type": "stream",
     "text": [
      "RM-M  with relaxation after each RK stage DONE\n",
      "Running  RM-M  with order  0\n"
     ]
    },
    {
     "name": "stderr",
     "output_type": "stream",
     "text": [
      "Exception ignored in: <function SharpClawSolver.__del__ at 0x11bc49310>\n",
      "Traceback (most recent call last):\n",
      "  File \"/Users/munozmca/clawpack/pyclaw/src/pyclaw/sharpclaw/solver.py\", line 274, in __del__\n",
      "    self.fmod.clawparams.dealloc_clawparams()\n",
      "AttributeError: 'customSharpClawSolver1D' object has no attribute 'fmod'\n",
      "Exception ignored in: <function SharpClawSolver.__del__ at 0x11bc49310>\n",
      "Traceback (most recent call last):\n",
      "  File \"/Users/munozmca/clawpack/pyclaw/src/pyclaw/sharpclaw/solver.py\", line 274, in __del__\n",
      "    self.fmod.clawparams.dealloc_clawparams()\n",
      "AttributeError: 'SharpClawSolver1D' object has no attribute 'fmod'\n",
      "Exception ignored in: <function SharpClawSolver.__del__ at 0x11bc49310>\n",
      "Traceback (most recent call last):\n",
      "  File \"/Users/munozmca/clawpack/pyclaw/src/pyclaw/sharpclaw/solver.py\", line 274, in __del__\n",
      "    self.fmod.clawparams.dealloc_clawparams()\n",
      "AttributeError: 'customSharpClawSolver1D' object has no attribute 'fmod'\n"
     ]
    },
    {
     "name": "stdout",
     "output_type": "stream",
     "text": [
      "RM-M  with relaxation after each RK stage DONE\n",
      "#################################################################\n",
      "#################################################################\n",
      "Error list:  [[5.23445038e-02 5.23445038e-02 4.47621125e-02 6.10764310e-02\n",
      "  6.10764310e-02 5.36624292e-02]\n",
      " [3.55004582e-02 3.55004582e-02 2.40752732e-02 5.18420496e-02\n",
      "  5.18420496e-02 3.67507413e-02]\n",
      " [5.26095533e-03 5.26095533e-03 4.04283059e-03 4.78873334e-03\n",
      "  4.78873334e-03 6.02627927e-03]\n",
      " [3.67511451e-03 3.67511451e-03 3.66472849e-03 1.08311103e-03\n",
      "  1.08311103e-03 9.14610763e-04]\n",
      " [1.50669150e-03 1.50669150e-03 1.65036716e-03 1.07309482e-03\n",
      "  1.07309482e-03 7.17825647e-04]\n",
      " [5.07360236e-04 5.07360236e-04 5.88719290e-04 3.49312260e-04\n",
      "  3.49312260e-04 3.90562228e-04]\n",
      " [1.48263372e-04 1.48263372e-04 1.84995639e-04 1.85969074e-04\n",
      "  1.85969074e-04 1.94960568e-04]\n",
      " [3.37258214e-05 3.37258214e-05 4.76532227e-05 5.52369387e-05\n",
      "  5.52369387e-05 7.33437558e-05]\n",
      " [1.10752442e-05 1.10752442e-05 1.32329879e-05 1.32965181e-05\n",
      "  1.32965181e-05 1.24333081e-05]\n",
      " [1.34198323e-05 1.34198323e-05 1.38786212e-05 1.51101425e-05\n",
      "  1.51101425e-05 1.36613123e-05]\n",
      " [1.00495015e-05 1.00495015e-05 9.06057026e-06 9.93098131e-06\n",
      "  9.93098131e-06 1.09762255e-05]]\n",
      "#################################################################\n"
     ]
    }
   ],
   "source": [
    "N_per_period = [10, 50, 250]\n",
    "#list_error_arrays04 = [[] for i in range(len(N_per_period))]\n",
    "M = 0.4\n",
    "\n",
    "for N in N_per_period:\n",
    "    error_list = comparison_setup(sponge_layer_width_list=list_sponge_layer_widths, M=M,\n",
    "                                piston_freq=1., p=20, p_domain=30, p_ABC=20, p_domain_ABC=30, N=N)\n",
    "    print(\"#################################################################\")\n",
    "    print(\"Error list: \",error_list)\n",
    "    print(\"#################################################################\")\n",
    "    np.savetxt(\"./data_First_Second/N=\"+str(N)+\".txt\",error_list)"
   ]
  },
  {
   "cell_type": "code",
   "execution_count": 8,
   "metadata": {},
   "outputs": [],
   "source": [
    "N_per_period = [10, 50, 250]\n",
    "list_error_arrays= [[] for i in range(len(N_per_period))]\n",
    "\n",
    "for i,N in enumerate(N_per_period):\n",
    "    list_error_arrays[i] = np.loadtxt(\"./data_First_Second/N=\"+str(N)+\".txt\")\n",
    "\n",
    "list_titles = [\"N = \"+str(N) for N in N_per_period]"
   ]
  },
  {
   "cell_type": "code",
   "execution_count": 9,
   "metadata": {},
   "outputs": [],
   "source": [
    "import matplotlib as mpl\n",
    "def plot_errors_diff_Nx(list_error_arrays, list_titles,sponge_layer_width_list, ylim=None, list_ylim=None, logscales=[]):\n",
    "    #Create a figure with len(error_list_np) axes in a column\n",
    "    plt.close()\n",
    "    fig,ax = plt.subplots(len(list_error_arrays),1,figsize=(5,2*len(list_error_arrays)),dpi=300)\n",
    "\n",
    "    #######################\n",
    "    #Sorry for the hardcoding\n",
    "    #Self-convergence error (Self_convergence.ipynb)\n",
    "    convError = np.array([4.451850711258536, 0.3165881764960132, 0.025595812908096895])\n",
    "    #Constant extrapolation error (Constant_Extrapolation_Error.ipynb)\n",
    "    constExtrapError = np.array([0.02019511774292874, 0.008940720159966534, 0.011296834045410153])\n",
    "    #######################\n",
    "\n",
    "    method_list = [\"RM\",\"RM-M\"]\n",
    "    orders_relaxation = [1,2]\n",
    "    #Combine all methods in tuples\n",
    "    method_list = list(itertools.product(method_list,orders_relaxation))\n",
    "    method_list_names = [str(met[0])+\"-\"+str(met[1]) for met in method_list]\n",
    "    method_list = ['RM ', 'RM 2', 'RM RK', 'RM-M ', 'RM-M 2', 'RM-M RK']\n",
    "\n",
    "    #method_list = [\"RM\",\"RM+SO\",\"RM+M\",\"RM+SO\",\"SDO\",\"SDO scalar\", \"SDO integral\"]\n",
    "    color_list = ['blue','red','green','orange','purple','brown']#, 'black']\n",
    "    linetype_list = ['solid','dashed','dotted','solid','dashed',\"dotted\"]#, \"dotted\"]\n",
    "    marker_list = ['o','o','o','x','x','x']\n",
    "    \n",
    "    for i,error_list_np in enumerate(list_error_arrays):\n",
    "        ax[i].set_xscale('log')\n",
    "        if i<len(logscales):\n",
    "            if logscales[i]:\n",
    "                ax[i].set_yscale('log')\n",
    "        #remove all minor ticks in x and y axis\n",
    "        ax[i].xaxis.set_minor_locator(mpl.ticker.NullLocator())\n",
    "        ax[i].yaxis.set_minor_locator(mpl.ticker.NullLocator())\n",
    "        # Set the tick locations to be the values from the sponge_layer_width_list\n",
    "        if i==len(list_error_arrays)-1:\n",
    "            ax[i].set_xticks(sponge_layer_width_list)\n",
    "            xtickslabels = np.round(sponge_layer_width_list,2)\n",
    "            xtickslabels[:3] = [f\"{width:.2e}\" for width in sponge_layer_width_list[:3]]\n",
    "            ax[i].set_xticklabels(xtickslabels)\n",
    "            ax[i].xaxis.set_tick_params(which='minor', bottom=False)\n",
    "        #Forcing the x-axis to be between 0.23 and 11\n",
    "        ax[i].set_xlim(sponge_layer_width_list[0],sponge_layer_width_list[-1])\n",
    "        if ylim is not None:\n",
    "            ax[i].set_ylim(ylim)\n",
    "        if list_ylim is not None:\n",
    "            ax[i].set_ylim(list_ylim[i])\n",
    "        # Remove the unwanted ticks\n",
    "        \n",
    "        ax[i].set_xlabel(\"Sponge layer length/wavelength \"+r'($\\omega/L$)')\n",
    "        #ax[i].set_xlabel(r'$L/\\omega$')\n",
    "\n",
    "        ax[i].axvline(x=1,linestyle='--',color='black',linewidth=0.5)\n",
    "        linelist = [] #For labels\n",
    "        for j,method in enumerate(method_list):\n",
    "            # if method not in [\"RM RK\",\"RM-M RK\"]:\n",
    "            line, = ax[i].plot(sponge_layer_width_list,error_list_np[:,j],color=color_list[j],linewidth=2,\n",
    "                        linestyle=linetype_list[j],label=method, marker=marker_list[j])\n",
    "            linelist.append(line)\n",
    "            #ax[i].scatter(sponge_layer_width_list,error_list_np[:,j],color=color_list[j],marker=marker_list[j] )\n",
    "\n",
    "            #Connect the points with a thin line    \n",
    "        if i==1:\n",
    "            ax[i].set_ylabel(\"Error ABC\")\n",
    "        if i==0:\n",
    "             ax[i].legend(handles=linelist, loc=\"center left\")\n",
    "        ax[i].set_title(list_titles[i])\n",
    "        ax[i].set_title(list_titles[i])\n",
    "        #hline1 = ax[i].hlines(convError[i],0.01,5,linestyles='-.',colors='black',label=\"Numerical Error\")\n",
    "        hline1, =ax[i].plot(sponge_layer_width_list,\n",
    "                        convError[i]*np.ones_like(sponge_layer_width_list),\n",
    "                        linestyle='-.',\n",
    "                        color='black',marker='^',label=\"Discretization Error\")\n",
    "        #hline2 = ax[i].hlines(constExtrapError[i],0.01,5,linestyles=':',colors='grey',\n",
    "                     #label=\"Constant Extrapolation\")\n",
    "        hline2, =ax[i].plot(sponge_layer_width_list,\n",
    "                      constExtrapError[i]*np.ones_like(sponge_layer_width_list),\n",
    "                      linestyle=':',\n",
    "                      color='grey',marker='*',label=\"Const. Extrap. Error\") \n",
    "        handles = [hline1,hline2]\n",
    "        if i==1:\n",
    "            ax[i].legend(handles=handles,loc='lower left')\n",
    "            \n",
    "\n",
    "    plt.show()"
   ]
  },
  {
   "cell_type": "code",
   "execution_count": 10,
   "metadata": {},
   "outputs": [
    {
     "data": {
      "image/png": "[encoded data removed]",
      "text/plain": [
       "<Figure size 1500x1800 with 3 Axes>"
      ]
     },
     "metadata": {},
     "output_type": "display_data"
    }
   ],
   "source": [
    "plot_errors_diff_Nx(list_error_arrays, list_titles=[\"N=10\",\"N=50\",\"N=250\"], sponge_layer_width_list=list_sponge_layer_widths, ylim=None, list_ylim=None, logscales=[True,True,True])"
   ]
  },
  {
   "cell_type": "code",
   "execution_count": null,
   "metadata": {},
   "outputs": [],
   "source": []
  }
 ],
 "metadata": {
  "kernelspec": {
   "display_name": "3.8.9",
   "language": "python",
   "name": "pyenv_3.8.9"
  },
  "language_info": {
   "codemirror_mode": {
    "name": "ipython",
    "version": 3
   },
   "file_extension": ".py",
   "mimetype": "text/x-python",
   "name": "python",
   "nbconvert_exporter": "python",
   "pygments_lexer": "ipython3",
   "version": "3.8.9"
  },
  "orig_nbformat": 4,
  "vscode": {
   "interpreter": {
    "hash": "31f2aee4e71d21fbe5cf8b01ff0e069b9275f58929596ceb00d14d90e3e16cd6"
   }
  }
 },
 "nbformat": 4,
 "nbformat_minor": 2
}
