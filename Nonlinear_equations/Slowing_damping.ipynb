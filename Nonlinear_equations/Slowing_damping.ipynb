{
 "cells": [
  {
   "cell_type": "markdown",
   "metadata": {},
   "source": [
    "### Parameter configuration for SDO\n",
    "#### Used for Table 1"
   ]
  },
  {
   "cell_type": "markdown",
   "metadata": {},
   "source": [
    "Imports"
   ]
  },
  {
   "cell_type": "code",
   "execution_count": null,
   "metadata": {},
   "outputs": [],
   "source": [
    "import numpy as np\n",
    "import matplotlib.pyplot as plt\n",
    "from clawpack import pyclaw\n",
    "import sys\n",
    "from piston_Lagrangian import setup\n",
    "from matplotlib import animation\n",
    "from IPython.display import HTML\n",
    "plt.rcParams['text.usetex'] = True\n",
    "plt.rcParams['animation.ffmpeg_path'] = r'/usr/local/bin/ffmpeg'\n",
    "from utils import max_error"
   ]
  },
  {
   "cell_type": "markdown",
   "metadata": {},
   "source": [
    "Compute a reference solution"
   ]
  },
  {
   "cell_type": "code",
   "execution_count": null,
   "metadata": {},
   "outputs": [],
   "source": [
    "p = 20 #Number of  periods\n",
    "p_domain = 30 #Number of periods in the domain\n",
    "xmax1 = p_domain*2*np.pi\n",
    "N = 250 #Cells per period at final time\n",
    "mx1 = p_domain*N#int(N*(xmax1/p)) #Number of grid points\n",
    "M = 0.4 \n",
    "piston_freq=1.\n",
    "tfinal = p*2*np.pi\n",
    "piston_problem1 = setup(tfinal=tfinal, xmax=xmax1, mx=mx1, M=M, CFL=0.8,limiting=1,solver_type='sharpclaw',\n",
    "order=2, time_integrator='Heun', euler_RS='euler', nout=100,\n",
    "piston_freq=piston_freq)\n",
    "piston_problem1.verbosity = 0\n",
    "piston_problem1.run()\n",
    "piston_problem1.solver.__del__() #Deallocation of Fortran arrays"
   ]
  },
  {
   "cell_type": "code",
   "execution_count": null,
   "metadata": {},
   "outputs": [],
   "source": [
    "#Combinations of s and d\n",
    "list_functions = [\"Engsig-Karup2\",\"Mayer\"]\n",
    "list_combinations = [(0,0),(0,1),(1,0),(1,1)]\n",
    "combination_names = [\"sA,dA\",\"sA,dB\",\"sB,dA\",\"sB,dB\"]"
   ]
  },
  {
   "cell_type": "markdown",
   "metadata": {},
   "source": [
    "Computing error"
   ]
  },
  {
   "cell_type": "code",
   "execution_count": null,
   "metadata": {},
   "outputs": [],
   "source": [
    "def comparison_slowing_before_damping(stop_slowing=25*np.pi ,stop_absorbing=25*np.pi,\n",
    "                                      list_functions=list_functions, list_combinations=list_combinations,\n",
    "                                      combination_names=combination_names):\n",
    "    p = 20 #Number of  periods\n",
    "    p_domain = 30 #Number of periods in the domain\n",
    "    xmax_expected = p*2*np.pi #Maximum value of x for nontrivial solution\n",
    "    xmax2 = p_domain*2*np.pi\n",
    "    N = 250#200 #Cells per period at final time\n",
    "    mx2 = p_domain*N#int(N*(xmax1/p)) #Number of grid points\n",
    "    M = 0.4 \n",
    "    tfinal = p*2*np.pi#p*2*np.pi\n",
    "    start_slowing = 20*np.pi\n",
    "    stop_slowing = stop_slowing\n",
    "    start_absorbing = 20*np.pi\n",
    "    stop_absorbing = stop_absorbing\n",
    "    local_list_errors = []\n",
    "    for i in range(len(list_combinations)):\n",
    "        slowing_fun, damping_fun = list_functions[list_combinations[i][0]], list_functions[list_combinations[i][1]]\n",
    "        piston_problem2 = setup(tfinal=tfinal, xmax=xmax2, mx=mx2, M=M, CFL=0.8,limiting=1, #1 TVD, 2 WENO\n",
    "                                solver_type='sharpclaw', order=2, time_integrator='Heun',euler_RS='euler_slowing',\n",
    "                                start_slowing = start_slowing, stop_slowing = stop_slowing,\n",
    "                                start_absorbing=start_absorbing, stop_absorbing=stop_absorbing,\n",
    "                                far_field_damping_rate=30., far_field_damping=True, nout=100,\n",
    "                                sigma_damping_type=damping_fun,\n",
    "                                sigma_slowing_type=slowing_fun, \n",
    "                                scalar_far_field=False,\n",
    "                                #implicit_integrator=False,\n",
    "                                #integral_source=False,\n",
    "                                relaxation_method=False,\n",
    "                                matrix_filter=False\n",
    "                                )\n",
    "        piston_problem2.verbosity = 0\n",
    "        piston_problem2.run()\n",
    "        piston_problem2.solver.__del__() #Deallocation of Fortran arrays\n",
    "        indx = np.where(piston_problem2.grid.x.centers<=start_slowing)\n",
    "        local_list_errors.append(max_error(piston_problem1,piston_problem2, indx=indx))\n",
    "    return local_list_errors\n"
   ]
  },
  {
   "cell_type": "code",
   "execution_count": null,
   "metadata": {},
   "outputs": [],
   "source": [
    "list_errors = []\n",
    "for i in [0.25,0.5,1.,2.]:\n",
    "    list_errors.append(comparison_slowing_before_damping(stop_slowing=(20+i)*np.pi, stop_absorbing=(20+i)*np.pi))"
   ]
  },
  {
   "cell_type": "code",
   "execution_count": null,
   "metadata": {},
   "outputs": [],
   "source": [
    "list_errors"
   ]
  },
  {
   "cell_type": "code",
   "execution_count": null,
   "metadata": {},
   "outputs": [],
   "source": [
    "#Print list errors using tabulate rounding to 3 decimals and using scientific notation\n",
    "from tabulate import tabulate\n",
    "print(tabulate(list_errors, tablefmt=\"latex\", floatfmt=\".2e\", headers=combination_names))\n"
   ]
  }
 ],
 "metadata": {
  "kernelspec": {
   "display_name": "3.8.9",
   "language": "python",
   "name": "pyenv_3.8.9"
  },
  "language_info": {
   "codemirror_mode": {
    "name": "ipython",
    "version": 3
   },
   "file_extension": ".py",
   "mimetype": "text/x-python",
   "name": "python",
   "nbconvert_exporter": "python",
   "pygments_lexer": "ipython3",
   "version": "3.8.9"
  },
  "orig_nbformat": 4,
  "vscode": {
   "interpreter": {
    "hash": "31f2aee4e71d21fbe5cf8b01ff0e069b9275f58929596ceb00d14d90e3e16cd6"
   }
  }
 },
 "nbformat": 4,
 "nbformat_minor": 2
}
