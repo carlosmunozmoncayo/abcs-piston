{
 "cells": [
  {
   "cell_type": "markdown",
   "metadata": {},
   "source": [
    "### Computing the error of the numerical discretization with respect to reference solution on a very fine grid\n",
    "#### Used for Figures 7 and 9"
   ]
  },
  {
   "cell_type": "code",
   "execution_count": null,
   "metadata": {},
   "outputs": [],
   "source": [
    "import matplotlib.pyplot as plt\n",
    "import numpy as np\n",
    "from clawpack import pyclaw\n",
    "from piston_Lagrangian import setup"
   ]
  },
  {
   "cell_type": "code",
   "execution_count": null,
   "metadata": {},
   "outputs": [],
   "source": [
    "piston_freq = 1\n",
    "p_domain = 30\n",
    "p = 20\n",
    "#Reference solution\n",
    "xmax1 = p_domain*2*np.pi \n",
    "N = 250*12 #Cells per period at final time\n",
    "M = 0.4\n",
    "mx1 = p_domain*N #Number of grid points\n",
    "tfinal = p*2*np.pi\n",
    "print(\"Reference solution will have {} cells\".format(mx1))"
   ]
  },
  {
   "cell_type": "markdown",
   "metadata": {},
   "source": [
    "##### Uncomment the following cell to generate a reference numerical solution with a very fine grid (expensive)"
   ]
  },
  {
   "cell_type": "code",
   "execution_count": null,
   "metadata": {},
   "outputs": [],
   "source": [
    "# #Run reference solution\n",
    "# piston_problem1 = setup(outdir=\"./data_convergence\",tfinal=tfinal, xmax=xmax1, mx=mx1, M=M, CFL=0.8,limiting=1,solver_type='sharpclaw',\n",
    "# order=2, time_integrator='Heun', nout=100, piston_freq=piston_freq)\n",
    "# # piston_problem1.verbosity = 0\n",
    "# piston_problem1.run()\n",
    "# piston_problem1.solver.__del__()"
   ]
  },
  {
   "cell_type": "markdown",
   "metadata": {},
   "source": [
    "### Error Measurement"
   ]
  },
  {
   "cell_type": "code",
   "execution_count": null,
   "metadata": {},
   "outputs": [],
   "source": [
    "def relative_L1_error(u1,u2):\n",
    "    #u1 will be a reference solution\n",
    "    #u2 will be a 'numerical' solution\n",
    "    return np.sum(np.abs(u1-u2))/np.sum(np.abs(u2))\n",
    "\n",
    "def max_error_discretization(piston_problem1,xlimRHS):\n",
    "    xcoarse = piston_problem1.grid.x.centers\n",
    "    indx = np.where(xcoarse<=xlimRHS) #Avoiding noise from the \"Sponge layer\" region \n",
    "\n",
    "    u_init_num = piston_problem1.frames[0].q[1]\n",
    "    ref_init_sol = pyclaw.Solution()\n",
    "    ref_init_sol.read(path=\"./data_convergence\", file_format='ascii', file_prefix='fort', frame=0)\n",
    "    xfine = ref_init_sol.grid.x.centers\n",
    "    indx2 = get_nearest_idxs(xcoarse=xcoarse, xfine=xfine) #To get relevant points from the reference solution\n",
    "\n",
    "    max_error = 0\n",
    "\n",
    "    for i in range(len(piston_problem1.frames)):\n",
    "        u_num = piston_problem1.frames[i].q[1]\n",
    "        u_num = u_num[indx]\n",
    "        u_ref = get_coarse_from_reference(xcoarse = xcoarse, frame=i,idxs = indx2)\n",
    "        u_ref = u_ref[indx]\n",
    "        local_error = relative_L1_error(u_ref,u_num)\n",
    "        if local_error > max_error:\n",
    "            max_error = local_error\n",
    "    return max_error\n",
    "\n",
    "def get_nearest_idxs(xcoarse, xfine):\n",
    "    indx = []\n",
    "    for x in xcoarse:\n",
    "        diff = np.abs(xfine-x)\n",
    "        indx.append(np.argmin(diff))\n",
    "    return indx\n",
    "\n",
    "\n",
    "def get_coarse_from_reference(xcoarse, frame=100,idxs=None):\n",
    "    sol = pyclaw.Solution()\n",
    "    sol.read(path=\"./data_convergence\", file_format='ascii', file_prefix='fort', frame=frame)\n",
    "    ufine = sol.q[1]\n",
    "    if idxs is None:\n",
    "        xfine = sol.grid.x.centers\n",
    "        idxs = get_nearest_idxs(xcoarse, xfine)\n",
    "    ucoarse = ufine[idxs]\n",
    "    return ucoarse\n"
   ]
  },
  {
   "cell_type": "code",
   "execution_count": null,
   "metadata": {},
   "outputs": [],
   "source": [
    "N_grids = [10.,50.,250.]  #Cells per period at final time\n",
    "errors = []\n",
    "\n",
    "#Fixed parameters\n",
    "piston_freq = 1\n",
    "p_domain = 30\n",
    "p = 20\n",
    "xmax1 = p_domain*2*np.pi \n",
    "xs = p*2*np.pi #Begining of sponge layer\n",
    "M = 0.4\n",
    "tfinal = p*2*np.pi\n",
    "for N in N_grids:\n",
    "    mx1 = p_domain*N #Number of grid points\n",
    "    piston_problem1 = setup(outdir=\"./_output\",tfinal=tfinal, xmax=xmax1, mx=mx1, M=M, CFL=0.8,limiting=1,solver_type='sharpclaw',\n",
    "    order=2, time_integrator='Heun', nout=100, piston_freq=piston_freq)\n",
    "    piston_problem1.verbosity = 0\n",
    "    piston_problem1.run()\n",
    "    piston_problem1.solver.__del__()\n",
    "    errors.append(max_error_discretization(piston_problem1,xlimRHS=xs))\n",
    "    "
   ]
  },
  {
   "cell_type": "code",
   "execution_count": null,
   "metadata": {},
   "outputs": [],
   "source": [
    "errors"
   ]
  }
 ],
 "metadata": {
  "kernelspec": {
   "display_name": "3.8.9",
   "language": "python",
   "name": "pyenv_3.8.9"
  },
  "language_info": {
   "codemirror_mode": {
    "name": "ipython",
    "version": 3
   },
   "file_extension": ".py",
   "mimetype": "text/x-python",
   "name": "python",
   "nbconvert_exporter": "python",
   "pygments_lexer": "ipython3",
   "version": "3.8.9"
  }
 },
 "nbformat": 4,
 "nbformat_minor": 2
}
