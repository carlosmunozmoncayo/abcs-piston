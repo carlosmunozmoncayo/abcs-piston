{
 "cells": [
  {
   "cell_type": "markdown",
   "metadata": {},
   "source": [
    "### Comparison of Algorihms 2 and 3\n",
    "#### Used for Figure 7"
   ]
  },
  {
   "cell_type": "code",
   "execution_count": null,
   "metadata": {},
   "outputs": [],
   "source": [
    "import numpy as np\n",
    "import matplotlib.pyplot as plt\n",
    "from clawpack import pyclaw\n",
    "import sys\n",
    "from piston_Lagrangian import setup\n",
    "from matplotlib import animation\n",
    "from IPython.display import HTML\n",
    "plt.rcParams['text.usetex'] = True\n",
    "plt.rcParams['animation.ffmpeg_path'] = r'/usr/local/bin/ffmpeg'\n",
    "import itertools\n",
    "from utils import max_error"
   ]
  },
  {
   "cell_type": "code",
   "execution_count": null,
   "metadata": {},
   "outputs": [],
   "source": [
    "def generate_input_CLAW(method, order_relaxation):\n",
    "    far_field_damping = False #Exponential far_field_damping (w. source term)\n",
    "    scalar_far_field =False\n",
    "    relaxation_method = False\n",
    "    matrix_filter=False\n",
    "    integral_source = False\n",
    "    euler_RS = 'euler'\n",
    "    solver_class = 'sharpclaw_custom'\n",
    "    Strang = False\n",
    "    before_stage = False\n",
    "\n",
    "    if method == \"RM\":\n",
    "        relaxation_method = True \n",
    "        \n",
    "    elif method == \"RM-M\":\n",
    "        relaxation_method = True\n",
    "        matrix_filter = True\n",
    "\n",
    "    else:\n",
    "        print(\"###############################\")\n",
    "        print(\"Method not implemented\")\n",
    "        print(\"###############################\")\n",
    "        return 1\n",
    "    \n",
    "    if order_relaxation ==0: #Relaxation after each RK stage\n",
    "            before_stage = True\n",
    "    if order_relaxation ==2:\n",
    "            Strang = True\n",
    "\n",
    "    return (euler_RS, relaxation_method, far_field_damping,\n",
    "             matrix_filter, scalar_far_field, integral_source,\n",
    "             solver_class, Strang, before_stage)"
   ]
  },
  {
   "cell_type": "code",
   "execution_count": null,
   "metadata": {},
   "outputs": [],
   "source": [
    "def set_and_run_CLAW(method, order_relaxation, data, adaptiveRM=False):\n",
    "    (tfinal,xmax2,mx2,piston_freq,M,\n",
    "    start_slowing,stop_slowing,\n",
    "    start_absorbing,stop_absorbing) = data\n",
    "    (euler_RS, relaxation_method, far_field_damping,\n",
    "    matrix_filter, scalar_far_field,\n",
    "    integral_source, solver_class,\n",
    "    Strang, before_stage) = generate_input_CLAW(method, order_relaxation=order_relaxation)\n",
    "    piston_problem2 = setup(tfinal=tfinal, xmax=xmax2, mx=mx2, M=M, CFL=0.8,limiting=1,nout=100,\n",
    "                        solver_type=solver_class, order=2, time_integrator='Heun',\n",
    "                        euler_RS=euler_RS, \n",
    "                        relaxation_method=relaxation_method,\n",
    "                        far_field_damping=far_field_damping,\n",
    "                        matrix_filter=matrix_filter,\n",
    "                        start_slowing=start_slowing, stop_slowing=stop_slowing,\n",
    "                        start_absorbing=start_absorbing, stop_absorbing=stop_absorbing,\n",
    "                        piston_freq=piston_freq,\n",
    "                        sigma_damping_type=\"Mayer\", \n",
    "                        sigma_slowing_type=\"Engsig-Karup2\",\n",
    "                        scalar_far_field=scalar_far_field,\n",
    "                        implicit_integrator=True,\n",
    "                        integral_source=integral_source,\n",
    "                        before_stage=before_stage,\n",
    "                        adaptiveRM=adaptiveRM,\n",
    "                        Strang=Strang) #Not really using implicit integrator at the moment\n",
    "    piston_problem2.verbosity = 0\n",
    "    piston_problem2.run()\n",
    "    piston_problem2.solver.__del__()\n",
    "    return piston_problem2"
   ]
  },
  {
   "cell_type": "code",
   "execution_count": null,
   "metadata": {},
   "outputs": [],
   "source": [
    "def comparison_setup(sponge_layer_width_list,piston_freq=1., p=20, p_domain=30, p_ABC=20, p_domain_ABC=30, M=0.4, \n",
    "                    verbose=True, N=200, adaptiveRM=False):\n",
    "    if verbose:\n",
    "        print(\"#################################################################\")\n",
    "        print(\"RUNNING SIMULATION WITH PARAMETERS:\\npiston_freq = \", piston_freq,\n",
    "         \", p = \", p, \", p_domain = \", p_domain, \", M = \", M)\n",
    "\n",
    "    #Reference solution\n",
    "    xmax1 = p_domain*2*np.pi #p*2*np.pi\n",
    "    #N = 200 #Cells per period at final time\n",
    "    mx1 = p_domain*N #Number of grid points\n",
    "    tfinal = p*2*np.pi\n",
    "\n",
    "    #Run reference solution\n",
    "    piston_problem1 = setup(tfinal=tfinal, xmax=xmax1, mx=mx1, M=M, CFL=0.8,limiting=1,solver_type='sharpclaw',\n",
    "    order=2, time_integrator='Heun', nout=100, piston_freq=piston_freq)\n",
    "    piston_problem1.verbosity = 0\n",
    "    piston_problem1.run()\n",
    "    piston_problem1.solver.__del__()\n",
    "\n",
    "    #Run \"truncated\" solutions\n",
    "    xmax2 = p_domain_ABC*2*np.pi #p*2*np.pi\n",
    "    #N = 200 #Cells per period at final time\n",
    "    mx2 = p_domain_ABC*N #Number of grid points\n",
    "\n",
    "    method_list = [\"RM\",\"RM-M\"]\n",
    "    orders_relaxation = [1,2,0]\n",
    "    #Combine all methods in tuples\n",
    "    method_list = list(itertools.product(method_list,orders_relaxation))\n",
    "    method_list_names = [str(met[0])+\"-\"+str(met[1]) for met in method_list]\n",
    "    \n",
    "\n",
    "    start_slowing = p_ABC*np.pi#p_ABC*2*np.pi\n",
    "    start_absorbing = p_ABC*np.pi#p_ABC*2*np.pi\n",
    "\n",
    "    error_list=[]\n",
    "    for width in sponge_layer_width_list:\n",
    "        if verbose:\n",
    "            print(\"Layer width = \", width)\n",
    "        stop_slowing = start_absorbing + width*2*np.pi\n",
    "        stop_absorbing = start_absorbing + width*2*np.pi\n",
    "        data = (tfinal,xmax2,mx2,piston_freq,M,\n",
    "            start_slowing,stop_slowing,\n",
    "            start_absorbing,stop_absorbing) \n",
    "\n",
    "        x_comparison = min(start_slowing,start_absorbing)\n",
    "        error_list.append([])\n",
    "        for method in method_list:\n",
    "            met = method[0]\n",
    "            order_relaxation = method[1]\n",
    "            if verbose:\n",
    "                print(\"Running \", met, \" with order \", order_relaxation)\n",
    "            piston_problem2 = set_and_run_CLAW(met,order_relaxation, data, adaptiveRM=adaptiveRM)\n",
    "            indx = np.where(piston_problem2.grid.x.centers<=x_comparison)\n",
    "            error_list[-1].append(max_error(piston_problem1,piston_problem2,indx=indx))\n",
    "            if not np.allclose(piston_problem1.grid.x.centers[indx],piston_problem2.grid.x.centers[indx]):\n",
    "                raise ValueError(\"Grids are not the same!!!\")\n",
    "            if verbose:\n",
    "                if order_relaxation>0:\n",
    "                    print(met,\" with order \", order_relaxation, \" DONE\")\n",
    "                else:\n",
    "                    print(met,\" with relaxation after each RK stage DONE\")\n",
    "                \n",
    "    if verbose:\n",
    "        print(\"#################################################################\")\n",
    "    return np.array(error_list)"
   ]
  },
  {
   "cell_type": "markdown",
   "metadata": {},
   "source": [
    "# Running comparison with NO adaptiveRM"
   ]
  },
  {
   "cell_type": "code",
   "execution_count": null,
   "metadata": {},
   "outputs": [],
   "source": [
    "#list_sponge_layer_widths = np.round(np.logspace(np.log10(0.001),np.log10(2.),10),3)\n",
    "list_sponge_layer_widths = np.round(np.logspace(np.log10(0.01),np.log10(10.),11),2)"
   ]
  },
  {
   "cell_type": "code",
   "execution_count": null,
   "metadata": {},
   "outputs": [],
   "source": [
    "N_per_period = [10, 50, 250]\n",
    "#list_error_arrays04 = [[] for i in range(len(N_per_period))]\n",
    "M = 0.4\n",
    "\n",
    "for N in N_per_period:\n",
    "    error_list = comparison_setup(sponge_layer_width_list=list_sponge_layer_widths, M=M,\n",
    "                                piston_freq=1., p=20, p_domain=30, p_ABC=20, p_domain_ABC=30, N=N)\n",
    "    print(\"#################################################################\")\n",
    "    print(\"Error list: \",error_list)\n",
    "    print(\"#################################################################\")\n",
    "    np.savetxt(\"./data_First_Second/N=\"+str(N)+\".txt\",error_list)"
   ]
  },
  {
   "cell_type": "code",
   "execution_count": null,
   "metadata": {},
   "outputs": [],
   "source": [
    "N_per_period = [10, 50, 250]\n",
    "list_error_arrays= [[] for i in range(len(N_per_period))]\n",
    "\n",
    "for i,N in enumerate(N_per_period):\n",
    "    list_error_arrays[i] = np.loadtxt(\"./data_First_Second/N=\"+str(N)+\".txt\")\n",
    "\n",
    "list_titles = [\"N = \"+str(N) for N in N_per_period]"
   ]
  },
  {
   "cell_type": "code",
   "execution_count": null,
   "metadata": {},
   "outputs": [],
   "source": [
    "import matplotlib as mpl\n",
    "def plot_errors_diff_Nx(list_error_arrays, list_titles,sponge_layer_width_list, ylim=None, list_ylim=None, logscales=[]):\n",
    "    #Create a figure with len(error_list_np) axes in a column\n",
    "    plt.close()\n",
    "    fig,ax = plt.subplots(len(list_error_arrays),1,figsize=(5,2*len(list_error_arrays)),dpi=300)\n",
    "\n",
    "    #######################\n",
    "    #Sorry for hardcoding this\n",
    "    #Self-convergence error (Self_convergence.ipynb)\n",
    "    convError = np.array([1.061677543091432, 0.16727682415561385, 0.030993006342411783])\n",
    "    #Constant extrapolation error (Constant_Extrapolation_Error.ipynb)\n",
    "    constExtrapError = np.array([0.02572953158743871, 0.022003876484894457, 0.03087486484936671])\n",
    "    #######################\n",
    "\n",
    "    method_list = [\"RM\",\"RM-M\"]\n",
    "    orders_relaxation = [1,2,0]\n",
    "    #Combine all methods in tuples\n",
    "    method_list = list(itertools.product(method_list,orders_relaxation))\n",
    "    method_list_names = [str(met[0])+\"-\"+str(met[1]) for met in method_list]\n",
    "    method_list = ['RM ', 'RM 2', 'RM RK', 'RM-M ', 'RM-M 2', 'RM-M RK']\n",
    "    #method_list = [\"RM\",\"RM+SO\",\"RM+M\",\"RM+SO\",\"SDO\",\"SDO scalar\", \"SDO integral\"]\n",
    "    color_list = ['blue','red','green','orange','purple','brown']#, 'black']\n",
    "    linetype_list = ['solid','dashed','dotted','solid','dashed',\"dotted\"]#, \"dotted\"]\n",
    "    marker_list = ['o','o','o','x','x','x']\n",
    "    for i,error_list_np in enumerate(list_error_arrays):\n",
    "        ax[i].set_xscale('log')\n",
    "        if i<len(logscales):\n",
    "            if logscales[i]:\n",
    "                ax[i].set_yscale('log')\n",
    "        #remove all minor ticks in x and y axis\n",
    "        ax[i].xaxis.set_minor_locator(mpl.ticker.NullLocator())\n",
    "        ax[i].yaxis.set_minor_locator(mpl.ticker.NullLocator())\n",
    "        # Set the tick locations to be the values from the sponge_layer_width_list\n",
    "        if i==len(list_error_arrays)-1:\n",
    "            ax[i].set_xticks(sponge_layer_width_list)\n",
    "            xtickslabels = np.round(sponge_layer_width_list,2)\n",
    "            xtickslabels[:3] = [f\"{width:.2e}\" for width in sponge_layer_width_list[:3]]\n",
    "            ax[i].set_xticklabels(xtickslabels)\n",
    "            ax[i].xaxis.set_tick_params(which='minor', bottom=False)\n",
    "        #Forcing the x-axis to be between 0.23 and 11\n",
    "        ax[i].set_xlim(sponge_layer_width_list[0],sponge_layer_width_list[-1])\n",
    "        if ylim is not None:\n",
    "            ax[i].set_ylim(ylim)\n",
    "        if list_ylim is not None:\n",
    "            ax[i].set_ylim(list_ylim[i])\n",
    "        # Remove the unwanted ticks\n",
    "        \n",
    "        ax[i].set_xlabel(\"Sponge layer length/wavelength \"+r'($\\omega/L$)')\n",
    "\n",
    "        ax[i].axvline(x=1,linestyle='--',color='black',linewidth=0.5)\n",
    "        for j,method in enumerate(method_list):\n",
    "            ax[i].plot(sponge_layer_width_list,error_list_np[:,j],color=color_list[j],linewidth=2, linestyle=linetype_list[j],label=method)\n",
    "            ax[i].scatter(sponge_layer_width_list,error_list_np[:,j],color=color_list[j],marker=marker_list[j] )\n",
    "            #Connect the points with a thin line    \n",
    "        if i==1:\n",
    "            ax[i].set_ylabel(\"Error ABC\")\n",
    "        # if i==0:\n",
    "        #     ax[i].legend()\n",
    "        ax[i].set_title(list_titles[i])\n",
    "        hline1, =ax[i].plot(sponge_layer_width_list,\n",
    "                        convError[i]*np.ones_like(sponge_layer_width_list),\n",
    "                        linestyle='-.',\n",
    "                        color='black',marker='^',label=\"Discretization Error\")\n",
    "        #hline2 = ax[i].hlines(constExtrapError[i],0.01,5,linestyles=':',colors='grey',\n",
    "                     #label=\"Constant Extrapolation\")\n",
    "        hline2, =ax[i].plot(sponge_layer_width_list,\n",
    "                      constExtrapError[i]*np.ones_like(sponge_layer_width_list),\n",
    "                      linestyle=':',\n",
    "                      color='grey',marker='*',label=\"Const. Extrap. Error\")   \n",
    "    plt.show()"
   ]
  },
  {
   "cell_type": "code",
   "execution_count": null,
   "metadata": {},
   "outputs": [],
   "source": [
    "plot_errors_diff_Nx(list_error_arrays, list_titles=[\"N=10\",\"N=50\",\"N=250\"], sponge_layer_width_list=list_sponge_layer_widths, ylim=None, list_ylim=None, logscales=[True,True,True])"
   ]
  },
  {
   "cell_type": "markdown",
   "metadata": {},
   "source": [
    "# Running comparison with adaptiveRM"
   ]
  },
  {
   "cell_type": "code",
   "execution_count": null,
   "metadata": {},
   "outputs": [],
   "source": [
    "# list_sponge_layer_widths = np.round(np.logspace(np.log10(0.01),np.log10(5.),10),3)"
   ]
  },
  {
   "cell_type": "code",
   "execution_count": null,
   "metadata": {},
   "outputs": [],
   "source": [
    "# N_per_period = [10, 50, 250]\n",
    "# #list_error_arrays04 = [[] for i in range(len(N_per_period))]\n",
    "# list_error_arrays= [[] for i in range(len(N_per_period))]\n",
    "# M = 0.4\n",
    "\n",
    "# for i,N in enumerate(N_per_period):\n",
    "#     error_list = comparison_setup(sponge_layer_width_list=list_sponge_layer_widths, M=M,\n",
    "#                                 piston_freq=1., p=20, p_domain=30, p_ABC=20, p_domain_ABC=30, N=N)\n",
    "#     print(\"#################################################################\")\n",
    "#     print(\"Error list: \",error_list)\n",
    "#     print(\"#################################################################\")\n",
    "#     np.savetxt(\"./data_First_Second_adaptive/N=\"+str(N)+\".txt\",error_list)\n",
    "#     list_error_arrays[i] = error_list\n"
   ]
  },
  {
   "cell_type": "code",
   "execution_count": null,
   "metadata": {},
   "outputs": [],
   "source": [
    "# N_per_period = [10, 50, 250]\n",
    "# list_error_arrays= [[] for i in range(len(N_per_period))]\n",
    "\n",
    "# for i,N in enumerate(N_per_period):\n",
    "#     list_error_arrays[i] = np.loadtxt(\"./data_First_Second_adaptive/N=\"+str(N)+\".txt\")\n",
    "\n",
    "# list_titles = [\"N = \"+str(N) for N in N_per_period]"
   ]
  },
  {
   "cell_type": "code",
   "execution_count": null,
   "metadata": {},
   "outputs": [],
   "source": [
    "# plot_errors_diff_Nx(list_error_arrays, list_titles=[\"N=10\",\"N=50\",\"N=250\"], sponge_layer_width_list=list_sponge_layer_widths, ylim=None, list_ylim=None, logscales=[True,True,True])"
   ]
  },
  {
   "cell_type": "code",
   "execution_count": null,
   "metadata": {},
   "outputs": [],
   "source": []
  }
 ],
 "metadata": {
  "kernelspec": {
   "display_name": "3.8.9",
   "language": "python",
   "name": "pyenv_3.8.9"
  },
  "language_info": {
   "codemirror_mode": {
    "name": "ipython",
    "version": 3
   },
   "file_extension": ".py",
   "mimetype": "text/x-python",
   "name": "python",
   "nbconvert_exporter": "python",
   "pygments_lexer": "ipython3",
   "version": "3.8.9"
  },
  "orig_nbformat": 4,
  "vscode": {
   "interpreter": {
    "hash": "31f2aee4e71d21fbe5cf8b01ff0e069b9275f58929596ceb00d14d90e3e16cd6"
   }
  }
 },
 "nbformat": 4,
 "nbformat_minor": 2
}
