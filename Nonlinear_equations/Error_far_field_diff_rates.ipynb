{
 "cells": [
  {
   "cell_type": "markdown",
   "metadata": {},
   "source": [
    "### Tunning maximum damping rate parameter $\\sigma$ for SDO ABC\n",
    "#### Used for Figure 3"
   ]
  },
  {
   "cell_type": "markdown",
   "metadata": {},
   "source": [
    "Imports"
   ]
  },
  {
   "cell_type": "code",
   "execution_count": null,
   "metadata": {},
   "outputs": [],
   "source": [
    "import numpy as np\n",
    "import matplotlib.pyplot as plt\n",
    "import matplotlib as mpl\n",
    "from clawpack import pyclaw\n",
    "import sys\n",
    "from piston_Lagrangian import setup\n",
    "from matplotlib import animation\n",
    "from IPython.display import HTML\n",
    "plt.rcParams['text.usetex'] = True\n",
    "plt.rcParams['animation.ffmpeg_path'] = r'/usr/local/bin/ffmpeg'\n",
    "from utils import max_error"
   ]
  },
  {
   "cell_type": "markdown",
   "metadata": {},
   "source": [
    "Compute a reference solution"
   ]
  },
  {
   "cell_type": "code",
   "execution_count": null,
   "metadata": {},
   "outputs": [],
   "source": [
    "p = 20 #Number of  periods\n",
    "p_domain = 30 #Number of periods in the domain\n",
    "xmax1 = p_domain*2*np.pi\n",
    "N = 250 #Cells per period at final time\n",
    "mx1 = p_domain*N#int(N*(xmax1/p)) #Number of grid points\n",
    "M = 0.4 \n",
    "piston_freq=1.\n",
    "tfinal = p*2*np.pi\n",
    "piston_problem1 = setup(tfinal=tfinal, xmax=xmax1, mx=mx1, M=M, CFL=0.8,limiting=1,solver_type='sharpclaw',\n",
    "order=2, time_integrator='Heun', euler_RS='euler', nout=100,\n",
    "piston_freq=piston_freq)\n",
    "piston_problem1.verbosity = 0\n",
    "piston_problem1.run()\n",
    "piston_problem1.solver.__del__() #Deallocation of Fortran arrays"
   ]
  },
  {
   "cell_type": "markdown",
   "metadata": {},
   "source": [
    "Define a list of maximum damping rates $\\sigma$ and sponge layer lengths $\\omega$"
   ]
  },
  {
   "cell_type": "code",
   "execution_count": null,
   "metadata": {},
   "outputs": [],
   "source": [
    "list_sponge_layer_widths = np.round(np.logspace(np.log10(0.01),np.log10(10.),11),2)\n",
    "#Order list\n",
    "list_sponge_layer_widths.sort()\n",
    "list_damping_rates = np.array([1.,10.,20.,30.,40.,50.])\n",
    "print(f\"Sponge layer widths: {list_sponge_layer_widths}\")\n",
    "print(f\"Damping rates: {list_damping_rates}\")"
   ]
  },
  {
   "cell_type": "markdown",
   "metadata": {},
   "source": [
    "Compute a solution with SDO"
   ]
  },
  {
   "cell_type": "code",
   "execution_count": null,
   "metadata": {},
   "outputs": [],
   "source": [
    "p = 20 #Number of  periods\n",
    "p_domain = 30 #Number of periods in the domain\n",
    "xmax_expected = p*2*np.pi #Maximum value of x for nontrivial solution\n",
    "xmax2 = p_domain*2*np.pi\n",
    "N = 250 #Cells per period at final time\n",
    "mx2 = p_domain*N#int(N*(xmax1/p)) #Number of grid points\n",
    "M = 0.4 \n",
    "tfinal = p*2*np.pi#p*2*np.pi\n",
    "start_slowing = 20*np.pi\n",
    "#stop_slowing = 22*np.pi \n",
    "start_absorbing = 20*np.pi\n",
    "#stop_absorbing = 22*np.pi\n",
    "\n",
    "def solver_mask(far_field_damping_rate,sponge_layer_width):\n",
    "    piston_problem2 = setup(tfinal=tfinal, xmax=xmax2, mx=mx2, M=M, CFL=0.8,limiting=1,\n",
    "                            solver_type='sharpclaw', order=2, time_integrator='Heun',euler_RS='euler_slowing',\n",
    "                            start_slowing = start_slowing, stop_slowing = start_slowing+sponge_layer_width*2*np.pi,\n",
    "                            start_absorbing=start_absorbing, stop_absorbing=start_absorbing+sponge_layer_width*2*np.pi,\n",
    "                            far_field_damping_rate=far_field_damping_rate, far_field_damping=True, nout=100,\n",
    "                            sigma_damping_type=\"Engsig-Karup2\",sigma_slowing_type=\"Mayer\")\n",
    "\n",
    "    piston_problem2.verbosity = 0 \n",
    "    piston_problem2.run()\n",
    "    piston_problem2.solver.__del__() #Deallocation of Fortran arrays\n",
    "    return piston_problem2"
   ]
  },
  {
   "cell_type": "markdown",
   "metadata": {},
   "source": [
    "### Running simulation"
   ]
  },
  {
   "cell_type": "code",
   "execution_count": null,
   "metadata": {},
   "outputs": [],
   "source": [
    "error_list = []\n",
    "for sponge_layer_width in list_sponge_layer_widths:\n",
    "    local_error_list = []\n",
    "    for far_field_damping_rate in list_damping_rates:\n",
    "        piston_problem2 = solver_mask(far_field_damping_rate,sponge_layer_width)\n",
    "        indx = np.where(piston_problem2.grid.x.centers<=start_slowing)\n",
    "        local_error_list.append(max_error(piston_problem1,piston_problem2, indx=indx))\n",
    "        print(\"Done with damping rate: \", far_field_damping_rate)\n",
    "    error_list.append(local_error_list)\n",
    "    print(\"Done with sponge layer width: \", sponge_layer_width)"
   ]
  },
  {
   "cell_type": "code",
   "execution_count": null,
   "metadata": {},
   "outputs": [],
   "source": [
    "np.array(error_list)"
   ]
  },
  {
   "cell_type": "code",
   "execution_count": null,
   "metadata": {},
   "outputs": [],
   "source": [
    "error_list_np = np.array(error_list)#.T\n",
    "error_list_np.shape"
   ]
  },
  {
   "cell_type": "code",
   "execution_count": null,
   "metadata": {},
   "outputs": [],
   "source": [
    "#save error_list_np to file\n",
    "import pickle\n",
    "with open(\"error_different_damping_rates.txt\",\"wb\") as fp:\n",
    "    pickle.dump(error_list_np,fp)\n"
   ]
  },
  {
   "cell_type": "code",
   "execution_count": null,
   "metadata": {},
   "outputs": [],
   "source": [
    "#Reading data\n",
    "with open(\"error_different_damping_rates.txt\",\"rb\") as fp:\n",
    "    error_list_np = pickle.load(fp)"
   ]
  },
  {
   "cell_type": "code",
   "execution_count": null,
   "metadata": {},
   "outputs": [],
   "source": [
    "plt.close()"
   ]
  },
  {
   "cell_type": "code",
   "execution_count": null,
   "metadata": {},
   "outputs": [],
   "source": [
    "plt.figure(figsize=(6,2),dpi=500)\n",
    "\n",
    "marker_list = [\"<\",\">\",\"^\",\"s\",\"*\",\"o\",\"v\"]\n",
    "nice_colors = []\n",
    "\n",
    "\n",
    "for i,damping_rate in enumerate(list_damping_rates):\n",
    "    plt.loglog(list_sponge_layer_widths,error_list_np[:,i],label=f\"{damping_rate}\", marker=marker_list[i])\n",
    "plt.xlabel(\"Sponge layer length/wavelength \"+r\"$(\\omega/L)$\", fontsize=11)\n",
    "plt.ylabel(\"Error SDO\", fontsize=11)\n",
    "\n",
    "\n",
    "\n",
    "xtickslabels = [str(elem) for elem in np.round(list_sponge_layer_widths,3)]\n",
    "xtickslabels[:3] = [f\"{elem:.0e}\" for elem in list_sponge_layer_widths[:3]]\n",
    "\n",
    "# #Remove excessive ticks\n",
    "#remove 7th element from list_sponge_layer_widths\n",
    "\n",
    "#sponge_layers_no1 = np.delete(list_sponge_layer_widths,7)\n",
    "plt.gca().set_xticks([])\n",
    "plt.xticks(list_sponge_layer_widths)\n",
    "plt.gca().set_xticks(list_sponge_layer_widths, minor=True, fontsize=10)\n",
    "xtickslabels = np.round(list_sponge_layer_widths,2)\n",
    "plt.gca().set_xticklabels(xtickslabels)\n",
    "plt.gca().xaxis.set_tick_params(which='minor', bottom=False)\n",
    "\n",
    "# #Remove excessive yticks\n",
    "plt.gca().set_yticks([1e-3,1e-2,1e-1], minor=True, fontsize=10)\n",
    "\n",
    "\n",
    "# #set xticklabels\n",
    "plt.gca().set_xticklabels(xtickslabels)\n",
    "\n",
    "\n",
    "\n",
    "#Two column legend\n",
    "plt.legend(ncol=2, title=\"Maximum damping rate \"+r\"$\\sigma$\", fontsize=10,loc=\"upper right\")\n"
   ]
  },
  {
   "cell_type": "code",
   "execution_count": null,
   "metadata": {},
   "outputs": [],
   "source": []
  }
 ],
 "metadata": {
  "kernelspec": {
   "display_name": "3.8.9",
   "language": "python",
   "name": "pyenv_3.8.9"
  },
  "language_info": {
   "codemirror_mode": {
    "name": "ipython",
    "version": 3
   },
   "file_extension": ".py",
   "mimetype": "text/x-python",
   "name": "python",
   "nbconvert_exporter": "python",
   "pygments_lexer": "ipython3",
   "version": "3.8.9"
  },
  "orig_nbformat": 4
 },
 "nbformat": 4,
 "nbformat_minor": 2
}
