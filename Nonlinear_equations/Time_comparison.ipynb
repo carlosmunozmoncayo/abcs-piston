{
 "cells": [
  {
   "cell_type": "markdown",
   "metadata": {},
   "source": [
    "### Execution time comparison \n",
    "#### Used for Table 3"
   ]
  },
  {
   "cell_type": "markdown",
   "metadata": {},
   "source": [
    "### Imports"
   ]
  },
  {
   "cell_type": "code",
   "execution_count": null,
   "metadata": {},
   "outputs": [],
   "source": [
    "import matplotlib.pyplot as plt\n",
    "import matplotlib as mpl\n",
    "import numpy as np\n",
    "from matplotlib import animation\n",
    "from IPython.display import HTML\n",
    "plt.rcParams['text.usetex'] = True\n",
    "from piston_Lagrangian import setup"
   ]
  },
  {
   "cell_type": "markdown",
   "metadata": {},
   "source": [
    "### Auxiliary functions"
   ]
  },
  {
   "cell_type": "code",
   "execution_count": null,
   "metadata": {},
   "outputs": [],
   "source": [
    "def generate_input_CLAW(method):\n",
    "    far_field_damping = False #Exponential far_field_damping (w. source term)\n",
    "    scalar_far_field =False\n",
    "    relaxation_method = False\n",
    "    matrix_filter=False\n",
    "    integral_source = False\n",
    "    euler_RS = 'euler'\n",
    "    solver_class = 'sharpclaw_custom'\n",
    "    far_field_damping_rate = 30.0\n",
    "    damping_function = \"Mayer\"\n",
    "    slowing_function = \"Mayer\"\n",
    "\n",
    "\n",
    "    if method == \"RM\":\n",
    "        #Sponge layer-based absorbing boundary conditions\n",
    "        #Using scalar weight function\n",
    "        relaxation_method = True #Sponge layer far_field_damping\n",
    "\n",
    "    elif method == \"RM-SO\":\n",
    "        #Sponge layer-based absorbing boundary conditions\n",
    "        #Using scalar far_field_damping function + Slowing down operator\n",
    "        euler_RS = 'euler_slowing'\n",
    "        relaxation_method = True #Sponge layer far_field_damping\n",
    "\n",
    "    elif method == \"RM-M\":\n",
    "        #Sponge layer-based absorbing boundary conditions\n",
    "        #Using matrix far_field_damping function\n",
    "        euler_RS = 'euler'\n",
    "        relaxation_method = True\n",
    "        matrix_filter = True\n",
    "\n",
    "    elif method == \"RM-M-SO\":\n",
    "        #Sponge layer-based absorbing boundary conditions\n",
    "        #Using matrix far_field_damping function + Slowing down operator\n",
    "        euler_RS = 'euler_slowing'\n",
    "        relaxation_method = True\n",
    "        matrix_filter = True\n",
    "    \n",
    "    elif method == \"SDO\":\n",
    "        #Slowing down and far_field_damping operators\n",
    "        euler_RS = 'euler_slowing'\n",
    "        far_field_damping = True #Exponential far_field_damping (w. source term)\n",
    "        solver_class = 'sharpclaw'\n",
    "        slowing_function = \"Mayer\"\n",
    "        damping_function = \"Engsig-Karup2\"\n",
    "\n",
    "    elif method == \"S-SDO\":\n",
    "        #Slowing down and far_field_damping operators\n",
    "        euler_RS = 'euler_slowing'\n",
    "        far_field_damping = True #Exponential far_field_damping (w. source term)\n",
    "        scalar_far_field =True\n",
    "        solver_class = 'sharpclaw'\n",
    "        slowing_function = \"Mayer\"\n",
    "        damping_function = \"Engsig-Karup2\"\n",
    "    \n",
    "    elif method == \"NDO\":\n",
    "        #Slowing down and far_field_damping operators\n",
    "        euler_RS = 'euler'\n",
    "        far_field_damping = True #Exponential far_field_damping (w. source term)\n",
    "        integral_source = True\n",
    "        solver_class = 'sharpclaw'\n",
    "        far_field_damping_rate = 20.0\n",
    "\n",
    "    elif method == \"SNDO\":\n",
    "        #Slowing down and far_field_damping operators\n",
    "        euler_RS = 'euler_slowing'\n",
    "        far_field_damping = True #Exponential far_field_damping (w. source term)\n",
    "        integral_source = True\n",
    "        solver_class = 'sharpclaw'\n",
    "\n",
    "    \n",
    "    return (euler_RS, relaxation_method, far_field_damping, matrix_filter,\n",
    "                scalar_far_field, integral_source, solver_class, far_field_damping_rate,\n",
    "                damping_function, slowing_function)"
   ]
  },
  {
   "cell_type": "code",
   "execution_count": null,
   "metadata": {},
   "outputs": [],
   "source": [
    "def set_and_run_CLAW(method, data):\n",
    "    (tfinal,xmax2,mx2,piston_freq,M,\n",
    "    start_slowing,stop_slowing,\n",
    "    start_absorbing,stop_absorbing) = data\n",
    "    (euler_RS, relaxation_method, far_field_damping,\n",
    "    matrix_filter, scalar_far_field,\n",
    "    integral_source, solver_class,far_field_damping_rate,\n",
    "    damping_function, slowing_function) = generate_input_CLAW(method)\n",
    "    piston_problem2 = setup(tfinal=tfinal, xmax=xmax2, mx=mx2, M=M, CFL=0.8,limiting=1,nout=100,\n",
    "                        solver_type=solver_class, order=2, time_integrator='Heun',\n",
    "                        euler_RS=euler_RS, \n",
    "                        relaxation_method=relaxation_method,\n",
    "                        far_field_damping=far_field_damping,\n",
    "                        far_field_damping_rate=far_field_damping_rate,\n",
    "                        matrix_filter=matrix_filter,\n",
    "                        start_slowing=start_slowing, stop_slowing=stop_slowing,\n",
    "                        start_absorbing=start_absorbing, stop_absorbing=stop_absorbing,\n",
    "                        piston_freq=piston_freq,\n",
    "                        sigma_damping_type=damping_function, \n",
    "                        sigma_slowing_type=slowing_function,\n",
    "                        scalar_far_field=scalar_far_field,\n",
    "                        integral_source=integral_source) #Not really using implicit integrator at the moment\n",
    "    piston_problem2.verbosity = 0\n",
    "    piston_problem2.run()\n",
    "    piston_problem2.solver.__del__()\n",
    "    return piston_problem2"
   ]
  },
  {
   "cell_type": "markdown",
   "metadata": {},
   "source": [
    "### Problem setup"
   ]
  },
  {
   "cell_type": "code",
   "execution_count": null,
   "metadata": {},
   "outputs": [],
   "source": [
    "start_slowing = 20*np.pi\n",
    "start_absorbing = 20*np.pi\n",
    "\n",
    "stop_slowing = 40*np.pi #10 periods in the sponge layer\n",
    "stop_absorbing = 40*np.pi #10 periods in the sponge layer\n",
    "\n",
    "p=20\n",
    "p_domain=30\n",
    "M=0.4\n",
    "verbose=True\n",
    "N_list = [10,50,250]\n",
    "piston_freq = 1.0\n",
    "\n",
    "#Reference solution\n",
    "xmax2 = p_domain*2*np.pi\n",
    "tfinal = p*2*np.pi\n",
    "\n"
   ]
  },
  {
   "cell_type": "markdown",
   "metadata": {},
   "source": [
    "## Timing comparison"
   ]
  },
  {
   "cell_type": "code",
   "execution_count": null,
   "metadata": {},
   "outputs": [],
   "source": [
    "import timeit\n",
    "method_list = [\"RM\",\"RM-M\",\"S-SDO\",\"SDO\", \"NDO\"]\n",
    "time_list = {str(N):[] for N in N_list}"
   ]
  },
  {
   "cell_type": "code",
   "execution_count": null,
   "metadata": {},
   "outputs": [],
   "source": [
    "time_list"
   ]
  },
  {
   "cell_type": "code",
   "execution_count": null,
   "metadata": {},
   "outputs": [],
   "source": [
    "for N in N_list:\n",
    "    mx2 = p_domain*N #Number of grid points\n",
    "    data = (tfinal,xmax2,mx2,piston_freq,M,\n",
    "            start_slowing,stop_slowing,\n",
    "            start_absorbing,stop_absorbing) \n",
    "    for method in method_list:\n",
    "        time = %timeit -o set_and_run_CLAW(method, data)\n",
    "        time_list[str(N)].append(time.best)"
   ]
  },
  {
   "cell_type": "code",
   "execution_count": null,
   "metadata": {},
   "outputs": [],
   "source": [
    "#Save dictionary\n",
    "import pickle\n",
    "with open('Timing_results.pkl', 'wb') as f:\n",
    "    pickle.dump(time_list, f)"
   ]
  },
  {
   "cell_type": "code",
   "execution_count": null,
   "metadata": {},
   "outputs": [],
   "source": [
    "#Load dictionary\n",
    "with open('Timing_results.pkl', 'rb') as f:\n",
    "    time_list = pickle.load(f)"
   ]
  },
  {
   "cell_type": "code",
   "execution_count": null,
   "metadata": {},
   "outputs": [],
   "source": [
    "#Print dictionary as table\n",
    "from tabulate import tabulate\n",
    "table = []\n",
    "for N in N_list:\n",
    "    row = [N]\n",
    "    for method in method_list:\n",
    "        row.append(time_list[str(N)][method_list.index(method)])\n",
    "    table.append(row)\n",
    "print(tabulate(table, headers=[\"N\"]+method_list, tablefmt='orgtbl'))\n"
   ]
  }
 ],
 "metadata": {
  "kernelspec": {
   "display_name": "Python 3",
   "language": "python",
   "name": "python3"
  },
  "language_info": {
   "codemirror_mode": {
    "name": "ipython",
    "version": 3
   },
   "file_extension": ".py",
   "mimetype": "text/x-python",
   "name": "python",
   "nbconvert_exporter": "python",
   "pygments_lexer": "ipython3",
   "version": "3.8.9"
  },
  "orig_nbformat": 4
 },
 "nbformat": 4,
 "nbformat_minor": 2
}
