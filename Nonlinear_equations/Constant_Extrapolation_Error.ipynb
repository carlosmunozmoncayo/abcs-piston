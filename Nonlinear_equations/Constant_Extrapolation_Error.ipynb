{
 "cells": [
  {
   "cell_type": "code",
   "execution_count": null,
   "metadata": {},
   "outputs": [],
   "source": [
    "import numpy as np\n",
    "from piston_Lagrangian import setup\n",
    "from utils import max_error"
   ]
  },
  {
   "cell_type": "markdown",
   "metadata": {},
   "source": [
    "### Computing the error produced by using constant extrapolation at the right boundary\n",
    "#### Used for Figures 7 and 9"
   ]
  },
  {
   "cell_type": "code",
   "execution_count": null,
   "metadata": {},
   "outputs": [],
   "source": [
    "#Common parameters\n",
    "piston_freq=1. \n",
    "p=20\n",
    "p_domain=30\n",
    "p_ABC=20\n",
    "p_domain_ABC=30\n",
    "M=0.4\n",
    "verbose=True\n",
    "adaptiveRM=False\n",
    "N_levels = [10,50,250]"
   ]
  },
  {
   "cell_type": "code",
   "execution_count": null,
   "metadata": {},
   "outputs": [],
   "source": [
    "error_list = []\n",
    "for N in N_levels:\n",
    "    #Reference solution\n",
    "    xmax1 = p_domain*2*np.pi #p*2*np.pi\n",
    "    #N = 200 #Cells per period at final time\n",
    "    mx1 = p_domain*N #Number of grid points\n",
    "    tfinal = p*2*np.pi\n",
    "\n",
    "    #Run reference solution\n",
    "    piston_problem1 = setup(tfinal=tfinal, xmax=xmax1, mx=mx1, M=M, CFL=0.8,limiting=1,solver_type='sharpclaw',\n",
    "    order=2, time_integrator='Heun', nout=100, piston_freq=piston_freq)\n",
    "    piston_problem1.verbosity = 0\n",
    "    piston_problem1.run()\n",
    "    piston_problem1.solver.__del__()\n",
    "\n",
    "    xmax2 = p_domain_ABC*2*np.pi #p*2*np.pi\n",
    "    mx2 = p_domain_ABC*N #Number of grid points\n",
    "\n",
    "    #Run solution with constant extrapolation BCs\n",
    "    piston_problem2 = setup(tfinal=tfinal, xmax=xmax2, mx=mx2, M=M, CFL=0.8,limiting=1,solver_type='sharpclaw',\n",
    "    order=2, time_integrator='Heun', nout=100, piston_freq=piston_freq, start_slowing=p_ABC*np.pi,start_absorbing=p_ABC*np.pi,\n",
    "    constant_extrap=True)\n",
    "    piston_problem2.verbosity = 0\n",
    "    piston_problem2.run()\n",
    "    piston_problem2.solver.__del__()\n",
    "\n",
    "    #Get error\n",
    "    indx = np.where(piston_problem2.grid.x.centers<=p_ABC*np.pi)\n",
    "    error_list.append(max_error(piston_problem1,piston_problem2,indx=indx))"
   ]
  },
  {
   "cell_type": "code",
   "execution_count": null,
   "metadata": {},
   "outputs": [],
   "source": [
    "error_list"
   ]
  },
  {
   "cell_type": "code",
   "execution_count": null,
   "metadata": {},
   "outputs": [],
   "source": []
  }
 ],
 "metadata": {
  "kernelspec": {
   "display_name": "3.8.9",
   "language": "python",
   "name": "pyenv_3.8.9"
  },
  "language_info": {
   "codemirror_mode": {
    "name": "ipython",
    "version": 3
   },
   "file_extension": ".py",
   "mimetype": "text/x-python",
   "name": "python",
   "nbconvert_exporter": "python",
   "pygments_lexer": "ipython3",
   "version": "3.8.9"
  }
 },
 "nbformat": 4,
 "nbformat_minor": 2
}
